{
 "cells": [
  {
   "cell_type": "markdown",
   "metadata": {},
   "source": [
    "# Marian notebook\n",
    "\n",
    "\n",
    "https://towardsdatascience.com/normalization-vs-standardization-quantitative-analysis-a91e8a79cebf\n",
    "https://www.kaggle.com/code/junkal/selecting-the-best-regression-model\n",
    "\n"
   ]
  },
  {
   "cell_type": "markdown",
   "metadata": {},
   "source": [
    "Load la data comme dans baseline\n"
   ]
  },
  {
   "cell_type": "code",
   "execution_count": 2,
   "metadata": {},
   "outputs": [
    {
     "name": "stderr",
     "output_type": "stream",
     "text": [
      "c:\\Users\\maria\\anaconda3\\lib\\site-packages\\xgboost\\compat.py:36: FutureWarning: pandas.Int64Index is deprecated and will be removed from pandas in a future version. Use pandas.Index with the appropriate dtype instead.\n",
      "  from pandas import MultiIndex, Int64Index\n",
      "[nltk_data] Downloading package stopwords to\n",
      "[nltk_data]     C:\\Users\\maria\\AppData\\Roaming\\nltk_data...\n",
      "[nltk_data]   Package stopwords is already up-to-date!\n"
     ]
    },
    {
     "data": {
      "text/html": [
       "<div>\n",
       "<style scoped>\n",
       "    .dataframe tbody tr th:only-of-type {\n",
       "        vertical-align: middle;\n",
       "    }\n",
       "\n",
       "    .dataframe tbody tr th {\n",
       "        vertical-align: top;\n",
       "    }\n",
       "\n",
       "    .dataframe thead th {\n",
       "        text-align: right;\n",
       "    }\n",
       "</style>\n",
       "<table border=\"1\" class=\"dataframe\">\n",
       "  <thead>\n",
       "    <tr style=\"text-align: right;\">\n",
       "      <th></th>\n",
       "      <th>text</th>\n",
       "      <th>favorites_count</th>\n",
       "      <th>followers_count</th>\n",
       "      <th>statuses_count</th>\n",
       "      <th>friends_count</th>\n",
       "      <th>mentions</th>\n",
       "      <th>urls</th>\n",
       "      <th>verified</th>\n",
       "      <th>hashtags</th>\n",
       "      <th>timestamp</th>\n",
       "      <th>TweetID</th>\n",
       "    </tr>\n",
       "  </thead>\n",
       "  <tbody>\n",
       "    <tr>\n",
       "      <th>37857</th>\n",
       "      <td>rt propos choquant part candidat stagiaires</td>\n",
       "      <td>0</td>\n",
       "      <td>10010</td>\n",
       "      <td>892820</td>\n",
       "      <td>5647</td>\n",
       "      <td>[]</td>\n",
       "      <td>[]</td>\n",
       "      <td>0</td>\n",
       "      <td>['zemmour', 'presidentielles2022', 'entreprises']</td>\n",
       "      <td>1646971823000</td>\n",
       "      <td>927516</td>\n",
       "    </tr>\n",
       "    <tr>\n",
       "      <th>169760</th>\n",
       "      <td>rt macron mec vendu armes pointe poutine viola...</td>\n",
       "      <td>0</td>\n",
       "      <td>17883</td>\n",
       "      <td>50369</td>\n",
       "      <td>4053</td>\n",
       "      <td>[]</td>\n",
       "      <td>[]</td>\n",
       "      <td>0</td>\n",
       "      <td>[]</td>\n",
       "      <td>1647285309000</td>\n",
       "      <td>1121506</td>\n",
       "    </tr>\n",
       "    <tr>\n",
       "      <th>313976</th>\n",
       "      <td>retweete mourir faim peuple gilbert perrincite...</td>\n",
       "      <td>0</td>\n",
       "      <td>1735</td>\n",
       "      <td>29662</td>\n",
       "      <td>5001</td>\n",
       "      <td>[]</td>\n",
       "      <td>['https://t.co/flmd5dqwfl']</td>\n",
       "      <td>0</td>\n",
       "      <td>[]</td>\n",
       "      <td>1646900368000</td>\n",
       "      <td>916095</td>\n",
       "    </tr>\n",
       "    <tr>\n",
       "      <th>79597</th>\n",
       "      <td>rt gauche libérale terminé</td>\n",
       "      <td>0</td>\n",
       "      <td>4296</td>\n",
       "      <td>790752</td>\n",
       "      <td>1</td>\n",
       "      <td>[]</td>\n",
       "      <td>[]</td>\n",
       "      <td>0</td>\n",
       "      <td>['melenchon2dtour']</td>\n",
       "      <td>1647456722000</td>\n",
       "      <td>75212</td>\n",
       "    </tr>\n",
       "    <tr>\n",
       "      <th>105127</th>\n",
       "      <td>choisir pen mélenchon choisirait pen bourgeois...</td>\n",
       "      <td>0</td>\n",
       "      <td>400</td>\n",
       "      <td>19170</td>\n",
       "      <td>276</td>\n",
       "      <td>[]</td>\n",
       "      <td>['https://t.co/jfr8wtuil8']</td>\n",
       "      <td>0</td>\n",
       "      <td>['presidentielle2022', 'enthoven', 'melenchon']</td>\n",
       "      <td>1647631463000</td>\n",
       "      <td>1131272</td>\n",
       "    </tr>\n",
       "  </tbody>\n",
       "</table>\n",
       "</div>"
      ],
      "text/plain": [
       "                                                     text  favorites_count  \\\n",
       "37857         rt propos choquant part candidat stagiaires                0   \n",
       "169760  rt macron mec vendu armes pointe poutine viola...                0   \n",
       "313976  retweete mourir faim peuple gilbert perrincite...                0   \n",
       "79597                          rt gauche libérale terminé                0   \n",
       "105127  choisir pen mélenchon choisirait pen bourgeois...                0   \n",
       "\n",
       "        followers_count  statuses_count  friends_count mentions  \\\n",
       "37857             10010          892820           5647       []   \n",
       "169760            17883           50369           4053       []   \n",
       "313976             1735           29662           5001       []   \n",
       "79597              4296          790752              1       []   \n",
       "105127              400           19170            276       []   \n",
       "\n",
       "                               urls  verified  \\\n",
       "37857                            []         0   \n",
       "169760                           []         0   \n",
       "313976  ['https://t.co/flmd5dqwfl']         0   \n",
       "79597                            []         0   \n",
       "105127  ['https://t.co/jfr8wtuil8']         0   \n",
       "\n",
       "                                                 hashtags      timestamp  \\\n",
       "37857   ['zemmour', 'presidentielles2022', 'entreprises']  1646971823000   \n",
       "169760                                                 []  1647285309000   \n",
       "313976                                                 []  1646900368000   \n",
       "79597                                 ['melenchon2dtour']  1647456722000   \n",
       "105127    ['presidentielle2022', 'enthoven', 'melenchon']  1647631463000   \n",
       "\n",
       "        TweetID  \n",
       "37857    927516  \n",
       "169760  1121506  \n",
       "313976   916095  \n",
       "79597     75212  \n",
       "105127  1131272  "
      ]
     },
     "execution_count": 2,
     "metadata": {},
     "output_type": "execute_result"
    }
   ],
   "source": [
    "import csv\n",
    "import numpy as np\n",
    "import pandas as pd\n",
    "from sklearn.ensemble import GradientBoostingRegressor\n",
    "from sklearn.ensemble import RandomForestRegressor\n",
    "from sklearn.linear_model import Lasso\n",
    "\n",
    "\n",
    "\n",
    "\n",
    "\n",
    "from sklearn.dummy import DummyRegressor\n",
    "from sklearn.feature_extraction.text import TfidfVectorizer\n",
    "from sklearn.metrics import mean_absolute_error\n",
    "from verstack.stratified_continuous_split import scsplit # pip install verstack\n",
    "import nltk# cant't find the stopword corpus otherwise\n",
    "nltk.download('stopwords')\n",
    "from nltk.corpus import stopwords \n",
    "\n",
    "import matplotlib.pyplot as plt\n",
    "\n",
    "\n",
    "\n",
    "# Load the training data\n",
    "train_data = pd.read_csv(\"data/train.csv\")\n",
    "\n",
    "# Load the evaluation data\n",
    "eval_data = pd.read_csv(\"data/evaluation.csv\")\n",
    "\n",
    "\n",
    "# Here we split our training data into trainig and testing set. This way we can estimate the evaluation of our model without uploading to Kaggle and avoid overfitting over our evaluation dataset.\n",
    "# scsplit method is used in order to split our regression data in a stratisfied way and keep a similar distribution of retweet counts between the two sets\n",
    "X_train, X_test, y_train, y_test = scsplit(train_data, train_data['retweets_count'], stratify=train_data['retweets_count'], train_size=0.7, test_size=0.3)\n",
    "# We remove the actual number of retweets from our features since it is the value that we are trying to predict\n",
    "X_train = X_train.drop(['retweets_count'], axis=1)\n",
    "X_test = X_test.drop(['retweets_count'], axis=1)\n",
    "\n",
    "# You can examine the available features using X_train.head()\n",
    "X_train.head()#le premier numero correspond au no de la ligne dans le csv\n",
    "\n"
   ]
  },
  {
   "cell_type": "markdown",
   "metadata": {},
   "source": [
    "# Data cleaning\n"
   ]
  },
  {
   "cell_type": "markdown",
   "metadata": {},
   "source": [
    "Feature selection\n",
    "- mentions is always empty -> DROP Mention\n",
    "- url -> can't be used as plain text -> should count the number of URLs in URLs_count\n",
    "- hashtags -> first: count the number of hashtags in hashtags_count-> hashtag count is not relevant: small correlation with target + make RF score increase\n",
    "            -> second: \n",
    "- remove tweetID -> TO DO"
   ]
  },
  {
   "cell_type": "markdown",
   "metadata": {},
   "source": [
    "# Data processing\n"
   ]
  },
  {
   "cell_type": "markdown",
   "metadata": {},
   "source": [
    "To do:\n",
    "- data normalization\n",
    "- feature extraction and selection"
   ]
  },
  {
   "cell_type": "markdown",
   "metadata": {},
   "source": [
    "Contenu texte du tweet: NAN?????"
   ]
  },
  {
   "cell_type": "markdown",
   "metadata": {},
   "source": [
    "Autres features vectorisées"
   ]
  },
  {
   "cell_type": "code",
   "execution_count": 3,
   "metadata": {},
   "outputs": [],
   "source": [
    "#mentions is always empty -> DROP Mention\n",
    "\n",
    "X_train = X_train.drop(['mentions'], axis=1)\n",
    "X_test = X_test.drop(['mentions'], axis=1)\n",
    "\n",
    "#Tweet id is not relevant -> DROP Tweet id\n",
    "X_train = X_train.drop(['TweetID'], axis=1)\n",
    "X_test = X_test.drop(['TweetID'], axis=1)\n",
    "\n",
    "\n",
    "#add a column to data which counts url\n",
    "X_train['url_count'] = X_train['urls'].str.count('http')\n",
    "X_test['url_count'] = X_test['urls'].str.count('http')\n",
    "X_train = X_train.drop(['urls'], axis=1)\n",
    "X_test = X_test.drop(['urls'], axis=1)\n",
    "\n",
    "#drop the text column\n",
    "X_train = X_train.drop(['text'], axis=1)\n",
    "X_test = X_test.drop(['text'], axis=1)\n",
    "#frop hashtags\n",
    "X_train = X_train.drop(['hashtags'], axis=1)\n",
    "X_test = X_test.drop(['hashtags'], axis=1)\n",
    "\n",
    "\n",
    "#add followers/friends\n",
    "X_train['followers_friends'] = X_train['followers_count'] / \\\n",
    "        (X_train['friends_count'].apply(lambda x: x+1))\n",
    "X_test['followers_friends'] = X_test['followers_count'] / \\\n",
    "        (X_test['friends_count'].apply(lambda x: x+1))  \n",
    "\n",
    "\n",
    "\n",
    "\n"
   ]
  },
  {
   "cell_type": "markdown",
   "metadata": {},
   "source": [
    "# Data visualization and selection"
   ]
  },
  {
   "cell_type": "markdown",
   "metadata": {},
   "source": [
    "Source: https://amueller.github.io/aml/05-advanced-topics/12-feature-selection.html\n"
   ]
  },
  {
   "cell_type": "markdown",
   "metadata": {},
   "source": [
    "#### Supervised 2\n",
    "Mutual information\n",
    "\n",
    "Source: \n",
    "https://machinelearningmastery.com/feature-selection-for-regression-data/"
   ]
  },
  {
   "cell_type": "markdown",
   "metadata": {},
   "source": [
    "\n",
    "# example of mutual information feature selection for numerical input data\n",
    "from sklearn.datasets import make_regression\n",
    "from sklearn.model_selection import train_test_split\n",
    "from sklearn.feature_selection import SelectKBest\n",
    "from sklearn.feature_selection import mutual_info_regression\n",
    "from matplotlib import pyplot\n",
    "\n",
    "\n",
    "\n",
    "\n",
    "# configure to select all features\n",
    "fs = SelectKBest(score_func=mutual_info_regression, k='all')\n",
    "# learn relationship from training data\n",
    "fs.fit(X_train, y_train)\n",
    "for i in range(len(fs.scores_)):\n",
    "\t#print name feature i, score\n",
    "\tprint( X_train.columns[i], fs.scores_[i])\n",
    "\n",
    "\n"
   ]
  },
  {
   "cell_type": "markdown",
   "metadata": {},
   "source": [
    "## RANDOM FOREEEST\n",
    "\n",
    "source for feature selection: https://amueller.github.io/aml/05-advanced-topics/12-feature-selection.html\n",
    "\n",
    "Feature selection  for random forest\n"
   ]
  },
  {
   "cell_type": "markdown",
   "metadata": {},
   "source": [
    "reg2 = RandomForestRegressor() \n",
    "\n",
    "\n",
    "from sklearn.feature_selection import RFE\n",
    "for i in range(1, len(X_train.columns)+1):\n",
    "    select = RFE(reg2,n_features_to_select=i)\n",
    "    select.fit(X_train, y_train)\n",
    "    #print selected features\n",
    "    print(X_train.columns[select.support_])\n",
    "\n",
    "    #print mean absolute error\n",
    "    y_pred=select.predict(X_test)\n",
    "    y_pred = [int(value) if value >= 0 else 0 for value in y_pred]\n",
    "    print(i,'features: Prediction error Random Forest:',mean_absolute_error(y_test, y_pred))\n",
    "\n",
    "\n",
    "\n",
    "#20 min per features number\n",
    "\n"
   ]
  },
  {
   "cell_type": "markdown",
   "metadata": {},
   "source": [
    "Index(['favorites_count'], dtype='object')\n",
    "1 features: Prediction error Random Forest: 8.134917271708526\n",
    "\n",
    "Index(['favorites_count', 'timestamp'], dtype='object')\n",
    "2 features: Prediction error Random Forest: 6.82604928854611\n",
    "\n",
    "Index(['favorites_count', 'followers_count', 'timestamp'], dtype='object')\n",
    "3 features: Prediction error Random Forest: 6.569370285617425\n",
    "\n",
    "Index(['favorites_count', 'followers_count', 'statuses_count', 'timestamp'], dtype='object')\n",
    "4 features: Prediction error Random Forest: 6.490728969498357\n",
    "\n",
    "Index(['favorites_count', 'followers_count', 'statuses_count', 'friends_count',\n",
    "       'timestamp'],\n",
    "      dtype='object')\n",
    "5 features: Prediction error Random Forest: 6.362526014445669\n",
    "\n",
    "Index(['favorites_count', 'followers_count', 'statuses_count', 'friends_count',\n",
    "       'timestamp', 'url_count'],\n",
    "      dtype='object')\n",
    "6 features: Prediction error Random Forest: 6.212918232241904\n",
    "Index(['favorites_count', 'followers_count', 'statuses_count', 'friends_count',\n",
    "       'verified', 'timestamp', 'url_count'],\n",
    "      dtype='object')\n",
    "7 features: Prediction error Random Forest: 6.1723498224896645\n",
    "\n",
    "Index(['favorites_count', 'followers_count', 'statuses_count', 'friends_count',\n",
    "       'verified', 'timestamp', 'url_count', 'hashtag_count'],\n",
    "      dtype='object')\n",
    "8 features: Prediction error Random Forest: 6.234285391417352"
   ]
  },
  {
   "cell_type": "code",
   "execution_count": 4,
   "metadata": {},
   "outputs": [
    {
     "data": {
      "text/html": [
       "<div>\n",
       "<style scoped>\n",
       "    .dataframe tbody tr th:only-of-type {\n",
       "        vertical-align: middle;\n",
       "    }\n",
       "\n",
       "    .dataframe tbody tr th {\n",
       "        vertical-align: top;\n",
       "    }\n",
       "\n",
       "    .dataframe thead th {\n",
       "        text-align: right;\n",
       "    }\n",
       "</style>\n",
       "<table border=\"1\" class=\"dataframe\">\n",
       "  <thead>\n",
       "    <tr style=\"text-align: right;\">\n",
       "      <th></th>\n",
       "      <th>favorites_count</th>\n",
       "      <th>followers_count</th>\n",
       "      <th>statuses_count</th>\n",
       "      <th>friends_count</th>\n",
       "      <th>verified</th>\n",
       "      <th>timestamp</th>\n",
       "      <th>url_count</th>\n",
       "      <th>followers_friends</th>\n",
       "    </tr>\n",
       "  </thead>\n",
       "  <tbody>\n",
       "    <tr>\n",
       "      <th>37857</th>\n",
       "      <td>0</td>\n",
       "      <td>10010</td>\n",
       "      <td>892820</td>\n",
       "      <td>5647</td>\n",
       "      <td>0</td>\n",
       "      <td>1646971823000</td>\n",
       "      <td>0</td>\n",
       "      <td>1.772309</td>\n",
       "    </tr>\n",
       "    <tr>\n",
       "      <th>169760</th>\n",
       "      <td>0</td>\n",
       "      <td>17883</td>\n",
       "      <td>50369</td>\n",
       "      <td>4053</td>\n",
       "      <td>0</td>\n",
       "      <td>1647285309000</td>\n",
       "      <td>0</td>\n",
       "      <td>4.411199</td>\n",
       "    </tr>\n",
       "    <tr>\n",
       "      <th>313976</th>\n",
       "      <td>0</td>\n",
       "      <td>1735</td>\n",
       "      <td>29662</td>\n",
       "      <td>5001</td>\n",
       "      <td>0</td>\n",
       "      <td>1646900368000</td>\n",
       "      <td>1</td>\n",
       "      <td>0.346861</td>\n",
       "    </tr>\n",
       "    <tr>\n",
       "      <th>79597</th>\n",
       "      <td>0</td>\n",
       "      <td>4296</td>\n",
       "      <td>790752</td>\n",
       "      <td>1</td>\n",
       "      <td>0</td>\n",
       "      <td>1647456722000</td>\n",
       "      <td>0</td>\n",
       "      <td>2148.000000</td>\n",
       "    </tr>\n",
       "    <tr>\n",
       "      <th>105127</th>\n",
       "      <td>0</td>\n",
       "      <td>400</td>\n",
       "      <td>19170</td>\n",
       "      <td>276</td>\n",
       "      <td>0</td>\n",
       "      <td>1647631463000</td>\n",
       "      <td>1</td>\n",
       "      <td>1.444043</td>\n",
       "    </tr>\n",
       "  </tbody>\n",
       "</table>\n",
       "</div>"
      ],
      "text/plain": [
       "        favorites_count  followers_count  statuses_count  friends_count  \\\n",
       "37857                 0            10010          892820           5647   \n",
       "169760                0            17883           50369           4053   \n",
       "313976                0             1735           29662           5001   \n",
       "79597                 0             4296          790752              1   \n",
       "105127                0              400           19170            276   \n",
       "\n",
       "        verified      timestamp  url_count  followers_friends  \n",
       "37857          0  1646971823000          0           1.772309  \n",
       "169760         0  1647285309000          0           4.411199  \n",
       "313976         0  1646900368000          1           0.346861  \n",
       "79597          0  1647456722000          0        2148.000000  \n",
       "105127         0  1647631463000          1           1.444043  "
      ]
     },
     "execution_count": 4,
     "metadata": {},
     "output_type": "execute_result"
    }
   ],
   "source": [
    "X_train.head()"
   ]
  },
  {
   "cell_type": "code",
   "execution_count": 5,
   "metadata": {},
   "outputs": [],
   "source": [
    "\n",
    "col= ['followers_count', 'friends_count','statuses_count', 'favorites_count','verified', 'followers/friends', 'url_count','timestamp']\n",
    "\t\t\t\t\t\t\t\t\n",
    "\n",
    "\n",
    "remove=['verified']\n",
    "\n",
    "\n"
   ]
  },
  {
   "cell_type": "code",
   "execution_count": 1,
   "metadata": {},
   "outputs": [
    {
     "name": "stderr",
     "output_type": "stream",
     "text": [
      "c:\\Users\\maria\\anaconda3\\lib\\site-packages\\xgboost\\compat.py:36: FutureWarning: pandas.Int64Index is deprecated and will be removed from pandas in a future version. Use pandas.Index with the appropriate dtype instead.\n",
      "  from pandas import MultiIndex, Int64Index\n"
     ]
    },
    {
     "ename": "NameError",
     "evalue": "name 'X_train' is not defined",
     "output_type": "error",
     "traceback": [
      "\u001b[1;31m---------------------------------------------------------------------------\u001b[0m",
      "\u001b[1;31mNameError\u001b[0m                                 Traceback (most recent call last)",
      "\u001b[1;32md:\\Projet  INF554\\INF554_kaggle\\Marian.ipynb Cellule 20\u001b[0m in \u001b[0;36m<cell line: 14>\u001b[1;34m()\u001b[0m\n\u001b[0;32m      <a href='vscode-notebook-cell:/d%3A/Projet%20%20INF554/INF554_kaggle/Marian.ipynb#X50sZmlsZQ%3D%3D?line=1'>2</a>\u001b[0m automl \u001b[39m=\u001b[39m AutoML()\n\u001b[0;32m      <a href='vscode-notebook-cell:/d%3A/Projet%20%20INF554/INF554_kaggle/Marian.ipynb#X50sZmlsZQ%3D%3D?line=3'>4</a>\u001b[0m settings \u001b[39m=\u001b[39m {\n\u001b[0;32m      <a href='vscode-notebook-cell:/d%3A/Projet%20%20INF554/INF554_kaggle/Marian.ipynb#X50sZmlsZQ%3D%3D?line=4'>5</a>\u001b[0m     \u001b[39m\"\u001b[39m\u001b[39mtime_budget\u001b[39m\u001b[39m\"\u001b[39m: \u001b[39m300\u001b[39m,  \u001b[39m# total running time in seconds\u001b[39;00m\n\u001b[0;32m      <a href='vscode-notebook-cell:/d%3A/Projet%20%20INF554/INF554_kaggle/Marian.ipynb#X50sZmlsZQ%3D%3D?line=5'>6</a>\u001b[0m     \u001b[39m\"\u001b[39m\u001b[39mmetric\u001b[39m\u001b[39m\"\u001b[39m: \u001b[39m'\u001b[39m\u001b[39mmae\u001b[39m\u001b[39m'\u001b[39m,  \u001b[39m# can be: 'r2', 'rmse', 'mae', 'mse', 'accuracy', 'roc_auc', 'roc_auc_ovr',\u001b[39;00m\n\u001b[1;32m   (...)\u001b[0m\n\u001b[0;32m     <a href='vscode-notebook-cell:/d%3A/Projet%20%20INF554/INF554_kaggle/Marian.ipynb#X50sZmlsZQ%3D%3D?line=10'>11</a>\u001b[0m     \u001b[39m\"\u001b[39m\u001b[39mseed\u001b[39m\u001b[39m\"\u001b[39m: \u001b[39m7654321\u001b[39m,    \u001b[39m# random seed\u001b[39;00m\n\u001b[0;32m     <a href='vscode-notebook-cell:/d%3A/Projet%20%20INF554/INF554_kaggle/Marian.ipynb#X50sZmlsZQ%3D%3D?line=11'>12</a>\u001b[0m }\n\u001b[1;32m---> <a href='vscode-notebook-cell:/d%3A/Projet%20%20INF554/INF554_kaggle/Marian.ipynb#X50sZmlsZQ%3D%3D?line=13'>14</a>\u001b[0m automl\u001b[39m.\u001b[39mfit(X_train\u001b[39m.\u001b[39mdrop(remove, axis\u001b[39m=\u001b[39m\u001b[39m1\u001b[39m), y_train, \u001b[39m*\u001b[39m\u001b[39m*\u001b[39msettings)\n\u001b[0;32m     <a href='vscode-notebook-cell:/d%3A/Projet%20%20INF554/INF554_kaggle/Marian.ipynb#X50sZmlsZQ%3D%3D?line=14'>15</a>\u001b[0m \u001b[39m# Print the best model\u001b[39;00m\n\u001b[0;32m     <a href='vscode-notebook-cell:/d%3A/Projet%20%20INF554/INF554_kaggle/Marian.ipynb#X50sZmlsZQ%3D%3D?line=15'>16</a>\u001b[0m \u001b[39mprint\u001b[39m(automl\u001b[39m.\u001b[39mmodel\u001b[39m.\u001b[39mestimator)\n",
      "\u001b[1;31mNameError\u001b[0m: name 'X_train' is not defined"
     ]
    }
   ],
   "source": [
    "from flaml import AutoML\n",
    "automl = AutoML()\n",
    "\n",
    "settings = {\n",
    "    \"time_budget\": 300,  # total running time in seconds\n",
    "    \"metric\": 'mae',  # can be: 'r2', 'rmse', 'mae', 'mse', 'accuracy', 'roc_auc', 'roc_auc_ovr',\n",
    "    # 'roc_auc_ovo', 'log_loss', 'mape', 'f1', 'ap', 'ndcg', 'micro_f1', 'macro_f1'\n",
    "    \"task\": 'regression',  # task type\n",
    "    # ['lgbm', 'rf', 'xgboost', 'extra_tree', 'xgb_limitdepth']\n",
    "    'estimator_list': ['rf'],\n",
    "    \"seed\": 7654321,    # random seed\n",
    "}\n",
    "\n",
    "automl.fit(X_train.drop(remove, axis=1), y_train, **settings)\n",
    "# Print the best model\n",
    "print(automl.model.estimator)"
   ]
  },
  {
   "cell_type": "code",
   "execution_count": 7,
   "metadata": {},
   "outputs": [],
   "source": [
    "from sklearn.ensemble import RandomForestRegressor\n",
    "reg1 = RandomForestRegressor(max_features=0.8112248359805823, max_leaf_nodes=7086,\n",
    "                      n_estimators=33, n_jobs=-1,criterion='absolute_error')\n",
    "# We fit our model using the training data\n",
    "reg1.fit(X_train.drop(remove,axis=1), y_train)\n",
    "# And then we predict the values for our testing set\n",
    "y_pred = reg1.predict(X_test.drop(remove,axis=1))\n",
    "# We want to make sure that all predictions are non-negative integers\n",
    "y_pred = [round(value) if value >= 0 else 0 for value in y_pred]\n",
    "\n",
    "print(\"Prediction error :\", mean_absolute_error(y_true=y_test, y_pred=y_pred))"
   ]
  }
 ],
 "metadata": {
  "kernelspec": {
   "display_name": "Python 3 (ipykernel)",
   "language": "python",
   "name": "python3"
  },
  "language_info": {
   "codemirror_mode": {
    "name": "ipython",
    "version": 3
   },
   "file_extension": ".py",
   "mimetype": "text/x-python",
   "name": "python",
   "nbconvert_exporter": "python",
   "pygments_lexer": "ipython3",
   "version": "3.9.12"
  },
  "vscode": {
   "interpreter": {
    "hash": "ca02d05c83cb06a4d3d1bb3c2ad95bd9ee4b26f688526444572dc942a69d580d"
   }
  }
 },
 "nbformat": 4,
 "nbformat_minor": 2
}
