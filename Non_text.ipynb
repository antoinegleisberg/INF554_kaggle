{
 "cells": [
  {
   "cell_type": "markdown",
   "metadata": {},
   "source": [
    "# Models for non_text features\n",
    "\n",
    "TO DO:\n",
    "- remove outliers: DONE\n",
    "- New features: ajout nouvelles features: ratio, log ..\n",
    "- Features selection: \n",
    "-> use RFE (like in paper \"retweet prediction page 7) to show importance of each feature for the MinMax Scaler, this for all models(no useful but make a beautiful plot for the report)\n",
    "\n",
    "-> identify top features with correlation matrix and Gini index, run all models\n",
    "-> run all models with different PCA\n",
    "\n",
    "-> Identify top model\n",
    "\n",
    "- Hyperparameter tuning: for top 1 model\n",
    "\n",
    "\n",
    "\n",
    "- réseau neurone: test deep learning models with pytorch"
   ]
  },
  {
   "cell_type": "code",
   "execution_count": 1,
   "metadata": {},
   "outputs": [
    {
     "name": "stderr",
     "output_type": "stream",
     "text": [
      "c:\\Users\\maria\\anaconda3\\lib\\site-packages\\xgboost\\compat.py:36: FutureWarning: pandas.Int64Index is deprecated and will be removed from pandas in a future version. Use pandas.Index with the appropriate dtype instead.\n",
      "  from pandas import MultiIndex, Int64Index\n"
     ]
    }
   ],
   "source": [
    "import csv\n",
    "import numpy as np\n",
    "import pandas as pd\n",
    "import matplotlib.pyplot as plt\n",
    "import sns as sns\n",
    "\n",
    "from sklearn.metrics import mean_absolute_error\n",
    "from verstack.stratified_continuous_split import scsplit # pip install verstack\n",
    "\n",
    "\n"
   ]
  },
  {
   "cell_type": "markdown",
   "metadata": {},
   "source": [
    "# Data"
   ]
  },
  {
   "cell_type": "code",
   "execution_count": 20,
   "metadata": {},
   "outputs": [],
   "source": [
    "# Load the training data\n",
    "train_data = pd.read_csv(\"data/train.csv\")\n",
    "\n",
    "# Load the evaluation data\n",
    "eval_data = pd.read_csv(\"data/evaluation.csv\")\n",
    "\n",
    "\n"
   ]
  },
  {
   "cell_type": "markdown",
   "metadata": {},
   "source": [
    "# Remove outliers\n",
    "\n",
    "TO DO\n",
    "\n"
   ]
  },
  {
   "cell_type": "code",
   "execution_count": 21,
   "metadata": {},
   "outputs": [
    {
     "data": {
      "image/png": "[encoded data removed]",
      "text/plain": [
       "<Figure size 1440x720 with 1 Axes>"
      ]
     },
     "metadata": {
      "needs_background": "light"
     },
     "output_type": "display_data"
    }
   ],
   "source": [
    "#show outliers\n",
    "plt.rcParams['figure.figsize'] = [20, 10]\n",
    "train_data.boxplot(column=['followers_count', 'friends_count', 'favorites_count', 'statuses_count'])\n",
    "#increase size\n",
    "plt.rcParams['figure.figsize'] = [20, 10]\n",
    "train_data.boxplot(column=[ 'retweets_count'])\n",
    "plt.show()\n",
    "\n",
    "# remove outliers with quartile\n",
    "def remove_outliers(df, col):\n",
    "    q1 = df[col].quantile(0.25)\n",
    "    q3 = df[col].quantile(0.75)\n",
    "    iqr = q3 - q1\n",
    "    df = df[(df[col] >= q1 - 3 * iqr) & (df[col] <= q3 + 3 * iqr)]\n",
    "    return df\n",
    "\n",
    "train_data = remove_outliers(train_data, 'followers_count')\n",
    "train_data = remove_outliers(train_data, 'friends_count')\n",
    "train_data = remove_outliers(train_data, 'favorites_count')\n",
    "train_data = remove_outliers(train_data, 'statuses_count')\n",
    "train_data = remove_outliers(train_data, 'retweets_count')\n",
    "#reset index\n",
    "train_data = train_data.reset_index(drop=True)\n",
    "\n",
    "\n",
    "# see 1-s2.0-S1877050920304129-main.pdf p3"
   ]
  },
  {
   "cell_type": "markdown",
   "metadata": {},
   "source": [
    "# Splitting"
   ]
  },
  {
   "cell_type": "code",
   "execution_count": 22,
   "metadata": {},
   "outputs": [],
   "source": [
    "# Here we split our training data into trainig and testing set. This way we can estimate the evaluation of our model without uploading to Kaggle and avoid overfitting over our evaluation dataset.\n",
    "# scsplit method is used in order to split our regression data in a stratisfied way and keep a similar distribution of retweet counts between the two sets\n",
    "X_train, X_test, y_train, y_test = scsplit(train_data, train_data['retweets_count'], stratify=train_data['retweets_count'], train_size=0.7, test_size=0.3)\n"
   ]
  },
  {
   "cell_type": "markdown",
   "metadata": {},
   "source": [
    "# Data cleaning"
   ]
  },
  {
   "cell_type": "code",
   "execution_count": 23,
   "metadata": {},
   "outputs": [],
   "source": [
    "#mentions is always empty -> DROP Mention\n",
    "\n",
    "X_train = X_train.drop(['mentions'], axis=1)\n",
    "X_test = X_test.drop(['mentions'], axis=1)\n",
    "\n",
    "#Tweet id is not relevant -> DROP Tweet id\n",
    "X_train = X_train.drop(['TweetID'], axis=1)\n",
    "X_test = X_test.drop(['TweetID'], axis=1)"
   ]
  },
  {
   "cell_type": "markdown",
   "metadata": {},
   "source": [
    "\n",
    "# New Features"
   ]
  },
  {
   "cell_type": "code",
   "execution_count": 24,
   "metadata": {},
   "outputs": [],
   "source": [
    "#add a column to data which counts url\n",
    "X_train['url_count'] = X_train['urls'].str.count('http')\n",
    "X_test['url_count'] = X_test['urls'].str.count('http')\n",
    "X_train = X_train.drop(['urls'], axis=1)\n",
    "X_test = X_test.drop(['urls'], axis=1)\n",
    "\n",
    "# add a column to data which counts the number of hashtags\n",
    "X_train['hashtag_count'] = X_train['hashtags'].str.count('#')\n",
    "X_test['hashtag_count'] = X_test['hashtags'].str.count('#')\n",
    "X_train = X_train.drop(['hashtags'], axis=1)\n",
    "X_test = X_test.drop(['hashtags'], axis=1)\n",
    "\n",
    "#add a column to data which makes followers/friends\n",
    "X_train['followers_friends'] = X_train['followers_count'] / X_train['friends_count']\n",
    "X_test['followers_friends'] = X_test['followers_count'] / X_test['friends_count']\n",
    "\n",
    "#add a column\n",
    "#number of characters in the tweet\n",
    "X_train_length = X_train['text'].apply(lambda x: len(x))\n",
    "X_test_length = X_test['text'].apply(lambda x: len(x))\n",
    "#x_train_doc to df\n",
    "X_train_length = pd.DataFrame(X_train_length.values.tolist())\n",
    "X_test_length = pd.DataFrame(X_test_length.values.tolist())\n",
    "#drop the text column\n",
    "X_train = X_train.drop(['text'], axis=1)\n",
    "X_test = X_test.drop(['text'], axis=1)\n"
   ]
  },
  {
   "cell_type": "markdown",
   "metadata": {},
   "source": [
    "# Features selection"
   ]
  },
  {
   "cell_type": "markdown",
   "metadata": {},
   "source": [
    "### Pipeline example"
   ]
  },
  {
   "cell_type": "code",
   "execution_count": null,
   "metadata": {},
   "outputs": [],
   "source": [
    "from sklearn.linear_model import LinearRegression\n",
    "from sklearn.linear_model import Lasso\n",
    "from sklearn.linear_model import ElasticNet\n",
    "from sklearn.tree import DecisionTreeRegressor\n",
    "from sklearn.neighbors import KNeighborsRegressor\n",
    "from sklearn.ensemble import GradientBoostingRegressor\n",
    "from sklearn.ensemble import RandomForestRegressor\n",
    "from sklearn.neural_network import MLPRegressor"
   ]
  },
  {
   "cell_type": "code",
   "execution_count": null,
   "metadata": {},
   "outputs": [
    {
     "name": "stdout",
     "output_type": "stream",
     "text": [
      "ScaledLR: -10.538812 (0.886428)\n",
      "ScaledLASSO: -10.124824 (0.953406)\n",
      "ScaledEN: -13.899756 (1.088446)\n",
      "ScaledKNN: -7.218124 (0.799233)\n",
      "ScaledCART: -8.597397 (0.835062)\n",
      "ScaledGBM: -6.802502 (0.651244)\n",
      "ScaledRF: -6.391916 (0.703740)\n",
      "ScaledMLP: -8.864348 (0.715103)\n"
     ]
    }
   ],
   "source": [
    "\n",
    "from sklearn.model_selection import cross_val_score\n",
    "from sklearn.model_selection import KFold\n",
    "from sklearn.pipeline import Pipeline\n",
    "from sklearn.preprocessing import StandardScaler\n",
    " \n",
    "\n",
    "\n",
    "pipelines = []\n",
    "pipelines.append(('ScaledLR', Pipeline([('Scaler', StandardScaler()),('LR',LinearRegression())])))\n",
    "pipelines.append(('ScaledLASSO', Pipeline([('Scaler', StandardScaler()),('LASSO', Lasso())])))\n",
    "pipelines.append(('ScaledEN', Pipeline([('Scaler', StandardScaler()),('EN', ElasticNet())])))\n",
    "pipelines.append(('ScaledKNN', Pipeline([('Scaler', StandardScaler()),('KNN', KNeighborsRegressor())])))\n",
    "pipelines.append(('ScaledCART', Pipeline([('Scaler', StandardScaler()),('CART', DecisionTreeRegressor())])))\n",
    "pipelines.append(('ScaledGBM', Pipeline([('Scaler', StandardScaler()),('GBM', GradientBoostingRegressor())])))\n",
    "pipelines.append(('ScaledRF', Pipeline([('Scaler', StandardScaler()),('RF', RandomForestRegressor(n_estimators=10))])))\n",
    "pipelines.append(('ScaledMLP', Pipeline([('Scaler', StandardScaler()),('MLP', MLPRegressor())])))\n",
    "\n",
    "\n",
    "\n",
    "results = []\n",
    "names = []\n",
    "for name, model in pipelines:\n",
    "    kfold = KFold(n_splits=10)\n",
    "    cv_results = cross_val_score(model, X_train, y_train, cv=kfold, scoring='neg_mean_absolute_error')\n",
    "    results.append(cv_results)\n",
    "    names.append(name)\n",
    "    msg = \"%s: %f (%f)\" % (name, cv_results.mean(), cv_results.std())\n",
    "    print(msg)"
   ]
  },
  {
   "cell_type": "markdown",
   "metadata": {},
   "source": [
    "After 55min: StandardScaler, no extraction, no selection, add feat =url count\n",
    "- ScaledLR: -10.538812 (0.886428)\n",
    "- ScaledLASSO: -10.124824 (0.953406)\n",
    "- ScaledEN: -13.899756 (1.088446)\n",
    "- ScaledKNN: -7.218124 (0.799233)\n",
    "- ScaledCART: -8.597397 (0.835062)\n",
    "- ScaledGBM: -6.802502 (0.651244)\n",
    "- ScaledRF: -6.391916 (0.703740)\n",
    "- ScaledMLP: -8.864348 (0.715103)"
   ]
  },
  {
   "cell_type": "markdown",
   "metadata": {},
   "source": [
    " No extraction nor selection, MinMaxScaler, add feat =url count\n",
    "\n",
    "- ScaledLR: -10.433137 (0.871373)\n",
    "- ScaledLASSO: -20.037637 (1.619121)\n",
    "- ScaledEN: -26.620310 (1.340733)\n",
    "- ScaledKNN: -7.534165 (0.766204)\n",
    "- ScaledCART: -8.391123 (0.749394)\n",
    "- ScaledGBM: -6.639914 (0.724651)\n",
    "- ScaledRF: -6.230696 (0.714884)\n",
    "- ScaledMLP: -8.770942 (0.776259)\n",
    "\n",
    "\n"
   ]
  },
  {
   "cell_type": "markdown",
   "metadata": {},
   "source": [
    "Bilan: Min MaxScaler is better\n"
   ]
  },
  {
   "cell_type": "markdown",
   "metadata": {},
   "source": [
    "### Importance of features with RFE for each algo"
   ]
  },
  {
   "cell_type": "code",
   "execution_count": null,
   "metadata": {},
   "outputs": [],
   "source": [
    "#To DO"
   ]
  },
  {
   "cell_type": "markdown",
   "metadata": {},
   "source": [
    "# Feature selection"
   ]
  },
  {
   "cell_type": "markdown",
   "metadata": {},
   "source": [
    "Covariance matrix"
   ]
  },
  {
   "cell_type": "code",
   "execution_count": null,
   "metadata": {},
   "outputs": [
    {
     "ename": "NameError",
     "evalue": "name 'X_train' is not defined",
     "output_type": "error",
     "traceback": [
      "\u001b[1;31m---------------------------------------------------------------------------\u001b[0m",
      "\u001b[1;31mNameError\u001b[0m                                 Traceback (most recent call last)",
      "\u001b[1;32md:\\Projet  INF554\\INF554_kaggle\\Non_text.ipynb Cellule 22\u001b[0m in \u001b[0;36m<cell line: 2>\u001b[1;34m()\u001b[0m\n\u001b[0;32m      <a href='vscode-notebook-cell:/d%3A/Projet%20%20INF554/INF554_kaggle/Non_text.ipynb#X33sZmlsZQ%3D%3D?line=0'>1</a>\u001b[0m \u001b[39m# plot data covariance matrix for train with features labels\u001b[39;00m\n\u001b[1;32m----> <a href='vscode-notebook-cell:/d%3A/Projet%20%20INF554/INF554_kaggle/Non_text.ipynb#X33sZmlsZQ%3D%3D?line=1'>2</a>\u001b[0m cov\u001b[39m=\u001b[39mX_train\u001b[39m.\u001b[39mcorr()\n\u001b[0;32m      <a href='vscode-notebook-cell:/d%3A/Projet%20%20INF554/INF554_kaggle/Non_text.ipynb#X33sZmlsZQ%3D%3D?line=4'>5</a>\u001b[0m \u001b[39mfrom\u001b[39;00m \u001b[39mscipy\u001b[39;00m\u001b[39m.\u001b[39;00m\u001b[39mcluster\u001b[39;00m \u001b[39mimport\u001b[39;00m hierarchy\n\u001b[0;32m      <a href='vscode-notebook-cell:/d%3A/Projet%20%20INF554/INF554_kaggle/Non_text.ipynb#X33sZmlsZQ%3D%3D?line=5'>6</a>\u001b[0m order \u001b[39m=\u001b[39m np\u001b[39m.\u001b[39marray(hierarchy\u001b[39m.\u001b[39mdendrogram(\n\u001b[0;32m      <a href='vscode-notebook-cell:/d%3A/Projet%20%20INF554/INF554_kaggle/Non_text.ipynb#X33sZmlsZQ%3D%3D?line=6'>7</a>\u001b[0m     hierarchy\u001b[39m.\u001b[39mward(cov),no_plot\u001b[39m=\u001b[39m\u001b[39mFalse\u001b[39;00m)[\u001b[39m'\u001b[39m\u001b[39mivl\u001b[39m\u001b[39m'\u001b[39m], dtype\u001b[39m=\u001b[39m\u001b[39m\"\u001b[39m\u001b[39mint\u001b[39m\u001b[39m\"\u001b[39m)\n",
      "\u001b[1;31mNameError\u001b[0m: name 'X_train' is not defined"
     ]
    }
   ],
   "source": [
    "# plot data covariance matrix for train with features labels\n",
    "cov=X_train.corr()\n",
    "\n",
    "\n",
    "from scipy.cluster import hierarchy\n",
    "order = np.array(hierarchy.dendrogram(\n",
    "    hierarchy.ward(cov),no_plot=False)['ivl'], dtype=\"int\")\n",
    "\n",
    "rearranged_cov = cov.iloc[order, order]\n",
    "plt.matshow(rearranged_cov)\n",
    "plt.xticks(range(len(X_train.columns)), X_train.columns[order], rotation=90)\n",
    "plt.yticks(range(len(X_train.columns)), X_train.columns[order])\n",
    "plt.colorbar()\n",
    "plt.show()\n",
    "\n",
    "\n",
    "\n"
   ]
  },
  {
   "cell_type": "markdown",
   "metadata": {},
   "source": [
    "Correlation with target"
   ]
  },
  {
   "cell_type": "code",
   "execution_count": null,
   "metadata": {},
   "outputs": [],
   "source": [
    "#concatenate X_train and y_train\n",
    "X_train.corrwith(y_train).plot.bar(\n",
    "        #show exact values\n",
    "        figsize = (20, 10), title = \"Correlation with retweets_count\", fontsize = 15,\n",
    "        rot = 90, grid = True)\n",
    "\n",
    "plt.show()\n",
    "\n",
    "print(X_train.corrwith(y_train))\n",
    "\n"
   ]
  },
  {
   "cell_type": "markdown",
   "metadata": {},
   "source": [
    "Gini"
   ]
  },
  {
   "cell_type": "code",
   "execution_count": null,
   "metadata": {},
   "outputs": [],
   "source": [
    "#Gini information-> TO DO"
   ]
  },
  {
   "cell_type": "markdown",
   "metadata": {},
   "source": [
    "# Pipeline with selected features "
   ]
  },
  {
   "cell_type": "code",
   "execution_count": null,
   "metadata": {},
   "outputs": [],
   "source": [
    "#Test different models for each set of features selected by the gini information/feature importance"
   ]
  },
  {
   "cell_type": "markdown",
   "metadata": {},
   "source": [
    "# Pipeline with extracted features"
   ]
  }
 ],
 "metadata": {
  "kernelspec": {
   "display_name": "Python 3.9.12 ('base')",
   "language": "python",
   "name": "python3"
  },
  "language_info": {
   "codemirror_mode": {
    "name": "ipython",
    "version": 3
   },
   "file_extension": ".py",
   "mimetype": "text/x-python",
   "name": "python",
   "nbconvert_exporter": "python",
   "pygments_lexer": "ipython3",
   "version": "3.9.12"
  },
  "orig_nbformat": 4,
  "vscode": {
   "interpreter": {
    "hash": "ca02d05c83cb06a4d3d1bb3c2ad95bd9ee4b26f688526444572dc942a69d580d"
   }
  }
 },
 "nbformat": 4,
 "nbformat_minor": 2
}
