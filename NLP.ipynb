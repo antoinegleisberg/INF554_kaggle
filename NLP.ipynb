{
 "cells": [
  {
   "cell_type": "markdown",
   "metadata": {},
   "source": [
    "# NLP word embedding-> Final version"
   ]
  },
  {
   "cell_type": "code",
   "execution_count": null,
   "metadata": {},
   "outputs": [],
   "source": []
  },
  {
   "cell_type": "markdown",
   "metadata": {},
   "source": [
    "TO DO\n",
    "- Hashtags\n",
    "- tfidf test\n",
    "- Often combined with dimension reduction:\n",
    "restriction to an interesting vocabulary\n",
    "use of principal component analysis (latent semantic analysis): Latent Semantic Analysis= PCA of this representation tfidf\n"
   ]
  },
  {
   "cell_type": "code",
   "execution_count": 86,
   "metadata": {},
   "outputs": [],
   "source": [
    "import csv\n",
    "import numpy as np\n",
    "import pandas as pd\n",
    "import matplotlib.pyplot as plt\n",
    "\n",
    "from sklearn.feature_extraction.text import TfidfVectorizer\n",
    "from sklearn.metrics import mean_absolute_error\n",
    "from verstack.stratified_continuous_split import scsplit # pip install verstack\n",
    "\n",
    "from sklearn.linear_model import LinearRegression\n",
    "from sklearn.linear_model import Lasso\n",
    "from sklearn.linear_model import ElasticNet\n",
    "from sklearn.tree import DecisionTreeRegressor\n",
    "from sklearn.neighbors import KNeighborsRegressor\n",
    "from sklearn.ensemble import GradientBoostingRegressor\n",
    "from sklearn.ensemble import RandomForestRegressor\n",
    "from sklearn.neural_network import MLPRegressor\n",
    "\n"
   ]
  },
  {
   "cell_type": "markdown",
   "metadata": {},
   "source": [
    "This include all NLP approaches for word embedding"
   ]
  },
  {
   "cell_type": "markdown",
   "metadata": {},
   "source": [
    "Prediction of Likes and Retweets Using Text Information Retrieval\n",
    "https://ai.intelligentonlinetools.com/ml/text-clustering-doc2vec-word-embedding-machine-learning/\n",
    "\n",
    "Paper:\n",
    "1-s2.0-S1877050920304129-main.pdf\n",
    "\n",
    "\n",
    "Le github magique:\n",
    "https://github.com/buomsoo-kim/Word-embedding-with-Python\n",
    "\n",
    "French corpus: https://stackoverflow.com/questions/42058396/python-nltk-and-textblob-in-french"
   ]
  },
  {
   "cell_type": "markdown",
   "metadata": {},
   "source": [
    "## Data"
   ]
  },
  {
   "cell_type": "code",
   "execution_count": 111,
   "metadata": {},
   "outputs": [],
   "source": [
    "# Load the training data\n",
    "train_data = pd.read_csv(\"data/train.csv\")\n",
    "\n",
    "# Load the evaluation data\n",
    "eval_data = pd.read_csv(\"data/evaluation.csv\")\n",
    "\n",
    "\n",
    "# Here we split our training data into trainig and testing set. This way we can estimate the evaluation of our model without uploading to Kaggle and avoid overfitting over our evaluation dataset.\n",
    "# scsplit method is used in order to split our regression data in a stratisfied way and keep a similar distribution of retweet counts between the two sets\n",
    "X_train, X_test, y_train, y_test = scsplit(train_data, train_data['retweets_count'], stratify=train_data['retweets_count'], train_size=0.7, test_size=0.3)\n",
    "# We remove the actual number of retweets from our features since it is the value that we are trying to predict\n",
    "X_train = X_train.drop(['retweets_count'], axis=1)\n",
    "X_test = X_test.drop(['retweets_count'], axis=1)"
   ]
  },
  {
   "cell_type": "markdown",
   "metadata": {},
   "source": [
    "# Traitement du texte"
   ]
  },
  {
   "cell_type": "markdown",
   "metadata": {},
   "source": [
    "# Model with Doc2Vec"
   ]
  },
  {
   "cell_type": "code",
   "execution_count": 81,
   "metadata": {},
   "outputs": [
    {
     "ename": "FileNotFoundError",
     "evalue": "[Errno 2] No such file or directory: 'doc2vec_model'",
     "output_type": "error",
     "traceback": [
      "\u001b[1;31m---------------------------------------------------------------------------\u001b[0m",
      "\u001b[1;31mFileNotFoundError\u001b[0m                         Traceback (most recent call last)",
      "\u001b[1;32md:\\Projet  INF554\\INF554_kaggle\\NLP.ipynb Cellule 11\u001b[0m in \u001b[0;36m<cell line: 4>\u001b[1;34m()\u001b[0m\n\u001b[0;32m      <a href='vscode-notebook-cell:/d%3A/Projet%20%20INF554/INF554_kaggle/NLP.ipynb#X13sZmlsZQ%3D%3D?line=0'>1</a>\u001b[0m \u001b[39m#use nlp model fro text train data\u001b[39;00m\n\u001b[0;32m      <a href='vscode-notebook-cell:/d%3A/Projet%20%20INF554/INF554_kaggle/NLP.ipynb#X13sZmlsZQ%3D%3D?line=1'>2</a>\u001b[0m \u001b[39m#import doc2vec\u001b[39;00m\n\u001b[0;32m      <a href='vscode-notebook-cell:/d%3A/Projet%20%20INF554/INF554_kaggle/NLP.ipynb#X13sZmlsZQ%3D%3D?line=2'>3</a>\u001b[0m \u001b[39mfrom\u001b[39;00m \u001b[39mgensim\u001b[39;00m\u001b[39m.\u001b[39;00m\u001b[39mmodels\u001b[39;00m\u001b[39m.\u001b[39;00m\u001b[39mdoc2vec\u001b[39;00m \u001b[39mimport\u001b[39;00m Doc2Vec\n\u001b[1;32m----> <a href='vscode-notebook-cell:/d%3A/Projet%20%20INF554/INF554_kaggle/NLP.ipynb#X13sZmlsZQ%3D%3D?line=3'>4</a>\u001b[0m model \u001b[39m=\u001b[39m Doc2Vec\u001b[39m.\u001b[39;49mload(\u001b[39m'\u001b[39;49m\u001b[39mdoc2vec_model\u001b[39;49m\u001b[39m'\u001b[39;49m)\n\u001b[0;32m      <a href='vscode-notebook-cell:/d%3A/Projet%20%20INF554/INF554_kaggle/NLP.ipynb#X13sZmlsZQ%3D%3D?line=5'>6</a>\u001b[0m \u001b[39mprint\u001b[39m(\u001b[39m\"\u001b[39m\u001b[39mstarting vectoring X_train\u001b[39m\u001b[39m\"\u001b[39m)\n\u001b[0;32m      <a href='vscode-notebook-cell:/d%3A/Projet%20%20INF554/INF554_kaggle/NLP.ipynb#X13sZmlsZQ%3D%3D?line=7'>8</a>\u001b[0m X_train_doc \u001b[39m=\u001b[39m X_train[\u001b[39m'\u001b[39m\u001b[39mtext\u001b[39m\u001b[39m'\u001b[39m]\u001b[39m.\u001b[39mapply(\u001b[39mlambda\u001b[39;00m x: model\u001b[39m.\u001b[39minfer_vector([x]))\n",
      "File \u001b[1;32mc:\\Users\\maria\\anaconda3\\lib\\site-packages\\gensim\\models\\doc2vec.py:807\u001b[0m, in \u001b[0;36mDoc2Vec.load\u001b[1;34m(cls, *args, **kwargs)\u001b[0m\n\u001b[0;32m    784\u001b[0m \u001b[39m\"\"\"Load a previously saved :class:`~gensim.models.doc2vec.Doc2Vec` model.\u001b[39;00m\n\u001b[0;32m    785\u001b[0m \n\u001b[0;32m    786\u001b[0m \u001b[39mParameters\u001b[39;00m\n\u001b[1;32m   (...)\u001b[0m\n\u001b[0;32m    804\u001b[0m \n\u001b[0;32m    805\u001b[0m \u001b[39m\"\"\"\u001b[39;00m\n\u001b[0;32m    806\u001b[0m \u001b[39mtry\u001b[39;00m:\n\u001b[1;32m--> 807\u001b[0m     \u001b[39mreturn\u001b[39;00m \u001b[39msuper\u001b[39m(Doc2Vec, \u001b[39mcls\u001b[39m)\u001b[39m.\u001b[39mload(\u001b[39m*\u001b[39margs, rethrow\u001b[39m=\u001b[39m\u001b[39mTrue\u001b[39;00m, \u001b[39m*\u001b[39m\u001b[39m*\u001b[39mkwargs)\n\u001b[0;32m    808\u001b[0m \u001b[39mexcept\u001b[39;00m \u001b[39mAttributeError\u001b[39;00m \u001b[39mas\u001b[39;00m ae:\n\u001b[0;32m    809\u001b[0m     logger\u001b[39m.\u001b[39merror(\n\u001b[0;32m    810\u001b[0m         \u001b[39m\"\u001b[39m\u001b[39mModel load error. Was model saved using code from an older Gensim version? \u001b[39m\u001b[39m\"\u001b[39m\n\u001b[0;32m    811\u001b[0m         \u001b[39m\"\u001b[39m\u001b[39mTry loading older model using gensim-3.8.3, then re-saving, to restore \u001b[39m\u001b[39m\"\u001b[39m\n\u001b[0;32m    812\u001b[0m         \u001b[39m\"\u001b[39m\u001b[39mcompatibility with current code.\u001b[39m\u001b[39m\"\u001b[39m)\n",
      "File \u001b[1;32mc:\\Users\\maria\\anaconda3\\lib\\site-packages\\gensim\\models\\word2vec.py:1930\u001b[0m, in \u001b[0;36mWord2Vec.load\u001b[1;34m(cls, rethrow, *args, **kwargs)\u001b[0m\n\u001b[0;32m   1911\u001b[0m \u001b[39m\"\"\"Load a previously saved :class:`~gensim.models.word2vec.Word2Vec` model.\u001b[39;00m\n\u001b[0;32m   1912\u001b[0m \n\u001b[0;32m   1913\u001b[0m \u001b[39mSee Also\u001b[39;00m\n\u001b[1;32m   (...)\u001b[0m\n\u001b[0;32m   1927\u001b[0m \n\u001b[0;32m   1928\u001b[0m \u001b[39m\"\"\"\u001b[39;00m\n\u001b[0;32m   1929\u001b[0m \u001b[39mtry\u001b[39;00m:\n\u001b[1;32m-> 1930\u001b[0m     model \u001b[39m=\u001b[39m \u001b[39msuper\u001b[39m(Word2Vec, \u001b[39mcls\u001b[39m)\u001b[39m.\u001b[39mload(\u001b[39m*\u001b[39margs, \u001b[39m*\u001b[39m\u001b[39m*\u001b[39mkwargs)\n\u001b[0;32m   1931\u001b[0m     \u001b[39mif\u001b[39;00m \u001b[39mnot\u001b[39;00m \u001b[39misinstance\u001b[39m(model, Word2Vec):\n\u001b[0;32m   1932\u001b[0m         rethrow \u001b[39m=\u001b[39m \u001b[39mTrue\u001b[39;00m\n",
      "File \u001b[1;32mc:\\Users\\maria\\anaconda3\\lib\\site-packages\\gensim\\utils.py:485\u001b[0m, in \u001b[0;36mSaveLoad.load\u001b[1;34m(cls, fname, mmap)\u001b[0m\n\u001b[0;32m    481\u001b[0m logger\u001b[39m.\u001b[39minfo(\u001b[39m\"\u001b[39m\u001b[39mloading \u001b[39m\u001b[39m%s\u001b[39;00m\u001b[39m object from \u001b[39m\u001b[39m%s\u001b[39;00m\u001b[39m\"\u001b[39m, \u001b[39mcls\u001b[39m\u001b[39m.\u001b[39m\u001b[39m__name__\u001b[39m, fname)\n\u001b[0;32m    483\u001b[0m compress, subname \u001b[39m=\u001b[39m SaveLoad\u001b[39m.\u001b[39m_adapt_by_suffix(fname)\n\u001b[1;32m--> 485\u001b[0m obj \u001b[39m=\u001b[39m unpickle(fname)\n\u001b[0;32m    486\u001b[0m obj\u001b[39m.\u001b[39m_load_specials(fname, mmap, compress, subname)\n\u001b[0;32m    487\u001b[0m obj\u001b[39m.\u001b[39madd_lifecycle_event(\u001b[39m\"\u001b[39m\u001b[39mloaded\u001b[39m\u001b[39m\"\u001b[39m, fname\u001b[39m=\u001b[39mfname)\n",
      "File \u001b[1;32mc:\\Users\\maria\\anaconda3\\lib\\site-packages\\gensim\\utils.py:1459\u001b[0m, in \u001b[0;36munpickle\u001b[1;34m(fname)\u001b[0m\n\u001b[0;32m   1445\u001b[0m \u001b[39mdef\u001b[39;00m \u001b[39munpickle\u001b[39m(fname):\n\u001b[0;32m   1446\u001b[0m     \u001b[39m\"\"\"Load object from `fname`, using smart_open so that `fname` can be on S3, HDFS, compressed etc.\u001b[39;00m\n\u001b[0;32m   1447\u001b[0m \n\u001b[0;32m   1448\u001b[0m \u001b[39m    Parameters\u001b[39;00m\n\u001b[1;32m   (...)\u001b[0m\n\u001b[0;32m   1457\u001b[0m \n\u001b[0;32m   1458\u001b[0m \u001b[39m    \"\"\"\u001b[39;00m\n\u001b[1;32m-> 1459\u001b[0m     \u001b[39mwith\u001b[39;00m \u001b[39mopen\u001b[39;49m(fname, \u001b[39m'\u001b[39;49m\u001b[39mrb\u001b[39;49m\u001b[39m'\u001b[39;49m) \u001b[39mas\u001b[39;00m f:\n\u001b[0;32m   1460\u001b[0m         \u001b[39mreturn\u001b[39;00m _pickle\u001b[39m.\u001b[39mload(f, encoding\u001b[39m=\u001b[39m\u001b[39m'\u001b[39m\u001b[39mlatin1\u001b[39m\u001b[39m'\u001b[39m)\n",
      "File \u001b[1;32mc:\\Users\\maria\\anaconda3\\lib\\site-packages\\smart_open\\smart_open_lib.py:177\u001b[0m, in \u001b[0;36mopen\u001b[1;34m(uri, mode, buffering, encoding, errors, newline, closefd, opener, compression, transport_params)\u001b[0m\n\u001b[0;32m    174\u001b[0m \u001b[39mif\u001b[39;00m transport_params \u001b[39mis\u001b[39;00m \u001b[39mNone\u001b[39;00m:\n\u001b[0;32m    175\u001b[0m     transport_params \u001b[39m=\u001b[39m {}\n\u001b[1;32m--> 177\u001b[0m fobj \u001b[39m=\u001b[39m _shortcut_open(\n\u001b[0;32m    178\u001b[0m     uri,\n\u001b[0;32m    179\u001b[0m     mode,\n\u001b[0;32m    180\u001b[0m     compression\u001b[39m=\u001b[39;49mcompression,\n\u001b[0;32m    181\u001b[0m     buffering\u001b[39m=\u001b[39;49mbuffering,\n\u001b[0;32m    182\u001b[0m     encoding\u001b[39m=\u001b[39;49mencoding,\n\u001b[0;32m    183\u001b[0m     errors\u001b[39m=\u001b[39;49merrors,\n\u001b[0;32m    184\u001b[0m     newline\u001b[39m=\u001b[39;49mnewline,\n\u001b[0;32m    185\u001b[0m )\n\u001b[0;32m    186\u001b[0m \u001b[39mif\u001b[39;00m fobj \u001b[39mis\u001b[39;00m \u001b[39mnot\u001b[39;00m \u001b[39mNone\u001b[39;00m:\n\u001b[0;32m    187\u001b[0m     \u001b[39mreturn\u001b[39;00m fobj\n",
      "File \u001b[1;32mc:\\Users\\maria\\anaconda3\\lib\\site-packages\\smart_open\\smart_open_lib.py:363\u001b[0m, in \u001b[0;36m_shortcut_open\u001b[1;34m(uri, mode, compression, buffering, encoding, errors, newline)\u001b[0m\n\u001b[0;32m    360\u001b[0m \u001b[39mif\u001b[39;00m errors \u001b[39mand\u001b[39;00m \u001b[39m'\u001b[39m\u001b[39mb\u001b[39m\u001b[39m'\u001b[39m \u001b[39mnot\u001b[39;00m \u001b[39min\u001b[39;00m mode:\n\u001b[0;32m    361\u001b[0m     open_kwargs[\u001b[39m'\u001b[39m\u001b[39merrors\u001b[39m\u001b[39m'\u001b[39m] \u001b[39m=\u001b[39m errors\n\u001b[1;32m--> 363\u001b[0m \u001b[39mreturn\u001b[39;00m _builtin_open(local_path, mode, buffering\u001b[39m=\u001b[39mbuffering, \u001b[39m*\u001b[39m\u001b[39m*\u001b[39mopen_kwargs)\n",
      "\u001b[1;31mFileNotFoundError\u001b[0m: [Errno 2] No such file or directory: 'doc2vec_model'"
     ]
    }
   ],
   "source": [
    "#use nlp model fro text train data\n",
    "#import doc2vec\n",
    "from gensim.models.doc2vec import Doc2Vec\n",
    "model = Doc2Vec.load('doc2vec_model')\n",
    "\n",
    "print(\"starting vectoring X_train\")\n",
    "\n",
    "X_train_doc = X_train['text'].apply(lambda x: model.infer_vector([x]))\n",
    "#use nlp model fro text eval data\n",
    "print(\"starting vectoring X_test\")\n",
    "X_test_doc = X_test['text'].apply(lambda x: model.infer_vector([x]))\n",
    "\n",
    "#expected duration: 30min\n"
   ]
  },
  {
   "cell_type": "code",
   "execution_count": null,
   "metadata": {},
   "outputs": [],
   "source": [
    "#x_train_doc to df\n",
    "X_train_doc = pd.DataFrame(X_train_doc.values.tolist())\n",
    "X_test_doc = pd.DataFrame(X_test_doc.values.tolist())\n"
   ]
  },
  {
   "cell_type": "markdown",
   "metadata": {},
   "source": [
    "## Pipeline"
   ]
  },
  {
   "cell_type": "code",
   "execution_count": null,
   "metadata": {},
   "outputs": [
    {
     "name": "stdout",
     "output_type": "stream",
     "text": [
      "ScaledGBM: -26.917665 (1.228420)\n",
      "ScaledRF: -31.624147 (1.196887)\n",
      "ScaledMLP: -26.749918 (1.916168)\n"
     ]
    }
   ],
   "source": [
    "from sklearn.model_selection import cross_val_score\n",
    "from sklearn.model_selection import KFold\n",
    "from sklearn.pipeline import Pipeline\n",
    "from sklearn.preprocessing import StandardScaler\n",
    "from sklearn.preprocessing import MinMaxScaler\n",
    "\n",
    "\n",
    "pipelines = []\n",
    "pipelines.append(('ScaledLR', Pipeline([('Scaler', MinMaxScaler()),('LR',LinearRegression())])))\n",
    "pipelines.append(('ScaledLASSO', Pipeline([('Scaler', MinMaxScaler()),('LASSO', Lasso())])))\n",
    "pipelines.append(('ScaledEN', Pipeline([('Scaler', MinMaxScaler()),('EN', ElasticNet())])))\n",
    "pipelines.append(('ScaledKNN', Pipeline([('Scaler', MinMaxScaler()),('KNN', KNeighborsRegressor())])))\n",
    "pipelines.append(('ScaledCART', Pipeline([('Scaler', MinMaxScaler()),('CART', DecisionTreeRegressor())])))\n",
    "pipelines.append(('ScaledGBM', Pipeline([('Scaler', MinMaxScaler()),('GBM', GradientBoostingRegressor())])))\n",
    "pipelines.append(('ScaledRF', Pipeline([('Scaler', MinMaxScaler()),('RF', RandomForestRegressor(n_estimators=10))])))\n",
    "pipelines.append(('ScaledMLP', Pipeline([('Scaler', MinMaxScaler()),('MLP', MLPRegressor())])))\n",
    "\n",
    "\n",
    "\n",
    "results = []\n",
    "names = []\n",
    "for name, model in pipelines:\n",
    "    kfold = KFold(n_splits=10)\n",
    "    cv_results = cross_val_score(model, X_train_doc, y_train, cv=kfold, scoring='neg_mean_absolute_error')\n",
    "    results.append(cv_results)\n",
    "    names.append(name)\n",
    "    msg = \"%s: %f (%f)\" % (name, cv_results.mean(), cv_results.std())\n",
    "    print(msg)\n"
   ]
  },
  {
   "cell_type": "markdown",
   "metadata": {},
   "source": [
    "Sans pca, min max\n",
    "- ScaledLR: -26.794943 (1.228909)\n",
    "- ScaledLASSO: -26.789938 (1.227422)\n",
    "- ScaledEN: -26.789938 (1.227422)\n",
    "- ScaledKNN: -29.097677 (1.227968)\n",
    "- ScaledCART: -32.256769 (1.919832)\n",
    "- ScaledGBM: -26.917665 (1.228420)\n",
    "- ScaledRF: -31.624147 (1.196887)\n",
    "- ScaledMLP: -26.749918 (1.916168)"
   ]
  },
  {
   "cell_type": "markdown",
   "metadata": {},
   "source": [
    "# Model with Spacy text embedding\n",
    "\n"
   ]
  },
  {
   "cell_type": "code",
   "execution_count": null,
   "metadata": {},
   "outputs": [
    {
     "data": {
      "text/plain": [
       "array([ 2.77224708e+00, -8.20644140e-01, -3.03102303e+00,  1.71295309e+00,\n",
       "       -1.51811123e-01, -6.19174361e-01,  8.30909967e-01,  3.04782152e+00,\n",
       "        3.13939261e+00, -3.14197016e+00,  3.75156593e+00,  7.06376970e-01,\n",
       "        4.97845650e-01, -7.39134669e-01, -1.51396203e+00, -6.00879252e-01,\n",
       "        1.98837304e+00, -1.65502715e+00, -2.15656042e-01, -3.06843376e+00,\n",
       "       -2.57701969e+00, -6.50485158e-02, -1.93754995e+00, -1.44916689e+00,\n",
       "       -1.40775919e+00, -3.76376247e+00,  7.35826492e-02,  5.47314596e+00,\n",
       "        2.39667892e+00, -1.73095465e-02, -3.04729295e+00,  3.57966995e+00,\n",
       "       -4.89883900e-01,  1.82727182e+00, -7.40789533e-01, -2.31122684e+00,\n",
       "       -6.91391945e-01, -1.97245240e+00,  6.30308867e-01, -3.27573270e-01,\n",
       "       -3.56692076e-01, -8.23963046e-01,  3.11563540e+00, -4.16857243e+00,\n",
       "       -1.66391611e+00, -2.21248603e+00,  2.82474899e+00,  5.70967078e-01,\n",
       "        5.85822582e-01,  2.84727335e+00,  4.80433702e-01, -8.01777303e-01,\n",
       "       -3.93913603e+00, -1.78017902e+00, -2.18786657e-01,  1.74005032e+00,\n",
       "       -3.50419343e-01,  2.97379494e-03, -1.41924715e+00, -1.09670210e+00,\n",
       "       -6.57234609e-01, -1.78825092e+00,  1.54941726e+00,  5.09492254e+00,\n",
       "        1.15031660e+00, -7.18269014e+00, -2.33222675e+00, -1.25129104e-01,\n",
       "        3.04164648e-01, -8.50841999e-01,  4.15074301e+00,  3.08311510e+00,\n",
       "       -8.42067778e-01, -4.88233566e+00,  1.36789572e+00,  4.02609873e+00,\n",
       "        5.34399366e+00, -1.64721310e+00, -2.05765343e+00,  4.76427460e+00,\n",
       "        7.45801449e-01, -1.18876278e+00, -8.82061303e-01,  1.66664743e+00,\n",
       "        8.01591277e-02,  1.96971488e+00,  1.55170977e-01,  6.72619164e-01,\n",
       "        1.22535944e-01,  2.88762540e-01, -3.45716429e+00,  2.76721811e+00,\n",
       "        1.97181845e+00, -7.30734944e-01,  3.91164482e-01, -1.14893556e+00],\n",
       "      dtype=float32)"
      ]
     },
     "execution_count": 46,
     "metadata": {},
     "output_type": "execute_result"
    }
   ],
   "source": [
    "import spacy\n",
    "# Load the spacy model that you have installed\n",
    "nlp = spacy.load('fr_core_news_sm')# python -m spacy download fr_core_news_sm\n",
    "# process a sentence using the model\n",
    "doc = nlp(\"Macron démission\")\n",
    "# It's that simple - all of the vectors and words are assigned after this point\n",
    "# Get the vector for 'text':\n",
    "doc.vector\n"
   ]
  },
  {
   "cell_type": "code",
   "execution_count": null,
   "metadata": {},
   "outputs": [
    {
     "name": "stdout",
     "output_type": "stream",
     "text": [
      "starting vectoring X_train\n",
      "starting vectoring X_test\n"
     ]
    }
   ],
   "source": [
    "#use nlp model fro text train data\n",
    "print(\"starting vectoring X_train\")\n",
    "\n",
    "X_train_spa = X_train['text'].apply(lambda x: nlp(x).vector)\n",
    "#use nlp model fro text eval data\n",
    "print(\"starting vectoring X_test\")\n",
    "X_test_spa = X_test['text'].apply(lambda x: nlp(x).vector)\n",
    "\n",
    "#expected duration: 30min\n"
   ]
  },
  {
   "cell_type": "code",
   "execution_count": null,
   "metadata": {},
   "outputs": [],
   "source": [
    "#X_test_txt to pd\n",
    "X_test_spa = pd.DataFrame(X_test_spa.to_list())\n",
    "#X_train_txt to pd\n",
    "X_train_spa = pd.DataFrame(X_train_spa.to_list())\n"
   ]
  },
  {
   "cell_type": "markdown",
   "metadata": {},
   "source": [
    "\n",
    "### PCA to reduce dimension\n",
    "\n",
    "\n"
   ]
  },
  {
   "cell_type": "code",
   "execution_count": null,
   "metadata": {},
   "outputs": [],
   "source": [
    "#import pca\n",
    "from sklearn.decomposition import PCA\n",
    "pca = PCA(n_components=10)\n",
    "X_train_spa_pca = pca.fit_transform(X_train_spa)\n",
    "X_test_spa_pca = pca.transform(X_test_spa)\n",
    "#array to df\n",
    "X_train_spa_pca = pd.DataFrame(X_train_spa_pca)\n",
    "X_test_spa_pca = pd.DataFrame(X_test_spa_pca)\n",
    "\n"
   ]
  },
  {
   "cell_type": "markdown",
   "metadata": {},
   "source": [
    "## Correlation"
   ]
  },
  {
   "cell_type": "code",
   "execution_count": null,
   "metadata": {},
   "outputs": [
    {
     "ename": "AttributeError",
     "evalue": "'numpy.ndarray' object has no attribute 'corrwith'",
     "output_type": "error",
     "traceback": [
      "\u001b[1;31m---------------------------------------------------------------------------\u001b[0m",
      "\u001b[1;31mAttributeError\u001b[0m                            Traceback (most recent call last)",
      "\u001b[1;32md:\\Projet  INF554\\INF554_kaggle\\NLP.ipynb Cellule 23\u001b[0m in \u001b[0;36m<cell line: 1>\u001b[1;34m()\u001b[0m\n\u001b[1;32m----> <a href='vscode-notebook-cell:/d%3A/Projet%20%20INF554/INF554_kaggle/NLP.ipynb#Y100sZmlsZQ%3D%3D?line=0'>1</a>\u001b[0m X_train_spa_pca\u001b[39m.\u001b[39;49mcorrwith(y_train)\u001b[39m.\u001b[39mplot\u001b[39m.\u001b[39mbar(\n\u001b[0;32m      <a href='vscode-notebook-cell:/d%3A/Projet%20%20INF554/INF554_kaggle/NLP.ipynb#Y100sZmlsZQ%3D%3D?line=1'>2</a>\u001b[0m         \u001b[39m#show exact values\u001b[39;00m\n\u001b[0;32m      <a href='vscode-notebook-cell:/d%3A/Projet%20%20INF554/INF554_kaggle/NLP.ipynb#Y100sZmlsZQ%3D%3D?line=2'>3</a>\u001b[0m         figsize \u001b[39m=\u001b[39m (\u001b[39m20\u001b[39m, \u001b[39m10\u001b[39m), title \u001b[39m=\u001b[39m \u001b[39m\"\u001b[39m\u001b[39mCorrelation with retweets_count\u001b[39m\u001b[39m\"\u001b[39m, fontsize \u001b[39m=\u001b[39m \u001b[39m15\u001b[39m,\n\u001b[0;32m      <a href='vscode-notebook-cell:/d%3A/Projet%20%20INF554/INF554_kaggle/NLP.ipynb#Y100sZmlsZQ%3D%3D?line=3'>4</a>\u001b[0m         rot \u001b[39m=\u001b[39m \u001b[39m90\u001b[39m, grid \u001b[39m=\u001b[39m \u001b[39mTrue\u001b[39;00m)\n\u001b[0;32m      <a href='vscode-notebook-cell:/d%3A/Projet%20%20INF554/INF554_kaggle/NLP.ipynb#Y100sZmlsZQ%3D%3D?line=5'>6</a>\u001b[0m plt\u001b[39m.\u001b[39mshow()\n\u001b[0;32m      <a href='vscode-notebook-cell:/d%3A/Projet%20%20INF554/INF554_kaggle/NLP.ipynb#Y100sZmlsZQ%3D%3D?line=7'>8</a>\u001b[0m \u001b[39mprint\u001b[39m(X_train_spa_pca\u001b[39m.\u001b[39mcorrwith(y_train))\n",
      "\u001b[1;31mAttributeError\u001b[0m: 'numpy.ndarray' object has no attribute 'corrwith'"
     ]
    }
   ],
   "source": [
    "X_train_spa_pca.corrwith(y_train).plot.bar(\n",
    "        #show exact values\n",
    "        figsize = (20, 10), title = \"Correlation with retweets_count\", fontsize = 15,\n",
    "        rot = 90, grid = True)\n",
    "\n",
    "plt.show()\n",
    "\n",
    "print(X_train_spa_pca.corrwith(y_train))"
   ]
  },
  {
   "cell_type": "markdown",
   "metadata": {},
   "source": [
    "## Pipeline"
   ]
  },
  {
   "cell_type": "code",
   "execution_count": null,
   "metadata": {},
   "outputs": [
    {
     "name": "stdout",
     "output_type": "stream",
     "text": [
      "ScaledMLP: -43.750764 (4.056548)\n"
     ]
    }
   ],
   "source": [
    "\n",
    "from sklearn.model_selection import cross_val_score\n",
    "from sklearn.model_selection import KFold\n",
    "from sklearn.pipeline import Pipeline\n",
    "from sklearn.preprocessing import StandardScaler\n",
    "\n",
    "\n",
    "pipelines = []\n",
    "#pipelines.append(('ScaledLR', Pipeline([('Scaler', StandardScaler()),('LR',LinearRegression())])))\n",
    "#pipelines.append(('ScaledLASSO', Pipeline([('Scaler', StandardScaler()),('LASSO', Lasso())])))\n",
    "#pipelines.append(('ScaledEN', Pipeline([('Scaler', StandardScaler()),('EN', ElasticNet())])))\n",
    "#pipelines.append(('ScaledKNN', Pipeline([('Scaler', StandardScaler()),('KNN', KNeighborsRegressor())])))\n",
    "#pipelines.append(('ScaledCART', Pipeline([('Scaler', StandardScaler()),('CART', DecisionTreeRegressor())])))\n",
    "#pipelines.append(('ScaledGBM', Pipeline([('Scaler', StandardScaler()),('GBM', GradientBoostingRegressor())])))\n",
    "#pipelines.append(('ScaledRF', Pipeline([('Scaler', StandardScaler()),('RF', RandomForestRegressor(n_estimators=10))])))\n",
    "pipelines.append(('ScaledMLP', Pipeline([('Scaler', StandardScaler()),('MLP', MLPRegressor())])))\n",
    "\n",
    "\n",
    "\n",
    "results = []\n",
    "names = []\n",
    "for name, model in pipelines:\n",
    "    kfold = KFold(n_splits=10)\n",
    "    cv_results = cross_val_score(model, X_train_spa, y_train, cv=kfold, scoring='neg_mean_absolute_error')\n",
    "    results.append(cv_results)\n",
    "    names.append(name)\n",
    "    msg = \"%s: %f (%f)\" % (name, cv_results.mean(), cv_results.std())\n",
    "    print(msg)\n",
    "\n"
   ]
  },
  {
   "cell_type": "markdown",
   "metadata": {},
   "source": [
    "Sans PCA (53min), standard:\n",
    "\n",
    "- Text GB spacy 26.827508922601726\n",
    "- Text MLP spacy 30.977323878671452\n",
    "- Text RF spacy 35.9382998559199\n",
    "\n",
    "\n",
    "\n",
    "PCA=10 components (126min), standard):\n",
    "- ScaledLR: -26.814401 (1.000995)\n",
    "- ScaledLASSO: -26.780504 (1.006401)\n",
    "- ScaledEN: -26.780629 (1.003824)\n",
    "- ScaledKNN: -29.531135 (1.171399)\n",
    "- ScaledCART: -32.986936 (1.122446)\n",
    "- ScaledGBM: -26.696848 (1.031312)\n",
    "- ScaledRF: -30.585169 (0.964902)\n",
    "- ScaledMLP: -27.521220 (0.938561)\n",
    "\n",
    "\n",
    "\n",
    "\n",
    "\n",
    "\n",
    "\n",
    "\n",
    "\n",
    "\n"
   ]
  },
  {
   "cell_type": "markdown",
   "metadata": {},
   "source": [
    "PCA=10, MinMax\n",
    "- ScaledLR: -26.814388 (1.000974)\n",
    "- ScaledLASSO: -26.878887 (1.000569)\n",
    "- ScaledEN: -26.878887 (1.000569)\n",
    "- ScaledKNN: -29.499869 (1.200428)\n",
    "- ScaledCART: -33.103061 (1.433910)\n",
    "- ScaledGBM: -26.720753 (1.023079)\n",
    "- ScaledRF: -31.792145 (0.712734)\n",
    "- ScaledMLP: -26.933599 (1.345101)\n",
    "\n",
    "Sans PCA, MinMax\n",
    "- ScaledLR: -27.270481 (1.199289)\n",
    "- ScaledLASSO: -26.668859 (1.218327)\n",
    "- ScaledEN: -26.677875 (1.215340)\n",
    "- ScaledKNN: -35.197787 (1.282964)\n",
    "- ScaledCART: -37.951425 (2.477564)\n",
    "- ScaledGBM: -26.927640 (1.240835)\n",
    "- ScaledRF: -36.567023 (1.618142)\n",
    "- ScaledMLP: -43.750764 (4.056548)\n",
    "\n"
   ]
  },
  {
   "cell_type": "markdown",
   "metadata": {},
   "source": [
    "# Model with itdf vectorizer word embedding\n"
   ]
  },
  {
   "cell_type": "code",
   "execution_count": null,
   "metadata": {},
   "outputs": [],
   "source": [
    "# We set up an Tfidf Vectorizer that will use the top 100 tokens from the tweets. We also remove stopwords.\n",
    "# To do that we have to fit our training dataset and then transform both the training and testing dataset. \n",
    "from sklearn.feature_extraction.text import TfidfVectorizer\n",
    "from nltk.corpus import stopwords \n",
    "#import linear regression\n",
    "from sklearn.linear_model import LinearRegression\n",
    "from sklearn.linear_model import Lasso\n",
    "from sklearn.linear_model import ElasticNet\n",
    "from sklearn.tree import DecisionTreeRegressor\n",
    "from sklearn.neighbors import KNeighborsRegressor\n",
    "from sklearn.ensemble import GradientBoostingRegressor\n",
    "from sklearn.ensemble import RandomForestRegressor\n",
    "from sklearn.neural_network import MLPRegressor\n",
    "\n",
    "vectorizer = TfidfVectorizer(max_features=20, stop_words=stopwords.words('french'))\n",
    "X_train_tfidf = vectorizer.fit_transform(X_train['text'])\n",
    "X_test_tfidf = vectorizer.transform(X_test['text'])\n",
    "#Xtrain_tfidf to data frame\n",
    "X_train_tfidf = pd.DataFrame(X_train_tfidf.toarray())\n",
    "#Xtest_tfidf to data frame\n",
    "X_test_tfidf = pd.DataFrame(X_test_tfidf.toarray())\n"
   ]
  },
  {
   "cell_type": "markdown",
   "metadata": {},
   "source": [
    "## PCA to reduce dimension"
   ]
  },
  {
   "cell_type": "code",
   "execution_count": null,
   "metadata": {},
   "outputs": [],
   "source": [
    "#import pca\n",
    "from sklearn.decomposition import PCA\n",
    "pca = PCA(n_components=10)\n",
    "X_train_tfidf_pca = pca.fit_transform(X_train_tfidf)\n",
    "X_test_tfidf_pca = pca.transform(X_test_tfidf)\n",
    "#array to df\n",
    "X_train_tfidf_pca = pd.DataFrame(X_train_tfidf_pca)\n",
    "X_test_tfidf_pca = pd.DataFrame(X_test_tfidf_pca)\n"
   ]
  },
  {
   "cell_type": "markdown",
   "metadata": {},
   "source": [
    "## Correlation"
   ]
  },
  {
   "cell_type": "code",
   "execution_count": null,
   "metadata": {},
   "outputs": [],
   "source": [
    "X_train_tfidf_pca.corrwith(y_train).plot.bar(\n",
    "        #show exact values\n",
    "        figsize = (20, 10), title = \"Correlation with retweets_count\", fontsize = 15,\n",
    "        rot = 90, grid = True)\n",
    "\n",
    "plt.show()\n",
    "\n",
    "print(X_train_tfidf_pca.corrwith(y_train))"
   ]
  },
  {
   "cell_type": "markdown",
   "metadata": {},
   "source": [
    "## Pipeline"
   ]
  },
  {
   "cell_type": "code",
   "execution_count": null,
   "metadata": {},
   "outputs": [
    {
     "name": "stdout",
     "output_type": "stream",
     "text": [
      "ScaledLR: -26.933404 (1.230478)\n",
      "ScaledLASSO: -26.677275 (1.224890)\n",
      "ScaledEN: -26.759018 (1.226980)\n",
      "ScaledKNN: -22.265286 (6.088496)\n",
      "ScaledCART: -26.861317 (1.181888)\n",
      "ScaledGBM: -26.631646 (1.204244)\n",
      "ScaledRF: -26.764250 (1.177280)\n",
      "ScaledMLP: -26.851509 (1.612895)\n",
      "ScaledLR: -26.937340 (1.229162)\n",
      "ScaledLASSO: -26.746514 (1.228104)\n",
      "ScaledEN: -26.772366 (1.227235)\n",
      "ScaledKNN: -22.409032 (5.797070)\n",
      "ScaledCART: -27.026435 (1.117909)\n",
      "ScaledGBM: -26.621082 (1.191008)\n",
      "ScaledRF: -26.927973 (1.225531)\n",
      "ScaledMLP: -26.932314 (1.456901)\n"
     ]
    }
   ],
   "source": [
    "from sklearn.model_selection import cross_val_score\n",
    "from sklearn.model_selection import KFold\n",
    "from sklearn.pipeline import Pipeline\n",
    "from sklearn.preprocessing import StandardScaler\n",
    "from sklearn.preprocessing import MinMaxScaler\n",
    "\n",
    "\n",
    "pipelines = []\n",
    "pipelines.append(('ScaledLR', Pipeline([('Scaler', MinMaxScaler()),('LR',LinearRegression())])))\n",
    "pipelines.append(('ScaledLASSO', Pipeline([('Scaler', MinMaxScaler()),('LASSO', Lasso())])))\n",
    "pipelines.append(('ScaledEN', Pipeline([('Scaler', MinMaxScaler()),('EN', ElasticNet())])))\n",
    "pipelines.append(('ScaledKNN', Pipeline([('Scaler', MinMaxScaler()),('KNN', KNeighborsRegressor())])))\n",
    "pipelines.append(('ScaledCART', Pipeline([('Scaler', MinMaxScaler()),('CART', DecisionTreeRegressor())])))\n",
    "pipelines.append(('ScaledGBM', Pipeline([('Scaler', MinMaxScaler()),('GBM', GradientBoostingRegressor())])))\n",
    "pipelines.append(('ScaledRF', Pipeline([('Scaler', MinMaxScaler()),('RF', RandomForestRegressor(n_estimators=10))])))\n",
    "pipelines.append(('ScaledMLP', Pipeline([('Scaler', MinMaxScaler()),('MLP', MLPRegressor())])))\n",
    "\n",
    "\n",
    "\n",
    "results = []\n",
    "names = []\n",
    "for name, model in pipelines:\n",
    "    kfold = KFold(n_splits=10)\n",
    "    cv_results = cross_val_score(model, X_train_tfidf, y_train, cv=kfold, scoring='neg_mean_absolute_error')\n",
    "    results.append(cv_results)\n",
    "    names.append(name)\n",
    "    msg = \"%s: %f (%f)\" % (name, cv_results.mean(), cv_results.std())\n",
    "    print(msg)\n",
    "\n",
    "results = []\n",
    "names = []\n",
    "for name, model in pipelines:\n",
    "    kfold = KFold(n_splits=10)\n",
    "    cv_results = cross_val_score(model, X_train_tfidf_pca, y_train, cv=kfold, scoring='neg_mean_absolute_error')\n",
    "    results.append(cv_results)\n",
    "    names.append(name)\n",
    "    msg = \"%s: %f (%f)\" % (name, cv_results.mean(), cv_results.std())\n",
    "    print(msg)"
   ]
  },
  {
   "cell_type": "markdown",
   "metadata": {},
   "source": [
    "tf iDF, no PCA, standard scaler (90min), 100 features\n",
    "- ScaledLR: -27.557247 (1.407570)\n",
    "- ScaledLASSO: -27.059340 (1.411149)\n",
    "- ScaledEN: -26.827886 (1.419568)\n",
    "- ScaledKNN: -26.216037 (2.116711)\n",
    "- ScaledCART: -27.195570 (1.765834)\n",
    "- ScaledGBM: -26.544806 (1.342096)\n",
    "- RF: 27.29356819425202 (2.000632)\n",
    "- MLP: 35.71786302100322 (1.75285)\n",
    "\n",
    "tf iDF, PCA=10, standard scaler, 100 features\n",
    "- ScaledLR: -27.285818 (1.267277)\n",
    "- ScaledLASSO: -26.949566 (1.264834)\n",
    "- ScaledEN: -26.845382 (1.272532)\n",
    "- ScaledKNN: -25.496026 (1.802925)\n",
    "- ScaledCART: -28.929126 (1.969090)\n",
    "- ScaledGBM: -26.790425 (1.299460)\n",
    "- ScaledRF: -28.346692 (1.517844)\n",
    "- ScaledMLP: -26.533785 (1.173627)\n",
    "\n",
    "tf iDF, PCA=20, standard scaler, 100 features\n",
    "- ScaledLR: -27.361372 (1.299267)\n",
    "- ScaledLASSO: -26.914105 (1.277699)\n",
    "- ScaledEN: -26.801447 (1.284229)\n",
    "- ScaledKNN: -26.405744 (1.742108)\n",
    "- ScaledCART: -28.993623 (1.590775)\n",
    "- ScaledGBM: -26.709120 (1.258245)\n",
    "- ScaledRF: -28.665107 (1.547948)\n",
    "- Scaked MLP:-28.177143 (1.757813)\n",
    "\n",
    "tf iDF, no PCA, standard scaler (90min), 10 features\n",
    "\n",
    "- ScaledLR: -27.086136 (1.261524)\n",
    "- ScaledLASSO: -26.805272 (1.259687)\n",
    "- ScaledEN: -26.806091 (1.266831)\n",
    "- ScaledKNN: -35.788074 (7.720180)\n",
    "- ScaledCART: -26.848741 (1.312968)\n",
    "- ScaledGBM: -26.779600 (1.299676)\n",
    "- ScaledRF: -26.801263 (1.336147)\n",
    "- ScaledMLP: -26.799349 (1.388996)\n",
    "\n",
    "tfidf minmax sans pca\n",
    "- ScaledLR: -26.933404 (1.230478)\n",
    "- ScaledLASSO: -26.677275 (1.224890)\n",
    "- ScaledEN: -26.759018 (1.226980)\n",
    "- ScaledKNN: -22.265286 (6.088496)\n",
    "- ScaledCART: -26.861317 (1.181888)\n",
    "- ScaledGBM: -26.631646 (1.204244)\n",
    "- ScaledRF: -26.764250 (1.177280)\n",
    "- ScaledMLP: -26.851509 (1.612895)\n",
    "\n",
    "tfidf minmax  pca=10\n",
    "- ScaledLR: -26.937340 (1.229162)\n",
    "- ScaledLASSO: -26.746514 (1.228104)\n",
    "- ScaledEN: -26.772366 (1.227235)\n",
    "- ScaledKNN: -22.409032 (5.797070)\n",
    "- ScaledCART: -27.026435 (1.117909)\n",
    "- ScaledGBM: -26.621082 (1.191008)\n",
    "- ScaledRF: -26.927973 (1.225531)\n",
    "- ScaledMLP: -26.932314 (1.456901)"
   ]
  },
  {
   "cell_type": "markdown",
   "metadata": {},
   "source": [
    "## Model with sentiment analysis"
   ]
  },
  {
   "cell_type": "code",
   "execution_count": null,
   "metadata": {},
   "outputs": [
    {
     "name": "stdout",
     "output_type": "stream",
     "text": [
      "(-0.4, 0.4)\n"
     ]
    }
   ],
   "source": [
    "from textblob import TextBlob#pip install textblob-fr\n",
    "from textblob_fr import PatternTagger, PatternAnalyzer\n",
    "text=\"Macron est méchant\"\n",
    "blob = TextBlob(text, pos_tagger=PatternTagger(), analyzer=PatternAnalyzer())\n",
    "print(blob.sentiment)#polarity/subjectivity\n"
   ]
  },
  {
   "cell_type": "code",
   "execution_count": null,
   "metadata": {},
   "outputs": [
    {
     "name": "stdout",
     "output_type": "stream",
     "text": [
      "starting vectoring X_train\n"
     ]
    }
   ],
   "source": [
    "\n",
    "print(\"starting vectoring X_train\")\n",
    "X_train_sen=pd.DataFrame()\n",
    "X_train_sen['pol']=X_train['text'].apply(lambda x: TextBlob(x, pos_tagger=PatternTagger(), analyzer=PatternAnalyzer()).sentiment[0])\n",
    "X_train_sen['sub']=X_train['text'].apply(lambda x: TextBlob(x, pos_tagger=PatternTagger(), analyzer=PatternAnalyzer()).sentiment[1])"
   ]
  },
  {
   "cell_type": "markdown",
   "metadata": {},
   "source": [
    "## Pipeline"
   ]
  },
  {
   "cell_type": "code",
   "execution_count": null,
   "metadata": {},
   "outputs": [
    {
     "name": "stdout",
     "output_type": "stream",
     "text": [
      "ScaledLR: -27.128049 (1.097896)\n",
      "ScaledLASSO: -27.131222 (1.099259)\n",
      "ScaledEN: -27.131222 (1.099259)\n",
      "ScaledKNN: -29.245845 (4.600593)\n",
      "ScaledCART: -27.892529 (1.119453)\n",
      "ScaledGBM: -27.132014 (1.091290)\n",
      "ScaledRF: -27.851499 (1.236082)\n",
      "ScaledMLP: -27.198308 (1.129846)\n"
     ]
    }
   ],
   "source": [
    "\n",
    "from sklearn.model_selection import cross_val_score\n",
    "from sklearn.model_selection import KFold\n",
    "from sklearn.pipeline import Pipeline\n",
    "from sklearn.preprocessing import StandardScaler\n",
    "from sklearn.preprocessing import MinMaxScaler\n",
    "\n",
    "\n",
    "pipelines = []\n",
    "pipelines.append(('ScaledLR', Pipeline([('Scaler', MinMaxScaler()),('LR',LinearRegression())])))\n",
    "pipelines.append(('ScaledLASSO', Pipeline([('Scaler', MinMaxScaler()),('LASSO', Lasso())])))\n",
    "pipelines.append(('ScaledEN', Pipeline([('Scaler', MinMaxScaler()),('EN', ElasticNet())])))\n",
    "pipelines.append(('ScaledKNN', Pipeline([('Scaler', MinMaxScaler()),('KNN', KNeighborsRegressor())])))\n",
    "pipelines.append(('ScaledCART', Pipeline([('Scaler', MinMaxScaler()),('CART', DecisionTreeRegressor())])))\n",
    "pipelines.append(('ScaledGBM', Pipeline([('Scaler', MinMaxScaler()),('GBM', GradientBoostingRegressor())])))\n",
    "pipelines.append(('ScaledRF', Pipeline([('Scaler', MinMaxScaler()),('RF', RandomForestRegressor(n_estimators=10))])))\n",
    "pipelines.append(('ScaledMLP', Pipeline([('Scaler', MinMaxScaler()),('MLP', MLPRegressor())])))\n",
    "\n",
    "\n",
    "results = []\n",
    "names = []\n",
    "for name, model in pipelines:\n",
    "    kfold = KFold(n_splits=10)\n",
    "    cv_results = cross_val_score(model, X_train_sen, y_train, cv=kfold, scoring='neg_mean_absolute_error')\n",
    "    results.append(cv_results)\n",
    "    names.append(name)\n",
    "    msg = \"%s: %f (%f)\" % (name, cv_results.mean(), cv_results.std())\n",
    "    print(msg)\n",
    "\n",
    "\n",
    "\n"
   ]
  },
  {
   "cell_type": "markdown",
   "metadata": {},
   "source": [
    "## Correlation with target"
   ]
  },
  {
   "cell_type": "code",
   "execution_count": null,
   "metadata": {},
   "outputs": [
    {
     "data": {
      "image/png": "[encoded data removed]",
      "text/plain": [
       "<Figure size 1440x720 with 1 Axes>"
      ]
     },
     "metadata": {
      "needs_background": "light"
     },
     "output_type": "display_data"
    },
    {
     "name": "stdout",
     "output_type": "stream",
     "text": [
      "pol    0.002194\n",
      "sub   -0.003343\n",
      "dtype: float64\n"
     ]
    }
   ],
   "source": [
    "X_train_sen.corrwith(y_train).plot.bar(\n",
    "        #show exact values\n",
    "        figsize = (20, 10), title = \"Correlation with retweets_count\", fontsize = 15,\n",
    "        rot = 90, grid = True)\n",
    "\n",
    "plt.show()\n",
    "\n",
    "print(X_train_sen.corrwith(y_train))"
   ]
  },
  {
   "cell_type": "markdown",
   "metadata": {},
   "source": [
    "# Traitement des Hashtags"
   ]
  },
  {
   "cell_type": "markdown",
   "metadata": {},
   "source": [
    "## find popularity of hashtags"
   ]
  },
  {
   "cell_type": "code",
   "execution_count": 161,
   "metadata": {},
   "outputs": [
    {
     "data": {
      "image/png": "[encoded data removed]",
      "text/plain": [
       "<Figure size 1440x720 with 1 Axes>"
      ]
     },
     "metadata": {
      "needs_background": "light"
     },
     "output_type": "display_data"
    }
   ],
   "source": [
    "#make a string of the list\n",
    "X_train['hashtags']=X_train['hashtags'].apply(lambda x: x.replace('[','').replace(']','').replace(\"'\",''))\n",
    "\n",
    "\n",
    "from sklearn.feature_extraction.text import CountVectorizer\n",
    "from nltk.corpus import stopwords\n",
    "vectorizer2 = CountVectorizer(max_features=14, stop_words=stopwords.words('french')) \n",
    "X_train_hashtags = vectorizer2.fit_transform(X_train['hashtags'])\n",
    "# show vocabulary\n",
    "pop=np.sum(X_train_hashtags.toarray(),axis=1)\n",
    "#pop to df\n",
    "pop=pd.DataFrame(pop,columns=['pop'])\n",
    "\n",
    "#plot the 20 most frequent words\n",
    "plt.figure(figsize=(20,10))\n",
    "plt.title(\"14 most frequent hashtags\")\n",
    "plt.xlabel(\"Hashtags\")\n",
    "plt.ylabel(\"Frequency\")\n",
    "plt.bar(vectorizer2.get_feature_names(),np.sum(X_train_hashtags.toarray(),axis=0))\n",
    "plt.show()\n",
    "\n",
    "\n",
    "\n"
   ]
  },
  {
   "cell_type": "code",
   "execution_count": 162,
   "metadata": {},
   "outputs": [
    {
     "data": {
      "image/png": "[encoded data removed]",
      "text/plain": [
       "<Figure size 1440x720 with 1 Axes>"
      ]
     },
     "metadata": {
      "needs_background": "light"
     },
     "output_type": "display_data"
    },
    {
     "name": "stdout",
     "output_type": "stream",
     "text": [
      "pop    0.004291\n",
      "dtype: float64\n"
     ]
    }
   ],
   "source": [
    "pop.corrwith(y_train).plot.bar(\n",
    "        #show exact values\n",
    "        figsize = (20, 10), title = \"Correlation with retweets_count\", fontsize = 15,\n",
    "        rot = 90, grid = True)\n",
    "\n",
    "plt.show()\n",
    "\n",
    "print(pop.corrwith(y_train))"
   ]
  },
  {
   "cell_type": "markdown",
   "metadata": {},
   "source": []
  },
  {
   "cell_type": "markdown",
   "metadata": {},
   "source": [
    "## Pipeline"
   ]
  },
  {
   "cell_type": "markdown",
   "metadata": {},
   "source": [
    "hash itfdf sans pca\n",
    "- ScaledLR: -27.117114 (1.201309)\n",
    "- ScaledLASSO: -26.732072 (1.227426)\n",
    "- ScaledEN: -26.774386 (1.227401)\n",
    "- ScaledKNN: -27.788319 (2.870575)\n",
    "- ScaledCART: -27.173882 (1.519743)\n",
    "- ScaledGBM: -26.438463 (1.143124)\n",
    "- ScaledRF: -26.752734 (1.370168)\n",
    "- ScaledMLP: -30.979654 (1.734530)\n",
    "\n",
    "hash iftdf pca=10\n",
    "\n",
    "- ScaledLR: -27.093443 (1.229531)\n",
    "- ScaledLASSO: -26.789938 (1.227422)\n",
    "- ScaledEN: -26.781203 (1.227426)\n",
    "- ScaledKNN: -28.406512 (2.400761)\n",
    "- ScaledCART: -28.706214 (1.562175)\n",
    "- ScaledGBM: -26.591241 (1.182669)\n",
    "- ScaledRF: -28.318641 (1.040205)\n",
    "- ScaledMLP: -26.444636 (1.278506"
   ]
  }
 ],
 "metadata": {
  "kernelspec": {
   "display_name": "Python 3 (ipykernel)",
   "language": "python",
   "name": "python3"
  },
  "language_info": {
   "codemirror_mode": {
    "name": "ipython",
    "version": 3
   },
   "file_extension": ".py",
   "mimetype": "text/x-python",
   "name": "python",
   "nbconvert_exporter": "python",
   "pygments_lexer": "ipython3",
   "version": "3.9.12"
  },
  "vscode": {
   "interpreter": {
    "hash": "ca02d05c83cb06a4d3d1bb3c2ad95bd9ee4b26f688526444572dc942a69d580d"
   }
  }
 },
 "nbformat": 4,
 "nbformat_minor": 2
}
