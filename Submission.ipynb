{
 "cells": [
  {
   "cell_type": "markdown",
   "metadata": {},
   "source": [
    "# The notebook used to generate the submission"
   ]
  },
  {
   "cell_type": "markdown",
   "metadata": {},
   "source": [
    "Load data\n"
   ]
  },
  {
   "cell_type": "code",
   "execution_count": 52,
   "metadata": {},
   "outputs": [
    {
     "name": "stderr",
     "output_type": "stream",
     "text": [
      "[nltk_data] Downloading package stopwords to\n",
      "[nltk_data]     C:\\Users\\antoi\\AppData\\Roaming\\nltk_data...\n",
      "[nltk_data]   Package stopwords is already up-to-date!\n"
     ]
    }
   ],
   "source": [
    "import csv\n",
    "import numpy as np\n",
    "import pandas as pd\n",
    "from sklearn.ensemble import GradientBoostingRegressor\n",
    "from sklearn.ensemble import RandomForestRegressor\n",
    "from sklearn.linear_model import Lasso\n",
    "\n",
    "from sklearn.dummy import DummyRegressor\n",
    "from sklearn.feature_extraction.text import TfidfVectorizer\n",
    "from sklearn.metrics import mean_absolute_error\n",
    "from verstack.stratified_continuous_split import scsplit # pip install verstack\n",
    "import nltk# cant't find the stopword corpus otherwise\n",
    "nltk.download('stopwords')\n",
    "from nltk.corpus import stopwords \n",
    "\n",
    "import matplotlib.pyplot as plt\n",
    "\n",
    "\n",
    "\n",
    "# Load the training data\n",
    "train_data = pd.read_csv(\"data/train.csv\")\n",
    "\n",
    "# Load the evaluation data\n",
    "eval_data = pd.read_csv(\"data/evaluation.csv\")"
   ]
  },
  {
   "cell_type": "markdown",
   "metadata": {},
   "source": [
    "# Data cleaning\n"
   ]
  },
  {
   "cell_type": "code",
   "execution_count": 53,
   "metadata": {},
   "outputs": [],
   "source": [
    "# add new features\n",
    "\n",
    "train_data['url_count'] = train_data['urls'].str.count('http')\n",
    "eval_data['url_count'] = eval_data['urls'].str.count('http')\n",
    "\n",
    "#add followers/friends\n",
    "train_data['followers_friends'] = train_data['followers_count'] / \\\n",
    "        (train_data['friends_count'].apply(lambda x: x+1))\n",
    "eval_data['followers_friends'] = eval_data['followers_count'] / \\\n",
    "        (eval_data['friends_count'].apply(lambda x: x+1))  \n",
    "\n",
    "drop_cols = [\"mentions\", \"TweetID\", \"urls\", \"hashtags\", \"text\", \"verified\"]\n",
    "\n",
    "ids = eval_data[\"TweetID\"]\n",
    "\n",
    "train_data = train_data.drop(drop_cols, axis=1)\n",
    "eval_data = eval_data.drop(drop_cols, axis=1)"
   ]
  },
  {
   "cell_type": "code",
   "execution_count": 54,
   "metadata": {},
   "outputs": [],
   "source": [
    "from sklearn.ensemble import RandomForestRegressor\n",
    "regressor = RandomForestRegressor(max_features=0.93, max_leaf_nodes=2310, n_estimators=90, n_jobs=-1)\n",
    "\n",
    "# We fit our model using the training data\n",
    "X, y = train_data.drop(columns=[\"retweets_count\"], axis=1), train_data[\"retweets_count\"]\n",
    "regressor.fit(X, y)\n",
    "\n",
    "# And then we predict the values for our testing set\n",
    "y_pred = regressor.predict(eval_data)\n",
    "\n",
    "# Restore ids for writing to file\n",
    "eval_data[\"TweetID\"] = ids"
   ]
  },
  {
   "cell_type": "code",
   "execution_count": 55,
   "metadata": {},
   "outputs": [],
   "source": [
    "def write_predictions_to_file(file_name, eval_data, predictions):\n",
    "    with open(file_name, 'w') as f:\n",
    "        writer = csv.writer(f)\n",
    "        writer.writerow([\"TweetID\", \"retweets_count\"])\n",
    "        for index, prediction in enumerate(predictions):\n",
    "            writer.writerow([str(eval_data['TweetID'].iloc[index]) , str(int(prediction))])"
   ]
  },
  {
   "cell_type": "code",
   "execution_count": 56,
   "metadata": {},
   "outputs": [],
   "source": [
    "write_predictions_to_file(\"submission.csv\", eval_data, y_pred)"
   ]
  }
 ],
 "metadata": {
  "kernelspec": {
   "display_name": "Python 3.10.5 64-bit",
   "language": "python",
   "name": "python3"
  },
  "language_info": {
   "codemirror_mode": {
    "name": "ipython",
    "version": 3
   },
   "file_extension": ".py",
   "mimetype": "text/x-python",
   "name": "python",
   "nbconvert_exporter": "python",
   "pygments_lexer": "ipython3",
   "version": "3.10.5"
  },
  "vscode": {
   "interpreter": {
    "hash": "f5906c532cfa2adbf56dd818a659b28cf8a28c7bd18a371f873e9dccaa083b26"
   }
  }
 },
 "nbformat": 4,
 "nbformat_minor": 2
}
