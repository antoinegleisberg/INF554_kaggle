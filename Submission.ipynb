{
 "cells": [
  {
   "cell_type": "markdown",
   "metadata": {},
   "source": [
    "# The notebook used to generate the submission on Kaggle"
   ]
  },
  {
   "cell_type": "markdown",
   "metadata": {},
   "source": [
    "## Load data\n"
   ]
  },
  {
   "cell_type": "code",
   "execution_count": 31,
   "metadata": {},
   "outputs": [],
   "source": [
    "import csv\n",
    "import pandas as pd\n",
    "from sklearn.ensemble import RandomForestRegressor\n",
    "from sklearn.linear_model import Lasso\n",
    "\n",
    "# Load the training data\n",
    "train_data = pd.read_csv(\"data/train.csv\")\n",
    "\n",
    "# Load the evaluation data\n",
    "eval_data = pd.read_csv(\"data/evaluation.csv\")"
   ]
  },
  {
   "cell_type": "markdown",
   "metadata": {},
   "source": [
    "## Data cleaning\n"
   ]
  },
  {
   "cell_type": "code",
   "execution_count": 32,
   "metadata": {},
   "outputs": [],
   "source": [
    "# add new features\n",
    "\n",
    "train_data['url_count'] = train_data['urls'].str.count('http')\n",
    "eval_data['url_count'] = eval_data['urls'].str.count('http')\n",
    "\n",
    "#add followers/friends\n",
    "train_data['followers_friends'] = train_data['followers_count'] / \\\n",
    "        (train_data['friends_count'].apply(lambda x: x+1))\n",
    "eval_data['followers_friends'] = eval_data['followers_count'] / \\\n",
    "        (eval_data['friends_count'].apply(lambda x: x+1))  \n",
    "\n",
    "drop_cols = [\"mentions\", \"TweetID\", \"urls\", \"hashtags\", \"text\", \"verified\"]\n",
    "\n",
    "ids = eval_data[\"TweetID\"]\n",
    "\n",
    "train_data = train_data.drop(drop_cols, axis=1)\n",
    "eval_data = eval_data.drop(drop_cols, axis=1)"
   ]
  },
  {
   "cell_type": "markdown",
   "metadata": {},
   "source": [
    "## Prediction"
   ]
  },
  {
   "cell_type": "code",
   "execution_count": 33,
   "metadata": {},
   "outputs": [
    {
     "name": "stdout",
     "output_type": "stream",
     "text": [
      "[ 2.33726848e-01  7.54933828e-06 -6.87636381e-06  1.21063698e-03\n",
      " -3.86879125e-09  3.25730401e+00 -4.46620328e-04]\n"
     ]
    }
   ],
   "source": [
    "# And then we predict the values for our testing set\n",
    "X, y = train_data.drop(columns=[\"retweets_count\"], axis=1), train_data[\"retweets_count\"]\n",
    "\n",
    "from sklearn.linear_model import Lasso\n",
    "lasso = Lasso(alpha=0.5)\n",
    "lasso.fit(X, y)\n",
    "pred_lasso=lasso.predict(eval_data)\n",
    "print(lasso.coef_)\n",
    "\n",
    "err_train=y-lasso.predict(X)\n",
    "from sklearn.ensemble import RandomForestRegressor\n",
    "rf=RandomForestRegressor(max_features=0.55, max_leaf_nodes=33000,\n",
    "                      n_estimators=53, n_jobs=-1)\n",
    "rf.fit(X, err_train)\n",
    "pred_rf=rf.predict(eval_data)\n",
    "y_pred=pred_lasso+pred_rf\n",
    "# Restore ids for writing to file\n",
    "eval_data[\"TweetID\"] = ids"
   ]
  },
  {
   "cell_type": "code",
   "execution_count": 34,
   "metadata": {},
   "outputs": [],
   "source": [
    "def write_predictions_to_file(file_name, eval_data, predictions):\n",
    "    with open(file_name, 'w') as f:\n",
    "        writer = csv.writer(f)\n",
    "        writer.writerow([\"TweetID\", \"retweets_count\"])\n",
    "        for index, prediction in enumerate(predictions):\n",
    "            writer.writerow([str(eval_data['TweetID'].iloc[index]) , str(round(prediction))])"
   ]
  },
  {
   "cell_type": "code",
   "execution_count": 35,
   "metadata": {},
   "outputs": [],
   "source": [
    "write_predictions_to_file(\"submission.csv\", eval_data, y_pred)"
   ]
  }
 ],
 "metadata": {
  "kernelspec": {
   "display_name": "Python 3.9.12 ('base')",
   "language": "python",
   "name": "python3"
  },
  "language_info": {
   "codemirror_mode": {
    "name": "ipython",
    "version": 3
   },
   "file_extension": ".py",
   "mimetype": "text/x-python",
   "name": "python",
   "nbconvert_exporter": "python",
   "pygments_lexer": "ipython3",
   "version": "3.9.12"
  },
  "vscode": {
   "interpreter": {
    "hash": "ca02d05c83cb06a4d3d1bb3c2ad95bd9ee4b26f688526444572dc942a69d580d"
   }
  }
 },
 "nbformat": 4,
 "nbformat_minor": 2
}
