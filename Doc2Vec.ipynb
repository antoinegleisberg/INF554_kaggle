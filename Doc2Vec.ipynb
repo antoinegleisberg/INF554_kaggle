{
 "cells": [
  {
   "cell_type": "markdown",
   "metadata": {},
   "source": [
    "# Doc2Vec Model"
   ]
  },
  {
   "cell_type": "code",
   "execution_count": 1,
   "metadata": {},
   "outputs": [],
   "source": [
    "import re\n",
    "from gensim.models import Doc2Vec\n",
    "from gensim.models.doc2vec import TaggedDocument\n",
    "from scipy import spatial\n",
    "from pmaw import PushshiftAPI\n",
    "from pathlib import Path"
   ]
  },
  {
   "cell_type": "code",
   "execution_count": 26,
   "metadata": {},
   "outputs": [],
   "source": [
    "reddit_data_path = Path(\"data/reddit_data.txt\")\n",
    "essais_politiques_path = Path(\"data/quinze_essais_politiques.txt\")\n",
    "model_path = \"models/doc2vec_model\""
   ]
  },
  {
   "cell_type": "code",
   "execution_count": 4,
   "metadata": {},
   "outputs": [
    {
     "name": "stdout",
     "output_type": "stream",
     "text": [
      "Data already exists\n"
     ]
    }
   ],
   "source": [
    "#scrapping reddit data and store it in a txt file\n",
    "\n",
    "def get_reddit_data(nbPost):\n",
    "    api = PushshiftAPI()\n",
    "    comments = api.search_submissions(subreddit=\"Politiquefrancaise\", limit=nbPost, TimeoutError=1000)\n",
    "    \n",
    "    comment_list = [comment['selftext'] for comment in comments]\n",
    "    with open(reddit_data_path, \"w\", encoding=\"utf-8\") as f:\n",
    "        for comment in comment_list:\n",
    "            #remove urls\n",
    "            comment = re.sub(r'http\\S+', '', comment)\n",
    "            f.write(comment)\n",
    "    return\n",
    "\n",
    "if not reddit_data_path.exists():\n",
    "    print(\"Creating reddit data file\")\n",
    "    get_reddit_data(10000)\n",
    "else:\n",
    "    print(\"Data already exists\")\n"
   ]
  },
  {
   "cell_type": "code",
   "execution_count": 19,
   "metadata": {},
   "outputs": [
    {
     "name": "stdout",
     "output_type": "stream",
     "text": [
      "4085\n",
      "Le président Emmanuel Macron a appelé dans un discours devant le Parlement européen à proposer une nouvelle alliance avec les pays africains en matière d'investissements\n",
      " de santé et de sécurité\n",
      "  Macron a annoncé que la France organisera un sommet Europe-Afrique en février\n",
      " dans le but de reconstruire le partenariat entre les deux continents\n",
      "  Cet appel est venu dans un discours dans lequel il a passé en revue les priorités de la France à Strasbourg à l'occasion de sa présidence de l'Union européenne au cours du premier semestre 2022\n",
      " dans lequel il a évoqué la démocratie\n",
      " l'environnement et la paix dans le vieux continent\n",
      "  Macron a souligné que les Européens devaient établir un \"nouvel ordre de sécurité et de stabilité\" qui appelle à un \"réarmement stratégique\" et à des \"pourparlers francs\" avec la Russie\n",
      "  [  Le Premier ministre Jean Castex a annoncé il y a quelques jours\n",
      " lors d'une conférence de presse conjointe avec le ministre de la Santé Olivier Veran\n",
      "[\"Le président Emmanuel Macron a appelé dans un discours devant le Parlement européen à proposer une nouvelle alliance avec les pays africains en matière d'investissements\", ' de santé et de sécurité', '  Macron a annoncé que la France organisera un sommet Europe-Afrique en février', ' dans le but de reconstruire le partenariat entre les deux continents', \"  Cet appel est venu dans un discours dans lequel il a passé en revue les priorités de la France à Strasbourg à l'occasion de sa présidence de l'Union européenne au cours du premier semestre 2022\", ' dans lequel il a évoqué la démocratie', \" l'environnement et la paix dans le vieux continent\", '  Macron a souligné que les Européens devaient établir un \"nouvel ordre de sécurité et de stabilité\" qui appelle à un \"réarmement stratégique\" et à des \"pourparlers francs\" avec la Russie', '  [  Le Premier ministre Jean Castex a annoncé il y a quelques jours', \" lors d'une conférence de presse conjointe avec le ministre de la Santé Olivier Veran\"]\n"
     ]
    }
   ],
   "source": [
    "#télcharge \"quinze essais politiques\" dans data et en fait une liste\n",
    "# opening the file in read mode\n",
    "#my_file = open(\"data/quinze_essais_politiques.txt\", \"r\") -> not working\n",
    "\n",
    "\n",
    "with open(reddit_data_path, \"r\", encoding=\"utf-8\") as f:\n",
    "    corpus = f.read()\n",
    "    \n",
    "    corpus = corpus.replace('\\n', ' ')\n",
    "    corpus = corpus.replace('.', ',')\n",
    "\n",
    "    # replacing end splitting the text \n",
    "    # when newline ('\\n') is seen.\n",
    "    corpus = corpus.split(\",\")\n",
    "    \n",
    "print(len(corpus))\n",
    "for sentence in corpus[:10]:\n",
    "    print(sentence)\n",
    "print(corpus[:10])"
   ]
  },
  {
   "cell_type": "markdown",
   "metadata": {},
   "source": [
    "Use re module to preprocess data\n",
    "\n",
    "Convert all letters into lowercase\n",
    "\n",
    "Remove punctuations, numbers, etc"
   ]
  },
  {
   "cell_type": "code",
   "execution_count": 20,
   "metadata": {},
   "outputs": [
    {
     "data": {
      "text/plain": [
       "['macron',\n",
       " 'a',\n",
       " 'annoncé',\n",
       " 'que',\n",
       " 'la',\n",
       " 'france',\n",
       " 'organisera',\n",
       " 'un',\n",
       " 'sommet',\n",
       " 'europeafrique',\n",
       " 'en',\n",
       " 'février']"
      ]
     },
     "execution_count": 20,
     "metadata": {},
     "output_type": "execute_result"
    }
   ],
   "source": [
    "for i in range(len(corpus)):\n",
    "    corpus[i] = corpus[i].lower()\n",
    "    #remove punctuation\n",
    "    corpus[i] = re.sub(r'[^\\w\\s]','',corpus[i])\n",
    "    #make a list of corpus[i]\n",
    "    corpus[i] = corpus[i].split()\n",
    "    \n",
    "\n",
    "corpus[2]\n"
   ]
  },
  {
   "cell_type": "markdown",
   "metadata": {},
   "source": [
    "For the doc2vec model, input data should be in format of iterable TaggedDocuments\"\n",
    "\n",
    "Each TaggedDocument instance comprises words and tags\n",
    "\n",
    "Hence, each document (i.e., a sentence or paragraph) should have a unique tag which is identifiable"
   ]
  },
  {
   "cell_type": "code",
   "execution_count": 21,
   "metadata": {},
   "outputs": [
    {
     "data": {
      "text/plain": [
       "TaggedDocument(words=['macron', 'a', 'annoncé', 'que', 'la', 'france', 'organisera', 'un', 'sommet', 'europeafrique', 'en', 'février'], tags=['sent2'])"
      ]
     },
     "execution_count": 21,
     "metadata": {},
     "output_type": "execute_result"
    }
   ],
   "source": [
    "for i in range(len(corpus)):\n",
    "    corpus[i] = TaggedDocument(words = corpus[i], tags = [f'sent{i}'])    # converting each sentence into a TaggedDocument\n",
    "corpus[2]"
   ]
  },
  {
   "cell_type": "code",
   "execution_count": 27,
   "metadata": {},
   "outputs": [
    {
     "name": "stderr",
     "output_type": "stream",
     "text": [
      "C:\\Users\\antoi\\AppData\\Local\\Temp/ipykernel_22320/122182469.py:2: DeprecationWarning: Call to deprecated `init_sims` (Gensim 4.0.0 implemented internal optimizations that make calls to init_sims() unnecessary. init_sims() is now obsoleted and will be completely removed in future versions. See https://github.com/RaRe-Technologies/gensim/wiki/Migrating-from-Gensim-3.x-to-4).\n",
      "  model.init_sims(replace = True)\n"
     ]
    }
   ],
   "source": [
    "model = Doc2Vec(documents = corpus, vector_size = 10, min_count = 1)\n",
    "model.init_sims(replace = True)\n",
    "\n",
    "model.save(model_path)\n",
    "model = Doc2Vec.load(model_path)\n"
   ]
  },
  {
   "cell_type": "code",
   "execution_count": 54,
   "metadata": {},
   "outputs": [
    {
     "data": {
      "text/plain": [
       "-0.09528177231550217"
      ]
     },
     "execution_count": 54,
     "metadata": {},
     "output_type": "execute_result"
    }
   ],
   "source": [
    "v1 = model.infer_vector([' front national'])    # in doc2vec, infer_vector() function is used to infer the vector embedding of a document\n",
    "v2 = model.infer_vector(['insoumis'])    # in doc2vec, infer_vector() function is used to infer the vector embedding of a document\n",
    "# define a function that computes cosine similarity between two words\n",
    "def cosine_similarity(v1, v2):\n",
    "    return 1 - spatial.distance.cosine(v1, v2)\n",
    "cosine_similarity(v1, v2)\n",
    "\n",
    "\n",
    "\n",
    "\n"
   ]
  }
 ],
 "metadata": {
  "kernelspec": {
   "display_name": "Python 3 (ipykernel)",
   "language": "python",
   "name": "python3"
  },
  "language_info": {
   "codemirror_mode": {
    "name": "ipython",
    "version": 3
   },
   "file_extension": ".py",
   "mimetype": "text/x-python",
   "name": "python",
   "nbconvert_exporter": "python",
   "pygments_lexer": "ipython3",
   "version": "3.9.7"
  },
  "vscode": {
   "interpreter": {
    "hash": "ca02d05c83cb06a4d3d1bb3c2ad95bd9ee4b26f688526444572dc942a69d580d"
   }
  }
 },
 "nbformat": 4,
 "nbformat_minor": 2
}
