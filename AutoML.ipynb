{
 "cells": [
  {
   "cell_type": "markdown",
   "metadata": {},
   "source": [
    "# Notebook magique with AutoML"
   ]
  },
  {
   "cell_type": "markdown",
   "metadata": {},
   "source": [
    "TO DO:\n",
    "- remove outliers: implement new fucntion + get right percentage\n",
    "- test different numbers of topics and clusters \n",
    "\n",
    "See \n",
    "https://github.com/parklize/cikm2020-analyticup?fbclid=IwAR0Ti_pF7HrIO5ELFlvA1b2FEL_D68xlu_XdXeFxyARzBfY5U7a040klHTM"
   ]
  },
  {
   "cell_type": "code",
   "execution_count": 102,
   "metadata": {},
   "outputs": [],
   "source": [
    "import csv\n",
    "import numpy as np\n",
    "import pandas as pd\n",
    "import matplotlib.pyplot as plt\n",
    "import sns as sns\n",
    "from sklearn.metrics import mean_absolute_error\n",
    "from verstack.stratified_continuous_split import scsplit  # pip install verstack\n",
    "\n",
    "\n",
    "# Load the training data\n",
    "train_data = pd.read_csv(\"data/train.csv\")\n",
    "\n",
    "# Load the evaluation data\n",
    "eval_data = pd.read_csv(\"data/evaluation.csv\")\n"
   ]
  },
  {
   "cell_type": "markdown",
   "metadata": {},
   "source": [
    "Split data"
   ]
  },
  {
   "cell_type": "code",
   "execution_count": 103,
   "metadata": {},
   "outputs": [],
   "source": [
    "# split data\n",
    "X_train, X_test, y_train, y_test = scsplit(\n",
    "    train_data, train_data['retweets_count'], stratify=train_data['retweets_count'], train_size=0.8, test_size=0.2)\n",
    "# We remove the actual number of retweets from our features since it is the value that we are trying to predict\n",
    "X_train = X_train.drop(['retweets_count'], axis=1)\n",
    "X_test = X_test.drop(['retweets_count'], axis=1)\n"
   ]
  },
  {
   "cell_type": "markdown",
   "metadata": {},
   "source": [
    "## Outliers"
   ]
  },
  {
   "cell_type": "code",
   "execution_count": 104,
   "metadata": {},
   "outputs": [],
   "source": [
    "# remove outliers with quartile\n",
    "def remove_outliers(df, col):\n",
    "    q1 = df[col].quantile(0.25)\n",
    "    q3 = df[col].quantile(0.75)\n",
    "    iqr = q3 - q1\n",
    "    df = df[(df[col] >= q1 - 5 * iqr) & (df[col] <= q3 + 5 * iqr)]\n",
    "    return df\n"
   ]
  },
  {
   "cell_type": "markdown",
   "metadata": {},
   "source": [
    "\n",
    "\n",
    "# 2% of outliers are removed for 3 variables. In total 5 to 6% of  data is removed\n",
    "\n",
    "q = raw_data_mod_2[\"UserFollowersCount\"].quantile(0.98)\n",
    "data_1 = raw_data_mod_2[raw_data_mod_2[\"UserFollowersCount\"]<q]\n",
    "\n",
    "\n",
    "q2 = data_1[\"UserFriendsCount\"].quantile(0.98)\n",
    "data_2 = data_1[data_1[\"UserFriendsCount\"]<q2]\n",
    "\n",
    "\n",
    "q3 = data_2[\"UserTweetCount\"].quantile(0.98)\n",
    "data_3 = data_2[data_2[\"UserTweetCount\"]<q3]\n",
    "data_3.info()\n",
    "\n"
   ]
  },
  {
   "cell_type": "code",
   "execution_count": 105,
   "metadata": {},
   "outputs": [],
   "source": [
    "def feature_engineering(in_df):\n",
    "    rs_df = in_df\n",
    "\n",
    "    # mentions is always empty -> DROP Mention\n",
    "    rs_df = rs_df.drop(['mentions'], axis=1)\n",
    "\n",
    "    # add a column to data which counts url\n",
    "    rs_df['url_count'] = rs_df['urls'].str.count('http')\n",
    "    rs_df = rs_df.drop(['urls'], axis=1)\n",
    "    # add a column to data which gives length of hashtags\n",
    "    # TO DO\n",
    "    # add columns to data which makes ratios\n",
    "    rs_df['followers_friends'] = rs_df['followers_count'] / \\\n",
    "        (rs_df['friends_count'].apply(lambda x: x+1))\n",
    "    rs_df['favorites_followers'] = rs_df['favorites_count'] / \\\n",
    "        (rs_df['followers_count'].apply(lambda x: x+1))\n",
    "    rs_df['favorites_friends'] = rs_df['favorites_count'] / \\\n",
    "        (rs_df['friends_count'].apply(lambda x: x+1))\n",
    "    return rs_df\n"
   ]
  },
  {
   "cell_type": "code",
   "execution_count": 106,
   "metadata": {},
   "outputs": [],
   "source": [
    "from datetime import datetime\n",
    "\n",
    "\n",
    "def time_engineering(in_df):\n",
    "    rs_df = in_df\n",
    "    rs_df[\"hour\"] = rs_df['timestamp'].apply(\n",
    "        lambda t: (datetime.fromtimestamp(t//1000).hour))\n",
    "    rs_df[\"day\"] = rs_df['timestamp'].apply(\n",
    "        lambda t: (datetime.fromtimestamp(t//1000)).weekday())\n",
    "    rs_df[\"week_in_month\"] = rs_df['timestamp'].apply(\n",
    "        lambda t: (datetime.fromtimestamp(t//1000).day)//7)\n",
    "        \n",
    "    rs_df.drop(['timestamp'], axis=1)\n",
    "\n",
    "    return rs_df\n"
   ]
  },
  {
   "cell_type": "code",
   "execution_count": 124,
   "metadata": {},
   "outputs": [],
   "source": [
    "from sklearn.feature_extraction.text import TfidfVectorizer\n",
    "from sklearn.decomposition import TruncatedSVD\n",
    "from nltk.corpus import stopwords\n",
    "def extract_topic(df):\n",
    "    rs_df = df\n",
    "    rs_df['hashtags'] = rs_df['hashtags'].apply(\n",
    "        lambda x: x.replace('[', '').replace(']', '').replace(\"'\", ''))\n",
    "    #join text and hashtags\n",
    "    rs_df['total_text'] = rs_df['text'] + ' ' + rs_df['hashtags']\n",
    "    vectorizer = TfidfVectorizer(min_df=1, max_features=None, stop_words=stopwords.words('french'))\n",
    "    vector = vectorizer.fit_transform(df['text'])\n",
    "    svd = TruncatedSVD(n_components=5, n_iter=7, random_state=42)\n",
    "    svd.fit(vector)\n",
    "    topic=svd.transform(vector)\n",
    "    rs_df['topic_1'] = topic[:,0]\n",
    "    rs_df['topic_2'] = topic[:,1]\n",
    "    rs_df['topic_3'] = topic[:,2]\n",
    "    rs_df['topic_4'] = topic[:,3]\n",
    "    rs_df['topic_5'] = topic[:,4]\n",
    "    return rs_df"
   ]
  },
  {
   "cell_type": "code",
   "execution_count": 108,
   "metadata": {},
   "outputs": [],
   "source": [
    "from textblob import TextBlob  # pip install textblob-fr\n",
    "from textblob_fr import PatternTagger, PatternAnalyzer\n",
    "\n",
    "\n",
    "def text_engineering(in_df):\n",
    "    rs_df = in_df\n",
    "    # add columns related to sentiment analysis\n",
    "    rs_df['polarity'] = rs_df['text'].apply(lambda x: TextBlob(\n",
    "        x, pos_tagger=PatternTagger(), analyzer=PatternAnalyzer()).sentiment[0])\n",
    "    rs_df['subjectivity'] = rs_df['text'].apply(lambda x: TextBlob(\n",
    "        x, pos_tagger=PatternTagger(), analyzer=PatternAnalyzer()).sentiment[1])\n",
    "    # drop the text column\n",
    "    rs_df = rs_df.drop(['text'], axis=1)\n",
    "\n",
    "    return rs_df\n"
   ]
  },
  {
   "cell_type": "code",
   "execution_count": 109,
   "metadata": {},
   "outputs": [],
   "source": [
    "from sklearn.feature_extraction.text import CountVectorizer\n",
    "from nltk.corpus import stopwords\n",
    "\n",
    "\n",
    "def hashtags_engineering(in_df):\n",
    "    rs_df = in_df\n",
    "    # make a string of the list\n",
    "    rs_df['hashtags'] = rs_df['hashtags'].apply(\n",
    "        lambda x: x.replace('[', '').replace(']', '').replace(\"'\", ''))\n",
    "\n",
    "    # has hashtags or not\n",
    "    rs_df['has_hashtags'] = rs_df['hashtags'].apply(\n",
    "        lambda x: 0 if x == '' else 1)\n",
    "\n",
    "    # drop the hashtags column\n",
    "    rs_df = rs_df.drop(['hashtags'], axis=1)\n",
    "    return rs_df\n"
   ]
  },
  {
   "cell_type": "code",
   "execution_count": 110,
   "metadata": {},
   "outputs": [],
   "source": [
    "#import kmeans\n",
    "from sklearn.cluster import KMeans\n",
    "def extract_cluster(df,columns):\n",
    "    rs_df = df\n",
    "    rs_df['cluster'] = KMeans(n_clusters=1000, random_state=0).fit_predict(rs_df[columns].values.reshape(-1, 1))\n",
    "    return rs_df"
   ]
  },
  {
   "cell_type": "markdown",
   "metadata": {},
   "source": []
  },
  {
   "cell_type": "markdown",
   "metadata": {},
   "source": [
    "## Scaler"
   ]
  },
  {
   "cell_type": "code",
   "execution_count": 111,
   "metadata": {},
   "outputs": [],
   "source": [
    "def logtransformdrop(dataframe, cols):\n",
    "    for col in cols:\n",
    "        dataframe[col] = dataframe[col].apply(lambda x: np.log10(int(x)+1))\n",
    "    return dataframe\n"
   ]
  },
  {
   "cell_type": "markdown",
   "metadata": {},
   "source": [
    "## Data processing"
   ]
  },
  {
   "cell_type": "code",
   "execution_count": 112,
   "metadata": {},
   "outputs": [],
   "source": [
    "col = ['TweetID', 'followers_count', 'friends_count', 'favorites_count', 'statuses_count', 'verified', 'url_count', 'followers_friends',\n",
    "       'favorites_followers', 'favorites_friends', 'hour', 'day','week_in_month', 'polarity', 'subjectivity', 'has_hashtags', 'topic_1','topic_2', 'topic_3','topic_4', 'topic_5']#add cluster\n"
   ]
  },
  {
   "cell_type": "code",
   "execution_count": 133,
   "metadata": {},
   "outputs": [
    {
     "data": {
      "text/html": [
       "<div>\n",
       "<style scoped>\n",
       "    .dataframe tbody tr th:only-of-type {\n",
       "        vertical-align: middle;\n",
       "    }\n",
       "\n",
       "    .dataframe tbody tr th {\n",
       "        vertical-align: top;\n",
       "    }\n",
       "\n",
       "    .dataframe thead th {\n",
       "        text-align: right;\n",
       "    }\n",
       "</style>\n",
       "<table border=\"1\" class=\"dataframe\">\n",
       "  <thead>\n",
       "    <tr style=\"text-align: right;\">\n",
       "      <th></th>\n",
       "      <th>TweetID</th>\n",
       "      <th>followers_count</th>\n",
       "      <th>friends_count</th>\n",
       "      <th>favorites_count</th>\n",
       "      <th>statuses_count</th>\n",
       "      <th>verified</th>\n",
       "      <th>url_count</th>\n",
       "      <th>followers_friends</th>\n",
       "      <th>favorites_followers</th>\n",
       "      <th>favorites_friends</th>\n",
       "      <th>hour</th>\n",
       "      <th>day</th>\n",
       "      <th>week_in_month</th>\n",
       "      <th>polarity</th>\n",
       "      <th>subjectivity</th>\n",
       "      <th>has_hashtags</th>\n",
       "    </tr>\n",
       "  </thead>\n",
       "  <tbody>\n",
       "    <tr>\n",
       "      <th>35092</th>\n",
       "      <td>199708</td>\n",
       "      <td>6488</td>\n",
       "      <td>5473</td>\n",
       "      <td>1</td>\n",
       "      <td>36695</td>\n",
       "      <td>0</td>\n",
       "      <td>1</td>\n",
       "      <td>1.185239</td>\n",
       "      <td>0.000154</td>\n",
       "      <td>0.000183</td>\n",
       "      <td>10</td>\n",
       "      <td>5</td>\n",
       "      <td>1</td>\n",
       "      <td>-0.3425</td>\n",
       "      <td>0.35</td>\n",
       "      <td>0</td>\n",
       "    </tr>\n",
       "    <tr>\n",
       "      <th>328719</th>\n",
       "      <td>33061</td>\n",
       "      <td>76</td>\n",
       "      <td>122</td>\n",
       "      <td>0</td>\n",
       "      <td>2752</td>\n",
       "      <td>0</td>\n",
       "      <td>0</td>\n",
       "      <td>0.617886</td>\n",
       "      <td>0.000000</td>\n",
       "      <td>0.000000</td>\n",
       "      <td>20</td>\n",
       "      <td>2</td>\n",
       "      <td>2</td>\n",
       "      <td>0.0000</td>\n",
       "      <td>0.00</td>\n",
       "      <td>0</td>\n",
       "    </tr>\n",
       "    <tr>\n",
       "      <th>216072</th>\n",
       "      <td>780790</td>\n",
       "      <td>169</td>\n",
       "      <td>239</td>\n",
       "      <td>0</td>\n",
       "      <td>4364</td>\n",
       "      <td>0</td>\n",
       "      <td>0</td>\n",
       "      <td>0.704167</td>\n",
       "      <td>0.000000</td>\n",
       "      <td>0.000000</td>\n",
       "      <td>13</td>\n",
       "      <td>6</td>\n",
       "      <td>1</td>\n",
       "      <td>0.0000</td>\n",
       "      <td>0.00</td>\n",
       "      <td>0</td>\n",
       "    </tr>\n",
       "    <tr>\n",
       "      <th>277083</th>\n",
       "      <td>939455</td>\n",
       "      <td>838</td>\n",
       "      <td>1266</td>\n",
       "      <td>0</td>\n",
       "      <td>72241</td>\n",
       "      <td>0</td>\n",
       "      <td>0</td>\n",
       "      <td>0.661405</td>\n",
       "      <td>0.000000</td>\n",
       "      <td>0.000000</td>\n",
       "      <td>12</td>\n",
       "      <td>4</td>\n",
       "      <td>1</td>\n",
       "      <td>0.0000</td>\n",
       "      <td>0.00</td>\n",
       "      <td>0</td>\n",
       "    </tr>\n",
       "    <tr>\n",
       "      <th>128299</th>\n",
       "      <td>803238</td>\n",
       "      <td>1854</td>\n",
       "      <td>1968</td>\n",
       "      <td>0</td>\n",
       "      <td>1390</td>\n",
       "      <td>0</td>\n",
       "      <td>1</td>\n",
       "      <td>0.941595</td>\n",
       "      <td>0.000000</td>\n",
       "      <td>0.000000</td>\n",
       "      <td>19</td>\n",
       "      <td>6</td>\n",
       "      <td>1</td>\n",
       "      <td>0.2650</td>\n",
       "      <td>0.25</td>\n",
       "      <td>0</td>\n",
       "    </tr>\n",
       "  </tbody>\n",
       "</table>\n",
       "</div>"
      ],
      "text/plain": [
       "        TweetID  followers_count  friends_count  favorites_count  \\\n",
       "35092    199708             6488           5473                1   \n",
       "328719    33061               76            122                0   \n",
       "216072   780790              169            239                0   \n",
       "277083   939455              838           1266                0   \n",
       "128299   803238             1854           1968                0   \n",
       "\n",
       "        statuses_count  verified  url_count  followers_friends  \\\n",
       "35092            36695         0          1           1.185239   \n",
       "328719            2752         0          0           0.617886   \n",
       "216072            4364         0          0           0.704167   \n",
       "277083           72241         0          0           0.661405   \n",
       "128299            1390         0          1           0.941595   \n",
       "\n",
       "        favorites_followers  favorites_friends  hour  day  week_in_month  \\\n",
       "35092              0.000154           0.000183    10    5              1   \n",
       "328719             0.000000           0.000000    20    2              2   \n",
       "216072             0.000000           0.000000    13    6              1   \n",
       "277083             0.000000           0.000000    12    4              1   \n",
       "128299             0.000000           0.000000    19    6              1   \n",
       "\n",
       "        polarity  subjectivity  has_hashtags  \n",
       "35092    -0.3425          0.35             0  \n",
       "328719    0.0000          0.00             0  \n",
       "216072    0.0000          0.00             0  \n",
       "277083    0.0000          0.00             0  \n",
       "128299    0.2650          0.25             0  "
      ]
     },
     "execution_count": 133,
     "metadata": {},
     "output_type": "execute_result"
    }
   ],
   "source": [
    "new_X_train = feature_engineering(X_train)\n",
    "new_X_train = time_engineering(new_X_train)\n",
    "new_X_train = extract_topic(new_X_train)\n",
    "new_X_train = text_engineering(new_X_train)\n",
    "new_X_train = hashtags_engineering(new_X_train)\n",
    "#new_X_train = extract_cluster(new_X_train,['followers_count', 'friends_count', 'favorites_count', 'statuses_count','verified'])\n",
    "new_X_train = new_X_train.reindex(columns=col)\n",
    "new_X_train.drop(['topic_1','topic_2','topic_3','topic_4','topic_5'],axis=1).head()\n"
   ]
  },
  {
   "cell_type": "code",
   "execution_count": 159,
   "metadata": {},
   "outputs": [],
   "source": [
    "remove=['TweetID','verified','has_hashtags','polarity','subjectivity','week_in_month','topic_4','topic_5','favorites_followers','favorites_friends','url_count','topic_1','topic_3']"
   ]
  },
  {
   "cell_type": "markdown",
   "metadata": {},
   "source": [
    "## Flaml"
   ]
  },
  {
   "cell_type": "code",
   "execution_count": 153,
   "metadata": {},
   "outputs": [
    {
     "name": "stderr",
     "output_type": "stream",
     "text": [
      "[flaml.automl: 11-23 02:17:20] {2600} INFO - task = regression\n",
      "[flaml.automl: 11-23 02:17:20] {2602} INFO - Data split method: uniform\n",
      "[flaml.automl: 11-23 02:17:20] {2605} INFO - Evaluation method: holdout\n",
      "[flaml.automl: 11-23 02:17:20] {2727} INFO - Minimizing error metric: mae\n",
      "[flaml.automl: 11-23 02:17:20] {2869} INFO - List of ML learners in AutoML Run: ['rf']\n",
      "[flaml.automl: 11-23 02:17:20] {3164} INFO - iteration 0, current learner rf\n",
      "[flaml.automl: 11-23 02:17:20] {3297} INFO - Estimated sufficient time budget=16059s. Estimated necessary time budget=16s.\n",
      "[flaml.automl: 11-23 02:17:20] {3344} INFO -  at 0.9s,\testimator rf's best error=12.6027,\tbest estimator rf's best error=12.6027\n",
      "[flaml.automl: 11-23 02:17:20] {3164} INFO - iteration 1, current learner rf\n",
      "[flaml.automl: 11-23 02:17:20] {3344} INFO -  at 0.9s,\testimator rf's best error=11.4078,\tbest estimator rf's best error=11.4078\n",
      "[flaml.automl: 11-23 02:17:20] {3164} INFO - iteration 2, current learner rf\n",
      "[flaml.automl: 11-23 02:17:20] {3344} INFO -  at 1.0s,\testimator rf's best error=11.4078,\tbest estimator rf's best error=11.4078\n",
      "[flaml.automl: 11-23 02:17:20] {3164} INFO - iteration 3, current learner rf\n",
      "[flaml.automl: 11-23 02:17:20] {3344} INFO -  at 1.1s,\testimator rf's best error=9.6343,\tbest estimator rf's best error=9.6343\n",
      "[flaml.automl: 11-23 02:17:20] {3164} INFO - iteration 4, current learner rf\n",
      "[flaml.automl: 11-23 02:17:20] {3344} INFO -  at 1.2s,\testimator rf's best error=9.6343,\tbest estimator rf's best error=9.6343\n",
      "[flaml.automl: 11-23 02:17:20] {3164} INFO - iteration 5, current learner rf\n",
      "[flaml.automl: 11-23 02:17:20] {3344} INFO -  at 1.3s,\testimator rf's best error=7.6544,\tbest estimator rf's best error=7.6544\n",
      "[flaml.automl: 11-23 02:17:20] {3164} INFO - iteration 6, current learner rf\n",
      "[flaml.automl: 11-23 02:17:21] {3344} INFO -  at 1.4s,\testimator rf's best error=7.6544,\tbest estimator rf's best error=7.6544\n",
      "[flaml.automl: 11-23 02:17:21] {3164} INFO - iteration 7, current learner rf\n",
      "[flaml.automl: 11-23 02:17:21] {3344} INFO -  at 1.5s,\testimator rf's best error=7.6544,\tbest estimator rf's best error=7.6544\n",
      "[flaml.automl: 11-23 02:17:21] {3164} INFO - iteration 8, current learner rf\n",
      "[flaml.automl: 11-23 02:17:21] {3344} INFO -  at 1.6s,\testimator rf's best error=7.6544,\tbest estimator rf's best error=7.6544\n",
      "[flaml.automl: 11-23 02:17:21] {3164} INFO - iteration 9, current learner rf\n",
      "[flaml.automl: 11-23 02:17:21] {3344} INFO -  at 1.8s,\testimator rf's best error=7.2718,\tbest estimator rf's best error=7.2718\n",
      "[flaml.automl: 11-23 02:17:21] {3164} INFO - iteration 10, current learner rf\n",
      "[flaml.automl: 11-23 02:17:21] {3344} INFO -  at 1.9s,\testimator rf's best error=7.2718,\tbest estimator rf's best error=7.2718\n",
      "[flaml.automl: 11-23 02:17:21] {3164} INFO - iteration 11, current learner rf\n",
      "[flaml.automl: 11-23 02:17:21] {3344} INFO -  at 2.0s,\testimator rf's best error=7.2718,\tbest estimator rf's best error=7.2718\n",
      "[flaml.automl: 11-23 02:17:21] {3164} INFO - iteration 12, current learner rf\n",
      "[flaml.automl: 11-23 02:17:21] {3344} INFO -  at 2.1s,\testimator rf's best error=7.2718,\tbest estimator rf's best error=7.2718\n",
      "[flaml.automl: 11-23 02:17:21] {3164} INFO - iteration 13, current learner rf\n",
      "[flaml.automl: 11-23 02:17:21] {3344} INFO -  at 2.3s,\testimator rf's best error=7.2718,\tbest estimator rf's best error=7.2718\n",
      "[flaml.automl: 11-23 02:17:21] {3164} INFO - iteration 14, current learner rf\n",
      "[flaml.automl: 11-23 02:17:22] {3344} INFO -  at 2.7s,\testimator rf's best error=7.2718,\tbest estimator rf's best error=7.2718\n",
      "[flaml.automl: 11-23 02:17:22] {3164} INFO - iteration 15, current learner rf\n",
      "[flaml.automl: 11-23 02:17:22] {3344} INFO -  at 3.2s,\testimator rf's best error=7.2718,\tbest estimator rf's best error=7.2718\n",
      "[flaml.automl: 11-23 02:17:22] {3164} INFO - iteration 16, current learner rf\n",
      "[flaml.automl: 11-23 02:17:23] {3344} INFO -  at 3.5s,\testimator rf's best error=6.9985,\tbest estimator rf's best error=6.9985\n",
      "[flaml.automl: 11-23 02:17:23] {3164} INFO - iteration 17, current learner rf\n",
      "[flaml.automl: 11-23 02:17:23] {3344} INFO -  at 3.8s,\testimator rf's best error=6.9985,\tbest estimator rf's best error=6.9985\n",
      "[flaml.automl: 11-23 02:17:23] {3164} INFO - iteration 18, current learner rf\n",
      "[flaml.automl: 11-23 02:17:23] {3344} INFO -  at 4.2s,\testimator rf's best error=6.9985,\tbest estimator rf's best error=6.9985\n",
      "[flaml.automl: 11-23 02:17:23] {3164} INFO - iteration 19, current learner rf\n",
      "[flaml.automl: 11-23 02:17:24] {3344} INFO -  at 4.5s,\testimator rf's best error=6.9985,\tbest estimator rf's best error=6.9985\n",
      "[flaml.automl: 11-23 02:17:24] {3164} INFO - iteration 20, current learner rf\n",
      "[flaml.automl: 11-23 02:17:24] {3344} INFO -  at 4.9s,\testimator rf's best error=6.9985,\tbest estimator rf's best error=6.9985\n",
      "[flaml.automl: 11-23 02:17:24] {3164} INFO - iteration 21, current learner rf\n",
      "[flaml.automl: 11-23 02:17:26] {3344} INFO -  at 6.8s,\testimator rf's best error=6.9985,\tbest estimator rf's best error=6.9985\n",
      "[flaml.automl: 11-23 02:17:26] {3164} INFO - iteration 22, current learner rf\n",
      "[flaml.automl: 11-23 02:17:29] {3344} INFO -  at 10.3s,\testimator rf's best error=6.9985,\tbest estimator rf's best error=6.9985\n",
      "[flaml.automl: 11-23 02:17:29] {3164} INFO - iteration 23, current learner rf\n",
      "[flaml.automl: 11-23 02:17:31] {3344} INFO -  at 12.0s,\testimator rf's best error=6.9486,\tbest estimator rf's best error=6.9486\n",
      "[flaml.automl: 11-23 02:17:31] {3164} INFO - iteration 24, current learner rf\n",
      "[flaml.automl: 11-23 02:17:33] {3344} INFO -  at 13.7s,\testimator rf's best error=6.9486,\tbest estimator rf's best error=6.9486\n",
      "[flaml.automl: 11-23 02:17:33] {3164} INFO - iteration 25, current learner rf\n",
      "[flaml.automl: 11-23 02:17:37] {3344} INFO -  at 17.4s,\testimator rf's best error=6.9486,\tbest estimator rf's best error=6.9486\n",
      "[flaml.automl: 11-23 02:17:37] {3164} INFO - iteration 26, current learner rf\n",
      "[flaml.automl: 11-23 02:17:39] {3344} INFO -  at 19.4s,\testimator rf's best error=6.9486,\tbest estimator rf's best error=6.9486\n",
      "[flaml.automl: 11-23 02:17:39] {3164} INFO - iteration 27, current learner rf\n",
      "[flaml.automl: 11-23 02:17:41] {3344} INFO -  at 21.9s,\testimator rf's best error=6.9486,\tbest estimator rf's best error=6.9486\n",
      "[flaml.automl: 11-23 02:17:41] {3164} INFO - iteration 28, current learner rf\n",
      "[flaml.automl: 11-23 02:17:43] {3344} INFO -  at 23.4s,\testimator rf's best error=6.9486,\tbest estimator rf's best error=6.9486\n",
      "[flaml.automl: 11-23 02:17:43] {3164} INFO - iteration 29, current learner rf\n",
      "[flaml.automl: 11-23 02:17:45] {3344} INFO -  at 25.9s,\testimator rf's best error=6.8719,\tbest estimator rf's best error=6.8719\n",
      "[flaml.automl: 11-23 02:17:45] {3164} INFO - iteration 30, current learner rf\n",
      "[flaml.automl: 11-23 02:17:48] {3344} INFO -  at 28.8s,\testimator rf's best error=6.8719,\tbest estimator rf's best error=6.8719\n",
      "[flaml.automl: 11-23 02:17:48] {3164} INFO - iteration 31, current learner rf\n",
      "[flaml.automl: 11-23 02:17:51] {3344} INFO -  at 31.8s,\testimator rf's best error=6.7476,\tbest estimator rf's best error=6.7476\n",
      "[flaml.automl: 11-23 02:17:51] {3164} INFO - iteration 32, current learner rf\n",
      "[flaml.automl: 11-23 02:17:55] {3344} INFO -  at 35.9s,\testimator rf's best error=6.7476,\tbest estimator rf's best error=6.7476\n",
      "[flaml.automl: 11-23 02:17:55] {3164} INFO - iteration 33, current learner rf\n",
      "[flaml.automl: 11-23 02:17:58] {3344} INFO -  at 38.5s,\testimator rf's best error=6.7476,\tbest estimator rf's best error=6.7476\n",
      "[flaml.automl: 11-23 02:17:58] {3164} INFO - iteration 34, current learner rf\n",
      "[flaml.automl: 11-23 02:18:01] {3344} INFO -  at 41.6s,\testimator rf's best error=6.7476,\tbest estimator rf's best error=6.7476\n",
      "[flaml.automl: 11-23 02:18:01] {3164} INFO - iteration 35, current learner rf\n",
      "[flaml.automl: 11-23 02:18:04] {3344} INFO -  at 45.0s,\testimator rf's best error=6.6883,\tbest estimator rf's best error=6.6883\n",
      "[flaml.automl: 11-23 02:18:04] {3164} INFO - iteration 36, current learner rf\n",
      "[flaml.automl: 11-23 02:18:07] {3344} INFO -  at 47.7s,\testimator rf's best error=6.6883,\tbest estimator rf's best error=6.6883\n",
      "[flaml.automl: 11-23 02:18:07] {3164} INFO - iteration 37, current learner rf\n",
      "[flaml.automl: 11-23 02:18:10] {3344} INFO -  at 50.7s,\testimator rf's best error=6.6883,\tbest estimator rf's best error=6.6883\n",
      "[flaml.automl: 11-23 02:18:10] {3164} INFO - iteration 38, current learner rf\n",
      "[flaml.automl: 11-23 02:18:15] {3344} INFO -  at 55.5s,\testimator rf's best error=6.4851,\tbest estimator rf's best error=6.4851\n",
      "[flaml.automl: 11-23 02:18:15] {3164} INFO - iteration 39, current learner rf\n",
      "[flaml.automl: 11-23 02:18:18] {3344} INFO -  at 58.8s,\testimator rf's best error=6.4851,\tbest estimator rf's best error=6.4851\n",
      "[flaml.automl: 11-23 02:18:18] {3164} INFO - iteration 40, current learner rf\n",
      "[flaml.automl: 11-23 02:18:24] {3344} INFO -  at 64.5s,\testimator rf's best error=6.4851,\tbest estimator rf's best error=6.4851\n",
      "[flaml.automl: 11-23 02:18:24] {3164} INFO - iteration 41, current learner rf\n",
      "[flaml.automl: 11-23 02:18:28] {3344} INFO -  at 69.1s,\testimator rf's best error=6.4851,\tbest estimator rf's best error=6.4851\n",
      "[flaml.automl: 11-23 02:18:28] {3164} INFO - iteration 42, current learner rf\n",
      "[flaml.automl: 11-23 02:18:34] {3344} INFO -  at 74.7s,\testimator rf's best error=6.4851,\tbest estimator rf's best error=6.4851\n",
      "[flaml.automl: 11-23 02:18:34] {3164} INFO - iteration 43, current learner rf\n",
      "[flaml.automl: 11-23 02:18:36] {3344} INFO -  at 76.9s,\testimator rf's best error=6.4851,\tbest estimator rf's best error=6.4851\n",
      "[flaml.automl: 11-23 02:18:36] {3164} INFO - iteration 44, current learner rf\n",
      "[flaml.automl: 11-23 02:18:40] {3344} INFO -  at 80.5s,\testimator rf's best error=6.4851,\tbest estimator rf's best error=6.4851\n",
      "[flaml.automl: 11-23 02:18:40] {3164} INFO - iteration 45, current learner rf\n",
      "[flaml.automl: 11-23 02:18:43] {3344} INFO -  at 84.0s,\testimator rf's best error=6.4851,\tbest estimator rf's best error=6.4851\n",
      "[flaml.automl: 11-23 02:18:43] {3164} INFO - iteration 46, current learner rf\n",
      "[flaml.automl: 11-23 02:18:46] {3344} INFO -  at 86.6s,\testimator rf's best error=6.4851,\tbest estimator rf's best error=6.4851\n",
      "[flaml.automl: 11-23 02:18:46] {3164} INFO - iteration 47, current learner rf\n",
      "[flaml.automl: 11-23 02:18:50] {3344} INFO -  at 90.9s,\testimator rf's best error=6.4851,\tbest estimator rf's best error=6.4851\n",
      "[flaml.automl: 11-23 02:18:50] {3164} INFO - iteration 48, current learner rf\n",
      "[flaml.automl: 11-23 02:18:56] {3344} INFO -  at 96.8s,\testimator rf's best error=6.1702,\tbest estimator rf's best error=6.1702\n",
      "[flaml.automl: 11-23 02:18:56] {3164} INFO - iteration 49, current learner rf\n",
      "[flaml.automl: 11-23 02:19:00] {3344} INFO -  at 100.9s,\testimator rf's best error=6.1702,\tbest estimator rf's best error=6.1702\n",
      "[flaml.automl: 11-23 02:19:00] {3164} INFO - iteration 50, current learner rf\n",
      "[flaml.automl: 11-23 02:19:06] {3344} INFO -  at 107.1s,\testimator rf's best error=6.1702,\tbest estimator rf's best error=6.1702\n",
      "[flaml.automl: 11-23 02:19:06] {3164} INFO - iteration 51, current learner rf\n",
      "[flaml.automl: 11-23 02:19:10] {3344} INFO -  at 111.2s,\testimator rf's best error=6.1702,\tbest estimator rf's best error=6.1702\n",
      "[flaml.automl: 11-23 02:19:10] {3164} INFO - iteration 52, current learner rf\n",
      "[flaml.automl: 11-23 02:19:15] {3344} INFO -  at 116.3s,\testimator rf's best error=6.1702,\tbest estimator rf's best error=6.1702\n",
      "[flaml.automl: 11-23 02:19:15] {3164} INFO - iteration 53, current learner rf\n",
      "[flaml.automl: 11-23 02:19:21] {3344} INFO -  at 121.5s,\testimator rf's best error=6.1702,\tbest estimator rf's best error=6.1702\n",
      "[flaml.automl: 11-23 02:19:21] {3164} INFO - iteration 54, current learner rf\n",
      "[flaml.automl: 11-23 02:19:26] {3344} INFO -  at 127.0s,\testimator rf's best error=6.0769,\tbest estimator rf's best error=6.0769\n",
      "[flaml.automl: 11-23 02:19:26] {3164} INFO - iteration 55, current learner rf\n",
      "[flaml.automl: 11-23 02:19:30] {3344} INFO -  at 130.9s,\testimator rf's best error=6.0769,\tbest estimator rf's best error=6.0769\n",
      "[flaml.automl: 11-23 02:19:30] {3164} INFO - iteration 56, current learner rf\n",
      "[flaml.automl: 11-23 02:19:35] {3344} INFO -  at 135.5s,\testimator rf's best error=6.0769,\tbest estimator rf's best error=6.0769\n",
      "[flaml.automl: 11-23 02:19:35] {3164} INFO - iteration 57, current learner rf\n",
      "[flaml.automl: 11-23 02:19:40] {3344} INFO -  at 140.4s,\testimator rf's best error=6.0769,\tbest estimator rf's best error=6.0769\n",
      "[flaml.automl: 11-23 02:19:40] {3164} INFO - iteration 58, current learner rf\n",
      "[flaml.automl: 11-23 02:19:44] {3344} INFO -  at 144.5s,\testimator rf's best error=6.0769,\tbest estimator rf's best error=6.0769\n",
      "[flaml.automl: 11-23 02:19:44] {3164} INFO - iteration 59, current learner rf\n",
      "[flaml.automl: 11-23 02:19:50] {3344} INFO -  at 150.4s,\testimator rf's best error=6.0769,\tbest estimator rf's best error=6.0769\n",
      "[flaml.automl: 11-23 02:19:50] {3164} INFO - iteration 60, current learner rf\n",
      "[flaml.automl: 11-23 02:19:55] {3344} INFO -  at 156.3s,\testimator rf's best error=6.0769,\tbest estimator rf's best error=6.0769\n",
      "[flaml.automl: 11-23 02:19:55] {3164} INFO - iteration 61, current learner rf\n",
      "[flaml.automl: 11-23 02:19:59] {3344} INFO -  at 160.3s,\testimator rf's best error=6.0769,\tbest estimator rf's best error=6.0769\n",
      "[flaml.automl: 11-23 02:19:59] {3164} INFO - iteration 62, current learner rf\n",
      "[flaml.automl: 11-23 02:20:05] {3344} INFO -  at 165.4s,\testimator rf's best error=6.0769,\tbest estimator rf's best error=6.0769\n",
      "[flaml.automl: 11-23 02:20:05] {3164} INFO - iteration 63, current learner rf\n",
      "[flaml.automl: 11-23 02:20:09] {3344} INFO -  at 170.3s,\testimator rf's best error=6.0769,\tbest estimator rf's best error=6.0769\n",
      "[flaml.automl: 11-23 02:20:09] {3164} INFO - iteration 64, current learner rf\n",
      "[flaml.automl: 11-23 02:20:16] {3344} INFO -  at 176.4s,\testimator rf's best error=6.0769,\tbest estimator rf's best error=6.0769\n",
      "[flaml.automl: 11-23 02:20:16] {3164} INFO - iteration 65, current learner rf\n",
      "[flaml.automl: 11-23 02:20:20] {3344} INFO -  at 181.3s,\testimator rf's best error=6.0769,\tbest estimator rf's best error=6.0769\n",
      "[flaml.automl: 11-23 02:20:20] {3164} INFO - iteration 66, current learner rf\n",
      "[flaml.automl: 11-23 02:20:26] {3344} INFO -  at 186.7s,\testimator rf's best error=6.0769,\tbest estimator rf's best error=6.0769\n",
      "[flaml.automl: 11-23 02:20:26] {3164} INFO - iteration 67, current learner rf\n",
      "[flaml.automl: 11-23 02:20:30] {3344} INFO -  at 191.0s,\testimator rf's best error=6.0769,\tbest estimator rf's best error=6.0769\n",
      "[flaml.automl: 11-23 02:20:30] {3164} INFO - iteration 68, current learner rf\n",
      "[flaml.automl: 11-23 02:20:36] {3344} INFO -  at 197.1s,\testimator rf's best error=6.0769,\tbest estimator rf's best error=6.0769\n",
      "[flaml.automl: 11-23 02:20:36] {3164} INFO - iteration 69, current learner rf\n",
      "[flaml.automl: 11-23 02:20:40] {3344} INFO -  at 200.8s,\testimator rf's best error=6.0769,\tbest estimator rf's best error=6.0769\n",
      "[flaml.automl: 11-23 02:20:40] {3164} INFO - iteration 70, current learner rf\n",
      "[flaml.automl: 11-23 02:20:44] {3344} INFO -  at 205.3s,\testimator rf's best error=6.0769,\tbest estimator rf's best error=6.0769\n",
      "[flaml.automl: 11-23 02:20:44] {3164} INFO - iteration 71, current learner rf\n",
      "[flaml.automl: 11-23 02:20:50] {3344} INFO -  at 210.4s,\testimator rf's best error=6.0769,\tbest estimator rf's best error=6.0769\n",
      "[flaml.automl: 11-23 02:20:50] {3164} INFO - iteration 72, current learner rf\n",
      "[flaml.automl: 11-23 02:20:56] {3344} INFO -  at 216.8s,\testimator rf's best error=6.0769,\tbest estimator rf's best error=6.0769\n",
      "[flaml.automl: 11-23 02:20:56] {3164} INFO - iteration 73, current learner rf\n",
      "[flaml.automl: 11-23 02:21:00] {3344} INFO -  at 220.5s,\testimator rf's best error=6.0769,\tbest estimator rf's best error=6.0769\n",
      "[flaml.automl: 11-23 02:21:00] {3164} INFO - iteration 74, current learner rf\n",
      "[flaml.automl: 11-23 02:21:04] {3344} INFO -  at 224.7s,\testimator rf's best error=6.0769,\tbest estimator rf's best error=6.0769\n",
      "[flaml.automl: 11-23 02:21:04] {3164} INFO - iteration 75, current learner rf\n",
      "[flaml.automl: 11-23 02:21:09] {3344} INFO -  at 230.1s,\testimator rf's best error=6.0769,\tbest estimator rf's best error=6.0769\n",
      "[flaml.automl: 11-23 02:21:09] {3164} INFO - iteration 76, current learner rf\n",
      "[flaml.automl: 11-23 02:21:16] {3344} INFO -  at 237.3s,\testimator rf's best error=6.0769,\tbest estimator rf's best error=6.0769\n",
      "[flaml.automl: 11-23 02:21:16] {3164} INFO - iteration 77, current learner rf\n",
      "[flaml.automl: 11-23 02:21:21] {3344} INFO -  at 241.4s,\testimator rf's best error=6.0769,\tbest estimator rf's best error=6.0769\n",
      "[flaml.automl: 11-23 02:21:21] {3164} INFO - iteration 78, current learner rf\n",
      "[flaml.automl: 11-23 02:21:28] {3344} INFO -  at 248.8s,\testimator rf's best error=6.0769,\tbest estimator rf's best error=6.0769\n",
      "[flaml.automl: 11-23 02:21:28] {3164} INFO - iteration 79, current learner rf\n",
      "[flaml.automl: 11-23 02:21:32] {3344} INFO -  at 253.2s,\testimator rf's best error=6.0769,\tbest estimator rf's best error=6.0769\n",
      "[flaml.automl: 11-23 02:21:32] {3164} INFO - iteration 80, current learner rf\n",
      "[flaml.automl: 11-23 02:21:37] {3344} INFO -  at 257.4s,\testimator rf's best error=6.0769,\tbest estimator rf's best error=6.0769\n",
      "[flaml.automl: 11-23 02:21:37] {3164} INFO - iteration 81, current learner rf\n",
      "[flaml.automl: 11-23 02:21:42] {3344} INFO -  at 262.7s,\testimator rf's best error=6.0769,\tbest estimator rf's best error=6.0769\n",
      "[flaml.automl: 11-23 02:21:42] {3164} INFO - iteration 82, current learner rf\n",
      "[flaml.automl: 11-23 02:21:50] {3344} INFO -  at 271.0s,\testimator rf's best error=6.0769,\tbest estimator rf's best error=6.0769\n",
      "[flaml.automl: 11-23 02:21:50] {3164} INFO - iteration 83, current learner rf\n",
      "[flaml.automl: 11-23 02:21:54] {3344} INFO -  at 275.2s,\testimator rf's best error=6.0769,\tbest estimator rf's best error=6.0769\n",
      "[flaml.automl: 11-23 02:21:54] {3164} INFO - iteration 84, current learner rf\n",
      "[flaml.automl: 11-23 02:22:00] {3344} INFO -  at 281.3s,\testimator rf's best error=6.0769,\tbest estimator rf's best error=6.0769\n",
      "[flaml.automl: 11-23 02:22:00] {3164} INFO - iteration 85, current learner rf\n",
      "[flaml.automl: 11-23 02:22:06] {3344} INFO -  at 286.4s,\testimator rf's best error=6.0769,\tbest estimator rf's best error=6.0769\n",
      "[flaml.automl: 11-23 02:22:06] {3164} INFO - iteration 86, current learner rf\n",
      "[flaml.automl: 11-23 02:22:11] {3344} INFO -  at 291.8s,\testimator rf's best error=6.0594,\tbest estimator rf's best error=6.0594\n",
      "[flaml.automl: 11-23 02:22:11] {3164} INFO - iteration 87, current learner rf\n",
      "[flaml.automl: 11-23 02:22:16] {3344} INFO -  at 297.1s,\testimator rf's best error=6.0594,\tbest estimator rf's best error=6.0594\n",
      "[flaml.automl: 11-23 02:22:16] {3164} INFO - iteration 88, current learner rf\n",
      "[flaml.automl: 11-23 02:22:25] {3344} INFO -  at 306.1s,\testimator rf's best error=6.0594,\tbest estimator rf's best error=6.0594\n",
      "[flaml.automl: 11-23 02:22:25] {3164} INFO - iteration 89, current learner rf\n",
      "[flaml.automl: 11-23 02:22:30] {3344} INFO -  at 310.4s,\testimator rf's best error=6.0594,\tbest estimator rf's best error=6.0594\n",
      "[flaml.automl: 11-23 02:22:30] {3164} INFO - iteration 90, current learner rf\n",
      "[flaml.automl: 11-23 02:22:34] {3344} INFO -  at 315.1s,\testimator rf's best error=6.0594,\tbest estimator rf's best error=6.0594\n",
      "[flaml.automl: 11-23 02:22:34] {3164} INFO - iteration 91, current learner rf\n",
      "[flaml.automl: 11-23 02:22:44] {3344} INFO -  at 324.6s,\testimator rf's best error=6.0594,\tbest estimator rf's best error=6.0594\n",
      "[flaml.automl: 11-23 02:22:44] {3164} INFO - iteration 92, current learner rf\n",
      "[flaml.automl: 11-23 02:22:49] {3344} INFO -  at 330.1s,\testimator rf's best error=6.0594,\tbest estimator rf's best error=6.0594\n",
      "[flaml.automl: 11-23 02:22:49] {3164} INFO - iteration 93, current learner rf\n",
      "[flaml.automl: 11-23 02:22:56] {3344} INFO -  at 337.1s,\testimator rf's best error=6.0594,\tbest estimator rf's best error=6.0594\n",
      "[flaml.automl: 11-23 02:22:56] {3164} INFO - iteration 94, current learner rf\n",
      "[flaml.automl: 11-23 02:23:03] {3344} INFO -  at 344.0s,\testimator rf's best error=6.0594,\tbest estimator rf's best error=6.0594\n",
      "[flaml.automl: 11-23 02:23:03] {3164} INFO - iteration 95, current learner rf\n",
      "[flaml.automl: 11-23 02:23:09] {3344} INFO -  at 349.7s,\testimator rf's best error=6.0594,\tbest estimator rf's best error=6.0594\n",
      "[flaml.automl: 11-23 02:23:09] {3164} INFO - iteration 96, current learner rf\n",
      "[flaml.automl: 11-23 02:23:19] {3344} INFO -  at 359.5s,\testimator rf's best error=6.0594,\tbest estimator rf's best error=6.0594\n",
      "[flaml.automl: 11-23 02:23:19] {3164} INFO - iteration 97, current learner rf\n",
      "[flaml.automl: 11-23 02:23:24] {3344} INFO -  at 364.4s,\testimator rf's best error=6.0594,\tbest estimator rf's best error=6.0594\n",
      "[flaml.automl: 11-23 02:23:24] {3164} INFO - iteration 98, current learner rf\n",
      "[flaml.automl: 11-23 02:23:30] {3344} INFO -  at 371.0s,\testimator rf's best error=6.0594,\tbest estimator rf's best error=6.0594\n",
      "[flaml.automl: 11-23 02:23:30] {3164} INFO - iteration 99, current learner rf\n",
      "[flaml.automl: 11-23 02:23:37] {3344} INFO -  at 377.7s,\testimator rf's best error=6.0594,\tbest estimator rf's best error=6.0594\n",
      "[flaml.automl: 11-23 02:23:37] {3164} INFO - iteration 100, current learner rf\n",
      "[flaml.automl: 11-23 02:23:42] {3344} INFO -  at 382.8s,\testimator rf's best error=6.0594,\tbest estimator rf's best error=6.0594\n",
      "[flaml.automl: 11-23 02:23:42] {3164} INFO - iteration 101, current learner rf\n",
      "[flaml.automl: 11-23 02:23:51] {3344} INFO -  at 391.9s,\testimator rf's best error=6.0594,\tbest estimator rf's best error=6.0594\n",
      "[flaml.automl: 11-23 02:23:51] {3164} INFO - iteration 102, current learner rf\n",
      "[flaml.automl: 11-23 02:24:00] {3344} INFO -  at 400.7s,\testimator rf's best error=6.0594,\tbest estimator rf's best error=6.0594\n",
      "[flaml.automl: 11-23 02:24:00] {3164} INFO - iteration 103, current learner rf\n",
      "[flaml.automl: 11-23 02:24:06] {3344} INFO -  at 406.5s,\testimator rf's best error=6.0594,\tbest estimator rf's best error=6.0594\n",
      "[flaml.automl: 11-23 02:24:06] {3164} INFO - iteration 104, current learner rf\n",
      "[flaml.automl: 11-23 02:24:11] {3344} INFO -  at 411.9s,\testimator rf's best error=6.0594,\tbest estimator rf's best error=6.0594\n",
      "[flaml.automl: 11-23 02:24:11] {3164} INFO - iteration 105, current learner rf\n",
      "[flaml.automl: 11-23 02:24:21] {3344} INFO -  at 421.5s,\testimator rf's best error=6.0594,\tbest estimator rf's best error=6.0594\n",
      "[flaml.automl: 11-23 02:24:21] {3164} INFO - iteration 106, current learner rf\n",
      "[flaml.automl: 11-23 02:24:30] {3344} INFO -  at 430.4s,\testimator rf's best error=5.8749,\tbest estimator rf's best error=5.8749\n",
      "[flaml.automl: 11-23 02:24:30] {3164} INFO - iteration 107, current learner rf\n",
      "[flaml.automl: 11-23 02:24:35] {3344} INFO -  at 436.3s,\testimator rf's best error=5.8749,\tbest estimator rf's best error=5.8749\n",
      "[flaml.automl: 11-23 02:24:35] {3164} INFO - iteration 108, current learner rf\n",
      "[flaml.automl: 11-23 02:24:41] {3344} INFO -  at 442.2s,\testimator rf's best error=5.8749,\tbest estimator rf's best error=5.8749\n",
      "[flaml.automl: 11-23 02:24:41] {3164} INFO - iteration 109, current learner rf\n",
      "[flaml.automl: 11-23 02:24:55] {3344} INFO -  at 455.9s,\testimator rf's best error=5.8749,\tbest estimator rf's best error=5.8749\n",
      "[flaml.automl: 11-23 02:24:55] {3164} INFO - iteration 110, current learner rf\n",
      "[flaml.automl: 11-23 02:25:01] {3344} INFO -  at 462.1s,\testimator rf's best error=5.8749,\tbest estimator rf's best error=5.8749\n",
      "[flaml.automl: 11-23 02:25:01] {3164} INFO - iteration 111, current learner rf\n",
      "[flaml.automl: 11-23 02:25:13] {3344} INFO -  at 473.9s,\testimator rf's best error=5.8749,\tbest estimator rf's best error=5.8749\n",
      "[flaml.automl: 11-23 02:25:13] {3164} INFO - iteration 112, current learner rf\n",
      "[flaml.automl: 11-23 02:25:26] {3344} INFO -  at 486.5s,\testimator rf's best error=5.8749,\tbest estimator rf's best error=5.8749\n",
      "[flaml.automl: 11-23 02:25:26] {3164} INFO - iteration 113, current learner rf\n",
      "[flaml.automl: 11-23 02:25:32] {3344} INFO -  at 492.9s,\testimator rf's best error=5.8749,\tbest estimator rf's best error=5.8749\n",
      "[flaml.automl: 11-23 02:25:32] {3164} INFO - iteration 114, current learner rf\n",
      "[flaml.automl: 11-23 02:25:39] {3344} INFO -  at 500.1s,\testimator rf's best error=5.8749,\tbest estimator rf's best error=5.8749\n",
      "[flaml.automl: 11-23 02:25:39] {3164} INFO - iteration 115, current learner rf\n",
      "[flaml.automl: 11-23 02:25:49] {3344} INFO -  at 509.6s,\testimator rf's best error=5.8749,\tbest estimator rf's best error=5.8749\n",
      "[flaml.automl: 11-23 02:25:49] {3164} INFO - iteration 116, current learner rf\n",
      "[flaml.automl: 11-23 02:25:57] {3344} INFO -  at 517.8s,\testimator rf's best error=5.8749,\tbest estimator rf's best error=5.8749\n",
      "[flaml.automl: 11-23 02:25:57] {3164} INFO - iteration 117, current learner rf\n",
      "[flaml.automl: 11-23 02:26:06] {3344} INFO -  at 526.6s,\testimator rf's best error=5.8749,\tbest estimator rf's best error=5.8749\n",
      "[flaml.automl: 11-23 02:26:06] {3164} INFO - iteration 118, current learner rf\n",
      "[flaml.automl: 11-23 02:26:17] {3344} INFO -  at 537.5s,\testimator rf's best error=5.8749,\tbest estimator rf's best error=5.8749\n",
      "[flaml.automl: 11-23 02:26:17] {3164} INFO - iteration 119, current learner rf\n",
      "[flaml.automl: 11-23 02:26:23] {3344} INFO -  at 543.9s,\testimator rf's best error=5.8749,\tbest estimator rf's best error=5.8749\n",
      "[flaml.automl: 11-23 02:26:23] {3164} INFO - iteration 120, current learner rf\n",
      "[flaml.automl: 11-23 02:26:29] {3344} INFO -  at 549.4s,\testimator rf's best error=5.8749,\tbest estimator rf's best error=5.8749\n",
      "[flaml.automl: 11-23 02:26:29] {3164} INFO - iteration 121, current learner rf\n",
      "[flaml.automl: 11-23 02:26:40] {3344} INFO -  at 561.1s,\testimator rf's best error=5.8749,\tbest estimator rf's best error=5.8749\n",
      "[flaml.automl: 11-23 02:26:40] {3164} INFO - iteration 122, current learner rf\n",
      "[flaml.automl: 11-23 02:26:48] {3344} INFO -  at 568.8s,\testimator rf's best error=5.8749,\tbest estimator rf's best error=5.8749\n",
      "[flaml.automl: 11-23 02:26:48] {3164} INFO - iteration 123, current learner rf\n",
      "[flaml.automl: 11-23 02:26:57] {3344} INFO -  at 578.1s,\testimator rf's best error=5.8749,\tbest estimator rf's best error=5.8749\n",
      "[flaml.automl: 11-23 02:26:57] {3164} INFO - iteration 124, current learner rf\n",
      "[flaml.automl: 11-23 02:27:06] {3344} INFO -  at 586.9s,\testimator rf's best error=5.8749,\tbest estimator rf's best error=5.8749\n",
      "[flaml.automl: 11-23 02:27:06] {3164} INFO - iteration 125, current learner rf\n",
      "[flaml.automl: 11-23 02:27:14] {3344} INFO -  at 594.8s,\testimator rf's best error=5.8749,\tbest estimator rf's best error=5.8749\n",
      "[flaml.automl: 11-23 02:27:23] {3608} INFO - retrain rf for 9.0s\n",
      "[flaml.automl: 11-23 02:27:23] {3615} INFO - retrained model: RandomForestRegressor(max_features=0.9991084947096877, max_leaf_nodes=1742,\n",
      "                      n_estimators=23, n_jobs=-1)\n",
      "[flaml.automl: 11-23 02:27:23] {2900} INFO - fit succeeded\n",
      "[flaml.automl: 11-23 02:27:23] {2901} INFO - Time taken to find the best model: 430.3590064048767\n",
      "[flaml.automl: 11-23 02:27:23] {2912} WARNING - Time taken to find the best model is 72% of the provided time budget and not all estimators' hyperparameter search converged. Consider increasing the time budget.\n"
     ]
    },
    {
     "name": "stdout",
     "output_type": "stream",
     "text": [
      "RandomForestRegressor(max_features=0.9991084947096877, max_leaf_nodes=1742,\n",
      "                      n_estimators=23, n_jobs=-1)\n"
     ]
    }
   ],
   "source": [
    "from flaml import AutoML\n",
    "automl = AutoML()\n",
    "\n",
    "settings = {\n",
    "    \"time_budget\": 600,  # total running time in seconds\n",
    "    \"metric\": 'mae',  # can be: 'r2', 'rmse', 'mae', 'mse', 'accuracy', 'roc_auc', 'roc_auc_ovr',\n",
    "    # 'roc_auc_ovo', 'log_loss', 'mape', 'f1', 'ap', 'ndcg', 'micro_f1', 'macro_f1'\n",
    "    \"task\": 'regression',  # task type\n",
    "    # ['lgbm', 'rf', 'xgboost', 'extra_tree', 'xgb_limitdepth']\n",
    "    'estimator_list': ['rf'],\n",
    "    \"seed\": 7654321,    # random seed\n",
    "}\n",
    "\n",
    "automl.fit(new_X_train.drop(remove, axis=1), y_train, **settings)\n",
    "# Print the best model\n",
    "print(automl.model.estimator)\n"
   ]
  },
  {
   "cell_type": "code",
   "execution_count": 115,
   "metadata": {},
   "outputs": [
    {
     "name": "stdout",
     "output_type": "stream",
     "text": [
      "RandomForestRegressor(max_features=0.6249999901085506, max_leaf_nodes=14195,\n",
      "                      n_estimators=18, n_jobs=-1)\n"
     ]
    }
   ],
   "source": [
    "print(automl.model.estimator)\n"
   ]
  },
  {
   "cell_type": "markdown",
   "metadata": {},
   "source": [
    "\n",
    "AutoML.fit(self, X_train, y_train, dataframe, label, metric, task, n_jobs, log_file_name, estimator_list, time_budget, max_iter, sample, ensemble, eval_method, log_type, model_history, split_ratio, n_splits, log_training_metric, mem_thres, pred_time_limit, train_time_limit, X_val, y_val, sample_weight_val, groups_val, groups, verbose, retrain_full, split_type, learner_selector, hpo_method, starting_points, seed, n_concurrent_trials, keep_search_state, preserve_checkpoint, early_stop, append_log, auto_augment, min_sample_size, use_ray, metric_constraints, custom_hp, cv_score_agg_func, skip_transform, fit_kwargs_by_estimator, **fit_kwargs)\n",
    "\n",
    "\n",
    "xgboost, rf, lgbm, extra_tree"
   ]
  },
  {
   "cell_type": "markdown",
   "metadata": {},
   "source": [
    "# Submission"
   ]
  },
  {
   "cell_type": "code",
   "execution_count": 160,
   "metadata": {},
   "outputs": [
    {
     "ename": "KeyboardInterrupt",
     "evalue": "",
     "output_type": "error",
     "traceback": [
      "\u001b[1;31m---------------------------------------------------------------------------\u001b[0m",
      "\u001b[1;31mKeyboardInterrupt\u001b[0m                         Traceback (most recent call last)",
      "\u001b[1;32md:\\Projet  INF554\\INF554_kaggle\\AutoML.ipynb Cellule 27\u001b[0m in \u001b[0;36m<cell line: 5>\u001b[1;34m()\u001b[0m\n\u001b[0;32m      <a href='vscode-notebook-cell:/d%3A/Projet%20%20INF554/INF554_kaggle/AutoML.ipynb#X30sZmlsZQ%3D%3D?line=2'>3</a>\u001b[0m new_X_test \u001b[39m=\u001b[39m time_engineering(new_X_test)\n\u001b[0;32m      <a href='vscode-notebook-cell:/d%3A/Projet%20%20INF554/INF554_kaggle/AutoML.ipynb#X30sZmlsZQ%3D%3D?line=3'>4</a>\u001b[0m new_X_test \u001b[39m=\u001b[39m extract_topic(new_X_test)\n\u001b[1;32m----> <a href='vscode-notebook-cell:/d%3A/Projet%20%20INF554/INF554_kaggle/AutoML.ipynb#X30sZmlsZQ%3D%3D?line=4'>5</a>\u001b[0m new_X_test \u001b[39m=\u001b[39m text_engineering(new_X_test)\n\u001b[0;32m      <a href='vscode-notebook-cell:/d%3A/Projet%20%20INF554/INF554_kaggle/AutoML.ipynb#X30sZmlsZQ%3D%3D?line=5'>6</a>\u001b[0m new_X_test \u001b[39m=\u001b[39m hashtags_engineering(new_X_test)\n\u001b[0;32m      <a href='vscode-notebook-cell:/d%3A/Projet%20%20INF554/INF554_kaggle/AutoML.ipynb#X30sZmlsZQ%3D%3D?line=6'>7</a>\u001b[0m \u001b[39m#new_X_train = extract_cluster(new_X_train,['followers_count', 'friends_count', 'favorites_count', 'statuses_count','verified'])\u001b[39;00m\n",
      "\u001b[1;32md:\\Projet  INF554\\INF554_kaggle\\AutoML.ipynb Cellule 27\u001b[0m in \u001b[0;36mtext_engineering\u001b[1;34m(in_df)\u001b[0m\n\u001b[0;32m      <a href='vscode-notebook-cell:/d%3A/Projet%20%20INF554/INF554_kaggle/AutoML.ipynb#X30sZmlsZQ%3D%3D?line=6'>7</a>\u001b[0m \u001b[39m# add columns related to sentiment analysis\u001b[39;00m\n\u001b[0;32m      <a href='vscode-notebook-cell:/d%3A/Projet%20%20INF554/INF554_kaggle/AutoML.ipynb#X30sZmlsZQ%3D%3D?line=7'>8</a>\u001b[0m rs_df[\u001b[39m'\u001b[39m\u001b[39mpolarity\u001b[39m\u001b[39m'\u001b[39m] \u001b[39m=\u001b[39m rs_df[\u001b[39m'\u001b[39m\u001b[39mtext\u001b[39m\u001b[39m'\u001b[39m]\u001b[39m.\u001b[39mapply(\u001b[39mlambda\u001b[39;00m x: TextBlob(\n\u001b[0;32m      <a href='vscode-notebook-cell:/d%3A/Projet%20%20INF554/INF554_kaggle/AutoML.ipynb#X30sZmlsZQ%3D%3D?line=8'>9</a>\u001b[0m     x, pos_tagger\u001b[39m=\u001b[39mPatternTagger(), analyzer\u001b[39m=\u001b[39mPatternAnalyzer())\u001b[39m.\u001b[39msentiment[\u001b[39m0\u001b[39m])\n\u001b[1;32m---> <a href='vscode-notebook-cell:/d%3A/Projet%20%20INF554/INF554_kaggle/AutoML.ipynb#X30sZmlsZQ%3D%3D?line=9'>10</a>\u001b[0m rs_df[\u001b[39m'\u001b[39m\u001b[39msubjectivity\u001b[39m\u001b[39m'\u001b[39m] \u001b[39m=\u001b[39m rs_df[\u001b[39m'\u001b[39;49m\u001b[39mtext\u001b[39;49m\u001b[39m'\u001b[39;49m]\u001b[39m.\u001b[39;49mapply(\u001b[39mlambda\u001b[39;49;00m x: TextBlob(\n\u001b[0;32m     <a href='vscode-notebook-cell:/d%3A/Projet%20%20INF554/INF554_kaggle/AutoML.ipynb#X30sZmlsZQ%3D%3D?line=10'>11</a>\u001b[0m     x, pos_tagger\u001b[39m=\u001b[39;49mPatternTagger(), analyzer\u001b[39m=\u001b[39;49mPatternAnalyzer())\u001b[39m.\u001b[39;49msentiment[\u001b[39m1\u001b[39;49m])\n\u001b[0;32m     <a href='vscode-notebook-cell:/d%3A/Projet%20%20INF554/INF554_kaggle/AutoML.ipynb#X30sZmlsZQ%3D%3D?line=11'>12</a>\u001b[0m \u001b[39m# drop the text column\u001b[39;00m\n\u001b[0;32m     <a href='vscode-notebook-cell:/d%3A/Projet%20%20INF554/INF554_kaggle/AutoML.ipynb#X30sZmlsZQ%3D%3D?line=12'>13</a>\u001b[0m rs_df \u001b[39m=\u001b[39m rs_df\u001b[39m.\u001b[39mdrop([\u001b[39m'\u001b[39m\u001b[39mtext\u001b[39m\u001b[39m'\u001b[39m], axis\u001b[39m=\u001b[39m\u001b[39m1\u001b[39m)\n",
      "File \u001b[1;32mc:\\Users\\maria\\anaconda3\\lib\\site-packages\\pandas\\core\\series.py:4433\u001b[0m, in \u001b[0;36mSeries.apply\u001b[1;34m(self, func, convert_dtype, args, **kwargs)\u001b[0m\n\u001b[0;32m   4323\u001b[0m \u001b[39mdef\u001b[39;00m \u001b[39mapply\u001b[39m(\n\u001b[0;32m   4324\u001b[0m     \u001b[39mself\u001b[39m,\n\u001b[0;32m   4325\u001b[0m     func: AggFuncType,\n\u001b[1;32m   (...)\u001b[0m\n\u001b[0;32m   4328\u001b[0m     \u001b[39m*\u001b[39m\u001b[39m*\u001b[39mkwargs,\n\u001b[0;32m   4329\u001b[0m ) \u001b[39m-\u001b[39m\u001b[39m>\u001b[39m DataFrame \u001b[39m|\u001b[39m Series:\n\u001b[0;32m   4330\u001b[0m     \u001b[39m\"\"\"\u001b[39;00m\n\u001b[0;32m   4331\u001b[0m \u001b[39m    Invoke function on values of Series.\u001b[39;00m\n\u001b[0;32m   4332\u001b[0m \n\u001b[1;32m   (...)\u001b[0m\n\u001b[0;32m   4431\u001b[0m \u001b[39m    dtype: float64\u001b[39;00m\n\u001b[0;32m   4432\u001b[0m \u001b[39m    \"\"\"\u001b[39;00m\n\u001b[1;32m-> 4433\u001b[0m     \u001b[39mreturn\u001b[39;00m SeriesApply(\u001b[39mself\u001b[39;49m, func, convert_dtype, args, kwargs)\u001b[39m.\u001b[39;49mapply()\n",
      "File \u001b[1;32mc:\\Users\\maria\\anaconda3\\lib\\site-packages\\pandas\\core\\apply.py:1082\u001b[0m, in \u001b[0;36mSeriesApply.apply\u001b[1;34m(self)\u001b[0m\n\u001b[0;32m   1078\u001b[0m \u001b[39mif\u001b[39;00m \u001b[39misinstance\u001b[39m(\u001b[39mself\u001b[39m\u001b[39m.\u001b[39mf, \u001b[39mstr\u001b[39m):\n\u001b[0;32m   1079\u001b[0m     \u001b[39m# if we are a string, try to dispatch\u001b[39;00m\n\u001b[0;32m   1080\u001b[0m     \u001b[39mreturn\u001b[39;00m \u001b[39mself\u001b[39m\u001b[39m.\u001b[39mapply_str()\n\u001b[1;32m-> 1082\u001b[0m \u001b[39mreturn\u001b[39;00m \u001b[39mself\u001b[39;49m\u001b[39m.\u001b[39;49mapply_standard()\n",
      "File \u001b[1;32mc:\\Users\\maria\\anaconda3\\lib\\site-packages\\pandas\\core\\apply.py:1137\u001b[0m, in \u001b[0;36mSeriesApply.apply_standard\u001b[1;34m(self)\u001b[0m\n\u001b[0;32m   1131\u001b[0m         values \u001b[39m=\u001b[39m obj\u001b[39m.\u001b[39mastype(\u001b[39mobject\u001b[39m)\u001b[39m.\u001b[39m_values\n\u001b[0;32m   1132\u001b[0m         \u001b[39m# error: Argument 2 to \"map_infer\" has incompatible type\u001b[39;00m\n\u001b[0;32m   1133\u001b[0m         \u001b[39m# \"Union[Callable[..., Any], str, List[Union[Callable[..., Any], str]],\u001b[39;00m\n\u001b[0;32m   1134\u001b[0m         \u001b[39m# Dict[Hashable, Union[Union[Callable[..., Any], str],\u001b[39;00m\n\u001b[0;32m   1135\u001b[0m         \u001b[39m# List[Union[Callable[..., Any], str]]]]]\"; expected\u001b[39;00m\n\u001b[0;32m   1136\u001b[0m         \u001b[39m# \"Callable[[Any], Any]\"\u001b[39;00m\n\u001b[1;32m-> 1137\u001b[0m         mapped \u001b[39m=\u001b[39m lib\u001b[39m.\u001b[39;49mmap_infer(\n\u001b[0;32m   1138\u001b[0m             values,\n\u001b[0;32m   1139\u001b[0m             f,  \u001b[39m# type: ignore[arg-type]\u001b[39;49;00m\n\u001b[0;32m   1140\u001b[0m             convert\u001b[39m=\u001b[39;49m\u001b[39mself\u001b[39;49m\u001b[39m.\u001b[39;49mconvert_dtype,\n\u001b[0;32m   1141\u001b[0m         )\n\u001b[0;32m   1143\u001b[0m \u001b[39mif\u001b[39;00m \u001b[39mlen\u001b[39m(mapped) \u001b[39mand\u001b[39;00m \u001b[39misinstance\u001b[39m(mapped[\u001b[39m0\u001b[39m], ABCSeries):\n\u001b[0;32m   1144\u001b[0m     \u001b[39m# GH#43986 Need to do list(mapped) in order to get treated as nested\u001b[39;00m\n\u001b[0;32m   1145\u001b[0m     \u001b[39m#  See also GH#25959 regarding EA support\u001b[39;00m\n\u001b[0;32m   1146\u001b[0m     \u001b[39mreturn\u001b[39;00m obj\u001b[39m.\u001b[39m_constructor_expanddim(\u001b[39mlist\u001b[39m(mapped), index\u001b[39m=\u001b[39mobj\u001b[39m.\u001b[39mindex)\n",
      "File \u001b[1;32mc:\\Users\\maria\\anaconda3\\lib\\site-packages\\pandas\\_libs\\lib.pyx:2870\u001b[0m, in \u001b[0;36mpandas._libs.lib.map_infer\u001b[1;34m()\u001b[0m\n",
      "\u001b[1;32md:\\Projet  INF554\\INF554_kaggle\\AutoML.ipynb Cellule 27\u001b[0m in \u001b[0;36mtext_engineering.<locals>.<lambda>\u001b[1;34m(x)\u001b[0m\n\u001b[0;32m      <a href='vscode-notebook-cell:/d%3A/Projet%20%20INF554/INF554_kaggle/AutoML.ipynb#X30sZmlsZQ%3D%3D?line=6'>7</a>\u001b[0m \u001b[39m# add columns related to sentiment analysis\u001b[39;00m\n\u001b[0;32m      <a href='vscode-notebook-cell:/d%3A/Projet%20%20INF554/INF554_kaggle/AutoML.ipynb#X30sZmlsZQ%3D%3D?line=7'>8</a>\u001b[0m rs_df[\u001b[39m'\u001b[39m\u001b[39mpolarity\u001b[39m\u001b[39m'\u001b[39m] \u001b[39m=\u001b[39m rs_df[\u001b[39m'\u001b[39m\u001b[39mtext\u001b[39m\u001b[39m'\u001b[39m]\u001b[39m.\u001b[39mapply(\u001b[39mlambda\u001b[39;00m x: TextBlob(\n\u001b[0;32m      <a href='vscode-notebook-cell:/d%3A/Projet%20%20INF554/INF554_kaggle/AutoML.ipynb#X30sZmlsZQ%3D%3D?line=8'>9</a>\u001b[0m     x, pos_tagger\u001b[39m=\u001b[39mPatternTagger(), analyzer\u001b[39m=\u001b[39mPatternAnalyzer())\u001b[39m.\u001b[39msentiment[\u001b[39m0\u001b[39m])\n\u001b[1;32m---> <a href='vscode-notebook-cell:/d%3A/Projet%20%20INF554/INF554_kaggle/AutoML.ipynb#X30sZmlsZQ%3D%3D?line=9'>10</a>\u001b[0m rs_df[\u001b[39m'\u001b[39m\u001b[39msubjectivity\u001b[39m\u001b[39m'\u001b[39m] \u001b[39m=\u001b[39m rs_df[\u001b[39m'\u001b[39m\u001b[39mtext\u001b[39m\u001b[39m'\u001b[39m]\u001b[39m.\u001b[39mapply(\u001b[39mlambda\u001b[39;00m x: TextBlob(\n\u001b[0;32m     <a href='vscode-notebook-cell:/d%3A/Projet%20%20INF554/INF554_kaggle/AutoML.ipynb#X30sZmlsZQ%3D%3D?line=10'>11</a>\u001b[0m     x, pos_tagger\u001b[39m=\u001b[39;49mPatternTagger(), analyzer\u001b[39m=\u001b[39;49mPatternAnalyzer())\u001b[39m.\u001b[39;49msentiment[\u001b[39m1\u001b[39m])\n\u001b[0;32m     <a href='vscode-notebook-cell:/d%3A/Projet%20%20INF554/INF554_kaggle/AutoML.ipynb#X30sZmlsZQ%3D%3D?line=11'>12</a>\u001b[0m \u001b[39m# drop the text column\u001b[39;00m\n\u001b[0;32m     <a href='vscode-notebook-cell:/d%3A/Projet%20%20INF554/INF554_kaggle/AutoML.ipynb#X30sZmlsZQ%3D%3D?line=12'>13</a>\u001b[0m rs_df \u001b[39m=\u001b[39m rs_df\u001b[39m.\u001b[39mdrop([\u001b[39m'\u001b[39m\u001b[39mtext\u001b[39m\u001b[39m'\u001b[39m], axis\u001b[39m=\u001b[39m\u001b[39m1\u001b[39m)\n",
      "File \u001b[1;32mc:\\Users\\maria\\anaconda3\\lib\\site-packages\\textblob\\decorators.py:24\u001b[0m, in \u001b[0;36mcached_property.__get__\u001b[1;34m(self, obj, cls)\u001b[0m\n\u001b[0;32m     22\u001b[0m \u001b[39mif\u001b[39;00m obj \u001b[39mis\u001b[39;00m \u001b[39mNone\u001b[39;00m:\n\u001b[0;32m     23\u001b[0m     \u001b[39mreturn\u001b[39;00m \u001b[39mself\u001b[39m\n\u001b[1;32m---> 24\u001b[0m value \u001b[39m=\u001b[39m obj\u001b[39m.\u001b[39m\u001b[39m__dict__\u001b[39m[\u001b[39mself\u001b[39m\u001b[39m.\u001b[39mfunc\u001b[39m.\u001b[39m\u001b[39m__name__\u001b[39m] \u001b[39m=\u001b[39m \u001b[39mself\u001b[39;49m\u001b[39m.\u001b[39;49mfunc(obj)\n\u001b[0;32m     25\u001b[0m \u001b[39mreturn\u001b[39;00m value\n",
      "File \u001b[1;32mc:\\Users\\maria\\anaconda3\\lib\\site-packages\\textblob\\blob.py:447\u001b[0m, in \u001b[0;36mBaseBlob.sentiment\u001b[1;34m(self)\u001b[0m\n\u001b[0;32m    438\u001b[0m \u001b[39m@cached_property\u001b[39m\n\u001b[0;32m    439\u001b[0m \u001b[39mdef\u001b[39;00m \u001b[39msentiment\u001b[39m(\u001b[39mself\u001b[39m):\n\u001b[0;32m    440\u001b[0m     \u001b[39m\"\"\"Return a tuple of form (polarity, subjectivity ) where polarity\u001b[39;00m\n\u001b[0;32m    441\u001b[0m \u001b[39m    is a float within the range [-1.0, 1.0] and subjectivity is a float\u001b[39;00m\n\u001b[0;32m    442\u001b[0m \u001b[39m    within the range [0.0, 1.0] where 0.0 is very objective and 1.0 is\u001b[39;00m\n\u001b[1;32m   (...)\u001b[0m\n\u001b[0;32m    445\u001b[0m \u001b[39m    :rtype: namedtuple of the form ``Sentiment(polarity, subjectivity)``\u001b[39;00m\n\u001b[0;32m    446\u001b[0m \u001b[39m    \"\"\"\u001b[39;00m\n\u001b[1;32m--> 447\u001b[0m     \u001b[39mreturn\u001b[39;00m \u001b[39mself\u001b[39;49m\u001b[39m.\u001b[39;49manalyzer\u001b[39m.\u001b[39;49manalyze(\u001b[39mself\u001b[39;49m\u001b[39m.\u001b[39;49mraw)\n",
      "File \u001b[1;32mc:\\Users\\maria\\anaconda3\\lib\\site-packages\\textblob_fr\\sentiments.py:23\u001b[0m, in \u001b[0;36mPatternAnalyzer.analyze\u001b[1;34m(self, text)\u001b[0m\n\u001b[0;32m     19\u001b[0m \u001b[39mdef\u001b[39;00m \u001b[39manalyze\u001b[39m(\u001b[39mself\u001b[39m, text):\n\u001b[0;32m     20\u001b[0m     \u001b[39m\"\"\"Return the sentiment as a tuple of the form:\u001b[39;00m\n\u001b[0;32m     21\u001b[0m \u001b[39m    ``(polarity, subjectivity)``\u001b[39;00m\n\u001b[0;32m     22\u001b[0m \u001b[39m    \"\"\"\u001b[39;00m\n\u001b[1;32m---> 23\u001b[0m     \u001b[39mreturn\u001b[39;00m pattern_sentiment(text)\n",
      "File \u001b[1;32mc:\\Users\\maria\\anaconda3\\lib\\site-packages\\textblob_fr\\_text.py:1192\u001b[0m, in \u001b[0;36mSentiment.__call__\u001b[1;34m(self, s, negation, **kwargs)\u001b[0m\n\u001b[0;32m   1189\u001b[0m \u001b[39m# A string of words.\u001b[39;00m\n\u001b[0;32m   1190\u001b[0m \u001b[39m# Sentiment(\"a horrible movie\") => (-0.6, 1.0)\u001b[39;00m\n\u001b[0;32m   1191\u001b[0m \u001b[39melif\u001b[39;00m \u001b[39misinstance\u001b[39m(s, basestring):\n\u001b[1;32m-> 1192\u001b[0m     a \u001b[39m=\u001b[39m \u001b[39mself\u001b[39;49m\u001b[39m.\u001b[39;49massessments(((w\u001b[39m.\u001b[39;49mlower(), \u001b[39mNone\u001b[39;49;00m) \u001b[39mfor\u001b[39;49;00m w \u001b[39min\u001b[39;49;00m \u001b[39m\"\u001b[39;49m\u001b[39m \u001b[39;49m\u001b[39m\"\u001b[39;49m\u001b[39m.\u001b[39;49mjoin(\u001b[39mself\u001b[39;49m\u001b[39m.\u001b[39;49mtokenizer(s))\u001b[39m.\u001b[39;49msplit()), negation)\n\u001b[0;32m   1193\u001b[0m \u001b[39m# A pattern.en.Text.\u001b[39;00m\n\u001b[0;32m   1194\u001b[0m \u001b[39melif\u001b[39;00m \u001b[39mhasattr\u001b[39m(s, \u001b[39m\"\u001b[39m\u001b[39msentences\u001b[39m\u001b[39m\"\u001b[39m):\n",
      "File \u001b[1;32mc:\\Users\\maria\\anaconda3\\lib\\site-packages\\textblob_fr\\_text.py:1274\u001b[0m, in \u001b[0;36mSentiment.assessments\u001b[1;34m(self, words, negation)\u001b[0m\n\u001b[0;32m   1272\u001b[0m     n \u001b[39m=\u001b[39m \u001b[39mNone\u001b[39;00m\n\u001b[0;32m   1273\u001b[0m \u001b[39m# Unknown word. Retain modifier across small words (\"really is a good\").\u001b[39;00m\n\u001b[1;32m-> 1274\u001b[0m \u001b[39melif\u001b[39;00m m \u001b[39mand\u001b[39;00m \u001b[39mlen\u001b[39m(w) \u001b[39m>\u001b[39m \u001b[39m2\u001b[39m:\n\u001b[0;32m   1275\u001b[0m     m \u001b[39m=\u001b[39m \u001b[39mNone\u001b[39;00m\n\u001b[0;32m   1276\u001b[0m \u001b[39m# Exclamation marks boost previous word.\u001b[39;00m\n",
      "\u001b[1;31mKeyboardInterrupt\u001b[0m: "
     ]
    }
   ],
   "source": [
    "# test on X_test\n",
    "new_X_test = feature_engineering(X_test)\n",
    "new_X_test = time_engineering(new_X_test)\n",
    "new_X_test = extract_topic(new_X_test)\n",
    "new_X_test = text_engineering(new_X_test)\n",
    "new_X_test = hashtags_engineering(new_X_test)\n",
    "#new_X_train = extract_cluster(new_X_train,['followers_count', 'friends_count', 'favorites_count', 'statuses_count','verified'])\n",
    "new_X_test = new_X_test.reindex(columns=col)\n",
    "new_X_test.drop(['topic_1','topic_2','topic_3','topic_4','topic_5'],axis=1).head()\n"
   ]
  },
  {
   "cell_type": "code",
   "execution_count": 161,
   "metadata": {},
   "outputs": [
    {
     "ename": "KeyError",
     "evalue": "\"['has_hashtags', 'subjectivity'] not found in axis\"",
     "output_type": "error",
     "traceback": [
      "\u001b[1;31m---------------------------------------------------------------------------\u001b[0m",
      "\u001b[1;31mKeyError\u001b[0m                                  Traceback (most recent call last)",
      "\u001b[1;32md:\\Projet  INF554\\INF554_kaggle\\AutoML.ipynb Cellule 28\u001b[0m in \u001b[0;36m<cell line: 11>\u001b[1;34m()\u001b[0m\n\u001b[0;32m      <a href='vscode-notebook-cell:/d%3A/Projet%20%20INF554/INF554_kaggle/AutoML.ipynb#X31sZmlsZQ%3D%3D?line=5'>6</a>\u001b[0m model \u001b[39m=\u001b[39m RandomForestRegressor(max_features\u001b[39m=\u001b[39m\u001b[39m0.9335667730983057\u001b[39m, max_leaf_nodes\u001b[39m=\u001b[39m\u001b[39m2311\u001b[39m,\n\u001b[0;32m      <a href='vscode-notebook-cell:/d%3A/Projet%20%20INF554/INF554_kaggle/AutoML.ipynb#X31sZmlsZQ%3D%3D?line=6'>7</a>\u001b[0m                       n_estimators\u001b[39m=\u001b[39m\u001b[39m87\u001b[39m, n_jobs\u001b[39m=\u001b[39m\u001b[39m-\u001b[39m\u001b[39m1\u001b[39m)\n\u001b[0;32m     <a href='vscode-notebook-cell:/d%3A/Projet%20%20INF554/INF554_kaggle/AutoML.ipynb#X31sZmlsZQ%3D%3D?line=9'>10</a>\u001b[0m model\u001b[39m.\u001b[39mfit(new_X_train\u001b[39m.\u001b[39mdrop(remove, axis\u001b[39m=\u001b[39m\u001b[39m1\u001b[39m), y_train)\n\u001b[1;32m---> <a href='vscode-notebook-cell:/d%3A/Projet%20%20INF554/INF554_kaggle/AutoML.ipynb#X31sZmlsZQ%3D%3D?line=10'>11</a>\u001b[0m y_pred \u001b[39m=\u001b[39m model\u001b[39m.\u001b[39mpredict(new_X_test\u001b[39m.\u001b[39;49mdrop(\n\u001b[0;32m     <a href='vscode-notebook-cell:/d%3A/Projet%20%20INF554/INF554_kaggle/AutoML.ipynb#X31sZmlsZQ%3D%3D?line=11'>12</a>\u001b[0m     remove, axis\u001b[39m=\u001b[39;49m\u001b[39m1\u001b[39;49m))\n\u001b[0;32m     <a href='vscode-notebook-cell:/d%3A/Projet%20%20INF554/INF554_kaggle/AutoML.ipynb#X31sZmlsZQ%3D%3D?line=12'>13</a>\u001b[0m \u001b[39mprint\u001b[39m(mean_absolute_error(y_test, y_pred))\n",
      "File \u001b[1;32mc:\\Users\\maria\\anaconda3\\lib\\site-packages\\pandas\\util\\_decorators.py:311\u001b[0m, in \u001b[0;36mdeprecate_nonkeyword_arguments.<locals>.decorate.<locals>.wrapper\u001b[1;34m(*args, **kwargs)\u001b[0m\n\u001b[0;32m    305\u001b[0m \u001b[39mif\u001b[39;00m \u001b[39mlen\u001b[39m(args) \u001b[39m>\u001b[39m num_allow_args:\n\u001b[0;32m    306\u001b[0m     warnings\u001b[39m.\u001b[39mwarn(\n\u001b[0;32m    307\u001b[0m         msg\u001b[39m.\u001b[39mformat(arguments\u001b[39m=\u001b[39marguments),\n\u001b[0;32m    308\u001b[0m         \u001b[39mFutureWarning\u001b[39;00m,\n\u001b[0;32m    309\u001b[0m         stacklevel\u001b[39m=\u001b[39mstacklevel,\n\u001b[0;32m    310\u001b[0m     )\n\u001b[1;32m--> 311\u001b[0m \u001b[39mreturn\u001b[39;00m func(\u001b[39m*\u001b[39margs, \u001b[39m*\u001b[39m\u001b[39m*\u001b[39mkwargs)\n",
      "File \u001b[1;32mc:\\Users\\maria\\anaconda3\\lib\\site-packages\\pandas\\core\\frame.py:4954\u001b[0m, in \u001b[0;36mDataFrame.drop\u001b[1;34m(self, labels, axis, index, columns, level, inplace, errors)\u001b[0m\n\u001b[0;32m   4806\u001b[0m \u001b[39m@deprecate_nonkeyword_arguments\u001b[39m(version\u001b[39m=\u001b[39m\u001b[39mNone\u001b[39;00m, allowed_args\u001b[39m=\u001b[39m[\u001b[39m\"\u001b[39m\u001b[39mself\u001b[39m\u001b[39m\"\u001b[39m, \u001b[39m\"\u001b[39m\u001b[39mlabels\u001b[39m\u001b[39m\"\u001b[39m])\n\u001b[0;32m   4807\u001b[0m \u001b[39mdef\u001b[39;00m \u001b[39mdrop\u001b[39m(\n\u001b[0;32m   4808\u001b[0m     \u001b[39mself\u001b[39m,\n\u001b[1;32m   (...)\u001b[0m\n\u001b[0;32m   4815\u001b[0m     errors: \u001b[39mstr\u001b[39m \u001b[39m=\u001b[39m \u001b[39m\"\u001b[39m\u001b[39mraise\u001b[39m\u001b[39m\"\u001b[39m,\n\u001b[0;32m   4816\u001b[0m ):\n\u001b[0;32m   4817\u001b[0m     \u001b[39m\"\"\"\u001b[39;00m\n\u001b[0;32m   4818\u001b[0m \u001b[39m    Drop specified labels from rows or columns.\u001b[39;00m\n\u001b[0;32m   4819\u001b[0m \n\u001b[1;32m   (...)\u001b[0m\n\u001b[0;32m   4952\u001b[0m \u001b[39m            weight  1.0     0.8\u001b[39;00m\n\u001b[0;32m   4953\u001b[0m \u001b[39m    \"\"\"\u001b[39;00m\n\u001b[1;32m-> 4954\u001b[0m     \u001b[39mreturn\u001b[39;00m \u001b[39msuper\u001b[39;49m()\u001b[39m.\u001b[39;49mdrop(\n\u001b[0;32m   4955\u001b[0m         labels\u001b[39m=\u001b[39;49mlabels,\n\u001b[0;32m   4956\u001b[0m         axis\u001b[39m=\u001b[39;49maxis,\n\u001b[0;32m   4957\u001b[0m         index\u001b[39m=\u001b[39;49mindex,\n\u001b[0;32m   4958\u001b[0m         columns\u001b[39m=\u001b[39;49mcolumns,\n\u001b[0;32m   4959\u001b[0m         level\u001b[39m=\u001b[39;49mlevel,\n\u001b[0;32m   4960\u001b[0m         inplace\u001b[39m=\u001b[39;49minplace,\n\u001b[0;32m   4961\u001b[0m         errors\u001b[39m=\u001b[39;49merrors,\n\u001b[0;32m   4962\u001b[0m     )\n",
      "File \u001b[1;32mc:\\Users\\maria\\anaconda3\\lib\\site-packages\\pandas\\core\\generic.py:4267\u001b[0m, in \u001b[0;36mNDFrame.drop\u001b[1;34m(self, labels, axis, index, columns, level, inplace, errors)\u001b[0m\n\u001b[0;32m   4265\u001b[0m \u001b[39mfor\u001b[39;00m axis, labels \u001b[39min\u001b[39;00m axes\u001b[39m.\u001b[39mitems():\n\u001b[0;32m   4266\u001b[0m     \u001b[39mif\u001b[39;00m labels \u001b[39mis\u001b[39;00m \u001b[39mnot\u001b[39;00m \u001b[39mNone\u001b[39;00m:\n\u001b[1;32m-> 4267\u001b[0m         obj \u001b[39m=\u001b[39m obj\u001b[39m.\u001b[39;49m_drop_axis(labels, axis, level\u001b[39m=\u001b[39;49mlevel, errors\u001b[39m=\u001b[39;49merrors)\n\u001b[0;32m   4269\u001b[0m \u001b[39mif\u001b[39;00m inplace:\n\u001b[0;32m   4270\u001b[0m     \u001b[39mself\u001b[39m\u001b[39m.\u001b[39m_update_inplace(obj)\n",
      "File \u001b[1;32mc:\\Users\\maria\\anaconda3\\lib\\site-packages\\pandas\\core\\generic.py:4311\u001b[0m, in \u001b[0;36mNDFrame._drop_axis\u001b[1;34m(self, labels, axis, level, errors, consolidate, only_slice)\u001b[0m\n\u001b[0;32m   4309\u001b[0m         new_axis \u001b[39m=\u001b[39m axis\u001b[39m.\u001b[39mdrop(labels, level\u001b[39m=\u001b[39mlevel, errors\u001b[39m=\u001b[39merrors)\n\u001b[0;32m   4310\u001b[0m     \u001b[39melse\u001b[39;00m:\n\u001b[1;32m-> 4311\u001b[0m         new_axis \u001b[39m=\u001b[39m axis\u001b[39m.\u001b[39;49mdrop(labels, errors\u001b[39m=\u001b[39;49merrors)\n\u001b[0;32m   4312\u001b[0m     indexer \u001b[39m=\u001b[39m axis\u001b[39m.\u001b[39mget_indexer(new_axis)\n\u001b[0;32m   4314\u001b[0m \u001b[39m# Case for non-unique axis\u001b[39;00m\n\u001b[0;32m   4315\u001b[0m \u001b[39melse\u001b[39;00m:\n",
      "File \u001b[1;32mc:\\Users\\maria\\anaconda3\\lib\\site-packages\\pandas\\core\\indexes\\base.py:6644\u001b[0m, in \u001b[0;36mIndex.drop\u001b[1;34m(self, labels, errors)\u001b[0m\n\u001b[0;32m   6642\u001b[0m \u001b[39mif\u001b[39;00m mask\u001b[39m.\u001b[39many():\n\u001b[0;32m   6643\u001b[0m     \u001b[39mif\u001b[39;00m errors \u001b[39m!=\u001b[39m \u001b[39m\"\u001b[39m\u001b[39mignore\u001b[39m\u001b[39m\"\u001b[39m:\n\u001b[1;32m-> 6644\u001b[0m         \u001b[39mraise\u001b[39;00m \u001b[39mKeyError\u001b[39;00m(\u001b[39mf\u001b[39m\u001b[39m\"\u001b[39m\u001b[39m{\u001b[39;00m\u001b[39mlist\u001b[39m(labels[mask])\u001b[39m}\u001b[39;00m\u001b[39m not found in axis\u001b[39m\u001b[39m\"\u001b[39m)\n\u001b[0;32m   6645\u001b[0m     indexer \u001b[39m=\u001b[39m indexer[\u001b[39m~\u001b[39mmask]\n\u001b[0;32m   6646\u001b[0m \u001b[39mreturn\u001b[39;00m \u001b[39mself\u001b[39m\u001b[39m.\u001b[39mdelete(indexer)\n",
      "\u001b[1;31mKeyError\u001b[0m: \"['has_hashtags', 'subjectivity'] not found in axis\""
     ]
    }
   ],
   "source": [
    "from sklearn.neural_network import MLPRegressor\n",
    "from sklearn.linear_model import LinearRegression\n",
    "from sklearn.ensemble import RandomForestRegressor\n",
    "from xgboost import XGBRegressor\n",
    "from sklearn.ensemble import ExtraTreesRegressor\n",
    "model = RandomForestRegressor(max_features=0.9335667730983057, max_leaf_nodes=2311,\n",
    "                      n_estimators=87, n_jobs=-1)\n",
    "\n",
    "\n",
    "model.fit(new_X_train.drop(remove, axis=1), y_train)\n",
    "y_pred = model.predict(new_X_test.drop(\n",
    "    remove, axis=1))\n",
    "print(mean_absolute_error(y_test, y_pred))\n"
   ]
  },
  {
   "cell_type": "code",
   "execution_count": 158,
   "metadata": {},
   "outputs": [
    {
     "data": {
      "image/png": "[encoded data removed]",
      "text/plain": [
       "<Figure size 720x720 with 1 Axes>"
      ]
     },
     "metadata": {
      "needs_background": "light"
     },
     "output_type": "display_data"
    },
    {
     "data": {
      "text/plain": [
       "<AxesSubplot:>"
      ]
     },
     "execution_count": 158,
     "metadata": {},
     "output_type": "execute_result"
    },
    {
     "data": {
      "image/png": "[encoded data removed]",
      "text/plain": [
       "<Figure size 432x288 with 1 Axes>"
      ]
     },
     "metadata": {
      "needs_background": "light"
     },
     "output_type": "display_data"
    },
    {
     "data": {
      "image/png": "[encoded data removed]",
      "text/plain": [
       "<Figure size 1152x1152 with 2 Axes>"
      ]
     },
     "metadata": {
      "needs_background": "light"
     },
     "output_type": "display_data"
    }
   ],
   "source": [
    "import seaborn as sbn\n",
    "from scipy.cluster import hierarchy\n",
    "import matplotlib.pyplot as plt\n",
    "import seaborn as sns\n",
    "%matplotlib inline\n",
    "feature_importance = pd.DataFrame({'feature': new_X_train.drop(\n",
    "    remove, axis=1).columns, 'importance': model.feature_importances_})\n",
    "plt.figure(figsize=(10, 10))\n",
    "sns.barplot(data=feature_importance.sort_values(\n",
    "    by='importance', ascending=False), x='importance', y='feature')\n",
    "plt.title('Feature importance')\n",
    "plt.show()\n",
    "\n",
    "\n",
    "# plot correlation of features\n",
    "\n",
    "order = np.array(hierarchy.dendrogram(\n",
    "    hierarchy.ward(new_X_train.drop(remove, axis=1).corr()), no_plot=False)['ivl'], dtype=\"int\")\n",
    "\n",
    "rearranged_cov = new_X_train.drop(\n",
    "    ['TweetID'], axis=1).corr().iloc[order, order]\n",
    "\n",
    "plt.figure(figsize=(16, 16))\n",
    "\n",
    "sbn.heatmap(rearranged_cov, annot=True, cmap=\"RdBu_r\", center=0)\n"
   ]
  },
  {
   "cell_type": "code",
   "execution_count": null,
   "metadata": {},
   "outputs": [],
   "source": [
    "# plot model mse with number of top features\n",
    "# TO DO\n",
    "from sklearn.feature_selection import SelectFromModel\n",
    "from sklearn.feature_selection import SelectKBest\n"
   ]
  },
  {
   "cell_type": "markdown",
   "metadata": {},
   "source": [
    "### Models to consider\n",
    "pipelines.append(('ScaledLR', Pipeline([('Scaler', StandardScaler()),('LR',LinearRegression())])))\n",
    "pipelines.append(('ScaledLASSO', Pipeline([('Scaler', StandardScaler()),('LASSO', Lasso())])))\n",
    "pipelines.append(('ScaledEN', Pipeline([('Scaler', StandardScaler()),('EN', ElasticNet())])))\n",
    "pipelines.append(('ScaledKNN', Pipeline([('Scaler', StandardScaler()),('KNN', KNeighborsRegressor())])))\n",
    "pipelines.append(('ScaledCART', Pipeline([('Scaler', StandardScaler()),('CART', DecisionTreeRegressor())])))\n",
    "pipelines.append(('ScaledGBM', Pipeline([('Scaler', StandardScaler()),('GBM', GradientBoostingRegressor())])))\n",
    "pipelines.append(('ScaledRF', Pipeline([('Scaler', StandardScaler()),('RF', RandomForestRegressor(n_estimators=10))]))"
   ]
  }
 ],
 "metadata": {
  "kernelspec": {
   "display_name": "Python 3 (ipykernel)",
   "language": "python",
   "name": "python3"
  },
  "language_info": {
   "codemirror_mode": {
    "name": "ipython",
    "version": 3
   },
   "file_extension": ".py",
   "mimetype": "text/x-python",
   "name": "python",
   "nbconvert_exporter": "python",
   "pygments_lexer": "ipython3",
   "version": "3.9.12"
  },
  "vscode": {
   "interpreter": {
    "hash": "ca02d05c83cb06a4d3d1bb3c2ad95bd9ee4b26f688526444572dc942a69d580d"
   }
  }
 },
 "nbformat": 4,
 "nbformat_minor": 2
}
