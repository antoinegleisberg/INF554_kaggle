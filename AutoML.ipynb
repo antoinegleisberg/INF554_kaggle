{
 "cells": [
  {
   "cell_type": "markdown",
   "metadata": {},
   "source": [
    "# Notebook magique with AutoML"
   ]
  },
  {
   "cell_type": "markdown",
   "metadata": {},
   "source": [
    "TO DO:\n",
    "- fix log\n",
    "- remove outliers\n",
    "\n",
    "See \n",
    "https://github.com/parklize/cikm2020-analyticup?fbclid=IwAR0Ti_pF7HrIO5ELFlvA1b2FEL_D68xlu_XdXeFxyARzBfY5U7a040klHTM"
   ]
  },
  {
   "cell_type": "code",
   "execution_count": 1,
   "metadata": {},
   "outputs": [
    {
     "name": "stderr",
     "output_type": "stream",
     "text": [
      "c:\\Users\\maria\\anaconda3\\lib\\site-packages\\xgboost\\compat.py:36: FutureWarning: pandas.Int64Index is deprecated and will be removed from pandas in a future version. Use pandas.Index with the appropriate dtype instead.\n",
      "  from pandas import MultiIndex, Int64Index\n"
     ]
    }
   ],
   "source": [
    "import csv\n",
    "import numpy as np\n",
    "import pandas as pd\n",
    "import matplotlib.pyplot as plt\n",
    "import sns as sns\n",
    "from sklearn.metrics import mean_absolute_error\n",
    "from verstack.stratified_continuous_split import scsplit # pip install verstack\n",
    "\n",
    "\n",
    "# Load the training data\n",
    "train_data = pd.read_csv(\"data/train.csv\")\n",
    "\n",
    "# Load the evaluation data\n",
    "eval_data = pd.read_csv(\"data/evaluation.csv\")\n",
    "\n",
    "\n",
    "\n"
   ]
  },
  {
   "cell_type": "markdown",
   "metadata": {},
   "source": [
    "Split data"
   ]
  },
  {
   "cell_type": "code",
   "execution_count": 2,
   "metadata": {},
   "outputs": [],
   "source": [
    "#split data\n",
    "X_train, X_test, y_train, y_test = scsplit(train_data, train_data['retweets_count'], stratify=train_data['retweets_count'], train_size=0.8, test_size=0.2)\n",
    "# We remove the actual number of retweets from our features since it is the value that we are trying to predict\n",
    "X_train = X_train.drop(['retweets_count'], axis=1)\n",
    "X_test = X_test.drop(['retweets_count'], axis=1)"
   ]
  },
  {
   "cell_type": "markdown",
   "metadata": {},
   "source": [
    "## Outliers"
   ]
  },
  {
   "cell_type": "code",
   "execution_count": 187,
   "metadata": {},
   "outputs": [],
   "source": [
    "# remove outliers with quartile\n",
    "def remove_outliers(df, col):\n",
    "    q1 = df[col].quantile(0.25)\n",
    "    q3 = df[col].quantile(0.75)\n",
    "    iqr = q3 - q1\n",
    "    df = df[(df[col] >= q1 - 5 * iqr) & (df[col] <= q3 + 5 * iqr)]\n",
    "    return df\n"
   ]
  },
  {
   "cell_type": "code",
   "execution_count": 82,
   "metadata": {},
   "outputs": [],
   "source": [
    "def feature_engineering(in_df):\n",
    "    rs_df = in_df\n",
    "\n",
    "    #mentions is always empty -> DROP Mention\n",
    "    rs_df = rs_df.drop(['mentions'], axis=1)\n",
    "\n",
    "    #add a column to data which counts url\n",
    "    rs_df['url_count'] = rs_df['urls'].str.count('http')\n",
    "    rs_df= rs_df.drop(['urls'], axis=1)\n",
    "    #add a column to data which gives length of hashtags\n",
    "    #TO DO\n",
    "    #add columns to data which makes ratios\n",
    "    rs_df['followers_friends'] = rs_df['followers_count'] / (rs_df['friends_count'].apply(lambda x: x+1))\n",
    "    rs_df['favorites_followers'] = rs_df['favorites_count'] / (rs_df['followers_count'].apply(lambda x: x+1))\n",
    "    rs_df['favorites_friends'] = rs_df['favorites_count'] / (rs_df['friends_count'].apply(lambda x: x+1))\n",
    "    return rs_df\n",
    "\n"
   ]
  },
  {
   "cell_type": "code",
   "execution_count": 89,
   "metadata": {},
   "outputs": [],
   "source": [
    "from datetime import datetime\n",
    "def time_engineering(in_df):\n",
    "    rs_df = in_df\n",
    "    rs_df[\"hour\"] = rs_df['timestamp'].apply(lambda t: (datetime.fromtimestamp(t//1000)).hour)\n",
    "    rs_df[\"day\"] = rs_df['timestamp'].apply(lambda t: (datetime.fromtimestamp(t//1000)).weekday())\n",
    "    rs_df[\"we\"] = rs_df['day'].apply(lambda t: int(t==5 or t==6))\n",
    "    rs_df.drop(['timestamp'], axis=1)\n",
    "\n",
    "    return rs_df"
   ]
  },
  {
   "cell_type": "code",
   "execution_count": 5,
   "metadata": {},
   "outputs": [],
   "source": [
    "from textblob import TextBlob #pip install textblob-fr\n",
    "from textblob_fr import PatternTagger, PatternAnalyzer\n",
    "def text_engineering(in_df):\n",
    "    rs_df = in_df\n",
    "    #add columns related to sentiment analysis\n",
    "    rs_df['polarity']=rs_df['text'].apply(lambda x: TextBlob(x, pos_tagger=PatternTagger(), analyzer=PatternAnalyzer()).sentiment[0])\n",
    "    rs_df['subjectivity']=rs_df['text'].apply(lambda x: TextBlob(x, pos_tagger=PatternTagger(), analyzer=PatternAnalyzer()).sentiment[1])\n",
    "    #drop the text column\n",
    "    rs_df = rs_df.drop(['text'], axis=1)\n",
    " \n",
    "\n",
    "    return rs_df"
   ]
  },
  {
   "cell_type": "code",
   "execution_count": 88,
   "metadata": {},
   "outputs": [],
   "source": [
    "from sklearn.feature_extraction.text import CountVectorizer\n",
    "from nltk.corpus import stopwords\n",
    "def hashtags_engineering(in_df):\n",
    "    rs_df = in_df\n",
    "    #make a string of the list\n",
    "    rs_df['hashtags']=rs_df['hashtags'].apply(lambda x: x.replace('[','').replace(']','').replace(\"'\",''))\n",
    "    vectorizer2 = CountVectorizer(max_features=20, stop_words=stopwords.words('french')) \n",
    "    hashtags = vectorizer2.fit_transform(rs_df['hashtags'])\n",
    "    # show vocabulary\n",
    "    pop=np.sum(hashtags.toarray(),axis=1)\n",
    "    #pop to df\n",
    "    pop=pd.DataFrame(pop,columns=['pop'])# popularity=number of popular hashtags\n",
    "    #add pop to df\n",
    "    rs_df['pop']=pop\n",
    "    #set nan to 0\n",
    "    rs_df['pop']=rs_df['pop'].fillna(0)\n",
    "\n",
    "    #has hashtags or not\n",
    "    rs_df['has_hashtags']=rs_df['hashtags'].apply(lambda x: 0 if x=='' else 1)\n",
    "\n",
    "\n",
    "\n",
    "\n",
    "    #drop the hashtags column\n",
    "    rs_df = rs_df.drop(['hashtags'], axis=1)\n",
    "    return rs_df\n"
   ]
  },
  {
   "cell_type": "markdown",
   "metadata": {},
   "source": [
    "## Scaler"
   ]
  },
  {
   "cell_type": "code",
   "execution_count": 192,
   "metadata": {},
   "outputs": [],
   "source": [
    "def logtransformdrop(dataframe, cols):\n",
    "    for col in cols:\n",
    "        dataframe['log_' + col ] = dataframe[col].apply(lambda x: np.log10(int(x)+1))\n",
    "    dataframe = dataframe.drop(cols,axis=1)\n",
    "    return dataframe"
   ]
  },
  {
   "cell_type": "markdown",
   "metadata": {},
   "source": [
    "## Data processing"
   ]
  },
  {
   "cell_type": "code",
   "execution_count": 86,
   "metadata": {},
   "outputs": [],
   "source": [
    "col=['TweetID','followers_count','friends_count','favorites_count', 'statuses_count','verified', 'url_count','followers_friends', 'favorites_followers', 'favorites_friends', 'hour', 'day','we', 'polarity', 'subjectivity','pop','has_hashtags']"
   ]
  },
  {
   "cell_type": "code",
   "execution_count": 90,
   "metadata": {},
   "outputs": [
    {
     "data": {
      "text/html": [
       "<div>\n",
       "<style scoped>\n",
       "    .dataframe tbody tr th:only-of-type {\n",
       "        vertical-align: middle;\n",
       "    }\n",
       "\n",
       "    .dataframe tbody tr th {\n",
       "        vertical-align: top;\n",
       "    }\n",
       "\n",
       "    .dataframe thead th {\n",
       "        text-align: right;\n",
       "    }\n",
       "</style>\n",
       "<table border=\"1\" class=\"dataframe\">\n",
       "  <thead>\n",
       "    <tr style=\"text-align: right;\">\n",
       "      <th></th>\n",
       "      <th>TweetID</th>\n",
       "      <th>followers_count</th>\n",
       "      <th>friends_count</th>\n",
       "      <th>favorites_count</th>\n",
       "      <th>statuses_count</th>\n",
       "      <th>verified</th>\n",
       "      <th>url_count</th>\n",
       "      <th>followers_friends</th>\n",
       "      <th>favorites_followers</th>\n",
       "      <th>favorites_friends</th>\n",
       "      <th>hour</th>\n",
       "      <th>day</th>\n",
       "      <th>we</th>\n",
       "      <th>polarity</th>\n",
       "      <th>subjectivity</th>\n",
       "      <th>pop</th>\n",
       "      <th>has_hashtags</th>\n",
       "    </tr>\n",
       "  </thead>\n",
       "  <tbody>\n",
       "    <tr>\n",
       "      <th>333543</th>\n",
       "      <td>245660</td>\n",
       "      <td>443</td>\n",
       "      <td>546</td>\n",
       "      <td>0</td>\n",
       "      <td>11379</td>\n",
       "      <td>0</td>\n",
       "      <td>0</td>\n",
       "      <td>0.809872</td>\n",
       "      <td>0.000000</td>\n",
       "      <td>0.000000</td>\n",
       "      <td>16</td>\n",
       "      <td>5</td>\n",
       "      <td>1</td>\n",
       "      <td>0.40</td>\n",
       "      <td>0.500000</td>\n",
       "      <td>0.0</td>\n",
       "      <td>0</td>\n",
       "    </tr>\n",
       "    <tr>\n",
       "      <th>68017</th>\n",
       "      <td>57288</td>\n",
       "      <td>667</td>\n",
       "      <td>748</td>\n",
       "      <td>5</td>\n",
       "      <td>30282</td>\n",
       "      <td>0</td>\n",
       "      <td>1</td>\n",
       "      <td>0.890521</td>\n",
       "      <td>0.007485</td>\n",
       "      <td>0.006676</td>\n",
       "      <td>8</td>\n",
       "      <td>2</td>\n",
       "      <td>0</td>\n",
       "      <td>0.00</td>\n",
       "      <td>0.000000</td>\n",
       "      <td>0.0</td>\n",
       "      <td>0</td>\n",
       "    </tr>\n",
       "    <tr>\n",
       "      <th>148900</th>\n",
       "      <td>914650</td>\n",
       "      <td>1198</td>\n",
       "      <td>1894</td>\n",
       "      <td>0</td>\n",
       "      <td>68291</td>\n",
       "      <td>0</td>\n",
       "      <td>0</td>\n",
       "      <td>0.632190</td>\n",
       "      <td>0.000000</td>\n",
       "      <td>0.000000</td>\n",
       "      <td>11</td>\n",
       "      <td>4</td>\n",
       "      <td>0</td>\n",
       "      <td>0.00</td>\n",
       "      <td>0.000000</td>\n",
       "      <td>0.0</td>\n",
       "      <td>0</td>\n",
       "    </tr>\n",
       "    <tr>\n",
       "      <th>293632</th>\n",
       "      <td>959103</td>\n",
       "      <td>799</td>\n",
       "      <td>705</td>\n",
       "      <td>0</td>\n",
       "      <td>22198</td>\n",
       "      <td>0</td>\n",
       "      <td>0</td>\n",
       "      <td>1.131728</td>\n",
       "      <td>0.000000</td>\n",
       "      <td>0.000000</td>\n",
       "      <td>12</td>\n",
       "      <td>4</td>\n",
       "      <td>0</td>\n",
       "      <td>-0.04</td>\n",
       "      <td>0.533333</td>\n",
       "      <td>0.0</td>\n",
       "      <td>0</td>\n",
       "    </tr>\n",
       "    <tr>\n",
       "      <th>101565</th>\n",
       "      <td>1138817</td>\n",
       "      <td>2664</td>\n",
       "      <td>2070</td>\n",
       "      <td>0</td>\n",
       "      <td>8404</td>\n",
       "      <td>0</td>\n",
       "      <td>0</td>\n",
       "      <td>1.286335</td>\n",
       "      <td>0.000000</td>\n",
       "      <td>0.000000</td>\n",
       "      <td>15</td>\n",
       "      <td>4</td>\n",
       "      <td>0</td>\n",
       "      <td>0.00</td>\n",
       "      <td>0.000000</td>\n",
       "      <td>0.0</td>\n",
       "      <td>0</td>\n",
       "    </tr>\n",
       "  </tbody>\n",
       "</table>\n",
       "</div>"
      ],
      "text/plain": [
       "        TweetID  followers_count  friends_count  favorites_count  \\\n",
       "333543   245660              443            546                0   \n",
       "68017     57288              667            748                5   \n",
       "148900   914650             1198           1894                0   \n",
       "293632   959103              799            705                0   \n",
       "101565  1138817             2664           2070                0   \n",
       "\n",
       "        statuses_count  verified  url_count  followers_friends  \\\n",
       "333543           11379         0          0           0.809872   \n",
       "68017            30282         0          1           0.890521   \n",
       "148900           68291         0          0           0.632190   \n",
       "293632           22198         0          0           1.131728   \n",
       "101565            8404         0          0           1.286335   \n",
       "\n",
       "        favorites_followers  favorites_friends  hour  day  we  polarity  \\\n",
       "333543             0.000000           0.000000    16    5   1      0.40   \n",
       "68017              0.007485           0.006676     8    2   0      0.00   \n",
       "148900             0.000000           0.000000    11    4   0      0.00   \n",
       "293632             0.000000           0.000000    12    4   0     -0.04   \n",
       "101565             0.000000           0.000000    15    4   0      0.00   \n",
       "\n",
       "        subjectivity  pop  has_hashtags  \n",
       "333543      0.500000  0.0             0  \n",
       "68017       0.000000  0.0             0  \n",
       "148900      0.000000  0.0             0  \n",
       "293632      0.533333  0.0             0  \n",
       "101565      0.000000  0.0             0  "
      ]
     },
     "execution_count": 90,
     "metadata": {},
     "output_type": "execute_result"
    }
   ],
   "source": [
    "new_X_train=feature_engineering(X_train)\n",
    "new_X_train=time_engineering(new_X_train)\n",
    "new_X_train=text_engineering(new_X_train)\n",
    "new_X_train=hashtags_engineering(new_X_train)\n",
    "#new_X_train=logtransformdrop(X_train,['followers.count','friends_count','favorites_count','followers_count'])\n",
    "new_X_train=new_X_train.reindex(columns=col)\n",
    "new_X_train.head()\n",
    "\n"
   ]
  },
  {
   "cell_type": "markdown",
   "metadata": {},
   "source": [
    "## Flaml"
   ]
  },
  {
   "cell_type": "code",
   "execution_count": 92,
   "metadata": {},
   "outputs": [
    {
     "name": "stderr",
     "output_type": "stream",
     "text": [
      "[flaml.automl: 11-22 12:08:39] {2600} INFO - task = regression\n",
      "[flaml.automl: 11-22 12:08:39] {2602} INFO - Data split method: uniform\n",
      "[flaml.automl: 11-22 12:08:39] {2605} INFO - Evaluation method: holdout\n",
      "[flaml.automl: 11-22 12:08:39] {2727} INFO - Minimizing error metric: mae\n",
      "[flaml.automl: 11-22 12:08:39] {2869} INFO - List of ML learners in AutoML Run: ['rf']\n",
      "[flaml.automl: 11-22 12:08:39] {3164} INFO - iteration 0, current learner rf\n",
      "[flaml.automl: 11-22 12:08:39] {3297} INFO - Estimated sufficient time budget=28037s. Estimated necessary time budget=28s.\n",
      "[flaml.automl: 11-22 12:08:39] {3344} INFO -  at 1.5s,\testimator rf's best error=12.8057,\tbest estimator rf's best error=12.8057\n",
      "[flaml.automl: 11-22 12:08:39] {3164} INFO - iteration 1, current learner rf\n",
      "[flaml.automl: 11-22 12:08:39] {3344} INFO -  at 1.6s,\testimator rf's best error=12.8057,\tbest estimator rf's best error=12.8057\n",
      "[flaml.automl: 11-22 12:08:39] {3164} INFO - iteration 2, current learner rf\n",
      "[flaml.automl: 11-22 12:08:40] {3344} INFO -  at 1.8s,\testimator rf's best error=12.7813,\tbest estimator rf's best error=12.7813\n",
      "[flaml.automl: 11-22 12:08:40] {3164} INFO - iteration 3, current learner rf\n",
      "[flaml.automl: 11-22 12:08:40] {3344} INFO -  at 1.9s,\testimator rf's best error=11.0102,\tbest estimator rf's best error=11.0102\n",
      "[flaml.automl: 11-22 12:08:40] {3164} INFO - iteration 4, current learner rf\n",
      "[flaml.automl: 11-22 12:08:40] {3344} INFO -  at 2.0s,\testimator rf's best error=11.0102,\tbest estimator rf's best error=11.0102\n",
      "[flaml.automl: 11-22 12:08:40] {3164} INFO - iteration 5, current learner rf\n",
      "[flaml.automl: 11-22 12:08:40] {3344} INFO -  at 2.1s,\testimator rf's best error=10.1125,\tbest estimator rf's best error=10.1125\n",
      "[flaml.automl: 11-22 12:08:40] {3164} INFO - iteration 6, current learner rf\n",
      "[flaml.automl: 11-22 12:08:40] {3344} INFO -  at 2.2s,\testimator rf's best error=10.1125,\tbest estimator rf's best error=10.1125\n",
      "[flaml.automl: 11-22 12:08:40] {3164} INFO - iteration 7, current learner rf\n",
      "[flaml.automl: 11-22 12:08:40] {3344} INFO -  at 2.4s,\testimator rf's best error=9.5632,\tbest estimator rf's best error=9.5632\n",
      "[flaml.automl: 11-22 12:08:40] {3164} INFO - iteration 8, current learner rf\n",
      "[flaml.automl: 11-22 12:08:40] {3344} INFO -  at 2.5s,\testimator rf's best error=9.5632,\tbest estimator rf's best error=9.5632\n",
      "[flaml.automl: 11-22 12:08:40] {3164} INFO - iteration 9, current learner rf\n",
      "[flaml.automl: 11-22 12:08:41] {3344} INFO -  at 2.8s,\testimator rf's best error=8.9434,\tbest estimator rf's best error=8.9434\n",
      "[flaml.automl: 11-22 12:08:41] {3164} INFO - iteration 10, current learner rf\n",
      "[flaml.automl: 11-22 12:08:41] {3344} INFO -  at 2.9s,\testimator rf's best error=8.9434,\tbest estimator rf's best error=8.9434\n",
      "[flaml.automl: 11-22 12:08:41] {3164} INFO - iteration 11, current learner rf\n",
      "[flaml.automl: 11-22 12:08:41] {3344} INFO -  at 3.1s,\testimator rf's best error=8.9384,\tbest estimator rf's best error=8.9384\n",
      "[flaml.automl: 11-22 12:08:41] {3164} INFO - iteration 12, current learner rf\n",
      "[flaml.automl: 11-22 12:08:41] {3344} INFO -  at 3.4s,\testimator rf's best error=8.9384,\tbest estimator rf's best error=8.9384\n",
      "[flaml.automl: 11-22 12:08:41] {3164} INFO - iteration 13, current learner rf\n",
      "[flaml.automl: 11-22 12:08:41] {3344} INFO -  at 3.5s,\testimator rf's best error=8.9384,\tbest estimator rf's best error=8.9384\n",
      "[flaml.automl: 11-22 12:08:41] {3164} INFO - iteration 14, current learner rf\n",
      "[flaml.automl: 11-22 12:08:42] {3344} INFO -  at 3.8s,\testimator rf's best error=8.8652,\tbest estimator rf's best error=8.8652\n",
      "[flaml.automl: 11-22 12:08:42] {3164} INFO - iteration 15, current learner rf\n",
      "[flaml.automl: 11-22 12:08:42] {3344} INFO -  at 4.2s,\testimator rf's best error=8.5086,\tbest estimator rf's best error=8.5086\n",
      "[flaml.automl: 11-22 12:08:42] {3164} INFO - iteration 16, current learner rf\n",
      "[flaml.automl: 11-22 12:08:42] {3344} INFO -  at 4.5s,\testimator rf's best error=8.5086,\tbest estimator rf's best error=8.5086\n",
      "[flaml.automl: 11-22 12:08:42] {3164} INFO - iteration 17, current learner rf\n",
      "[flaml.automl: 11-22 12:08:43] {3344} INFO -  at 4.8s,\testimator rf's best error=8.5086,\tbest estimator rf's best error=8.5086\n",
      "[flaml.automl: 11-22 12:08:43] {3164} INFO - iteration 18, current learner rf\n",
      "[flaml.automl: 11-22 12:08:43] {3344} INFO -  at 5.4s,\testimator rf's best error=8.5086,\tbest estimator rf's best error=8.5086\n",
      "[flaml.automl: 11-22 12:08:43] {3164} INFO - iteration 19, current learner rf\n",
      "[flaml.automl: 11-22 12:08:44] {3344} INFO -  at 5.8s,\testimator rf's best error=8.5086,\tbest estimator rf's best error=8.5086\n",
      "[flaml.automl: 11-22 12:08:44] {3164} INFO - iteration 20, current learner rf\n",
      "[flaml.automl: 11-22 12:08:44] {3344} INFO -  at 6.3s,\testimator rf's best error=8.5086,\tbest estimator rf's best error=8.5086\n",
      "[flaml.automl: 11-22 12:08:44] {3164} INFO - iteration 21, current learner rf\n",
      "[flaml.automl: 11-22 12:08:45] {3344} INFO -  at 7.5s,\testimator rf's best error=7.8833,\tbest estimator rf's best error=7.8833\n",
      "[flaml.automl: 11-22 12:08:45] {3164} INFO - iteration 22, current learner rf\n",
      "[flaml.automl: 11-22 12:08:48] {3344} INFO -  at 10.1s,\testimator rf's best error=7.8833,\tbest estimator rf's best error=7.8833\n",
      "[flaml.automl: 11-22 12:08:48] {3164} INFO - iteration 23, current learner rf\n",
      "[flaml.automl: 11-22 12:08:48] {3344} INFO -  at 10.7s,\testimator rf's best error=7.8833,\tbest estimator rf's best error=7.8833\n",
      "[flaml.automl: 11-22 12:08:48] {3164} INFO - iteration 24, current learner rf\n",
      "[flaml.automl: 11-22 12:08:49] {3344} INFO -  at 11.3s,\testimator rf's best error=7.8833,\tbest estimator rf's best error=7.8833\n",
      "[flaml.automl: 11-22 12:08:49] {3164} INFO - iteration 25, current learner rf\n",
      "[flaml.automl: 11-22 12:08:51] {3344} INFO -  at 13.5s,\testimator rf's best error=7.8833,\tbest estimator rf's best error=7.8833\n",
      "[flaml.automl: 11-22 12:08:51] {3164} INFO - iteration 26, current learner rf\n",
      "[flaml.automl: 11-22 12:09:01] {3344} INFO -  at 23.0s,\testimator rf's best error=7.4001,\tbest estimator rf's best error=7.4001\n",
      "[flaml.automl: 11-22 12:09:01] {3164} INFO - iteration 27, current learner rf\n",
      "[flaml.automl: 11-22 12:09:10] {3344} INFO -  at 32.4s,\testimator rf's best error=7.3203,\tbest estimator rf's best error=7.3203\n",
      "[flaml.automl: 11-22 12:09:10] {3164} INFO - iteration 28, current learner rf\n",
      "[flaml.automl: 11-22 12:09:20] {3344} INFO -  at 42.5s,\testimator rf's best error=7.3203,\tbest estimator rf's best error=7.3203\n",
      "[flaml.automl: 11-22 12:09:20] {3164} INFO - iteration 29, current learner rf\n",
      "[flaml.automl: 11-22 12:09:27] {3344} INFO -  at 48.9s,\testimator rf's best error=7.3203,\tbest estimator rf's best error=7.3203\n",
      "[flaml.automl: 11-22 12:09:27] {3164} INFO - iteration 30, current learner rf\n",
      "[flaml.automl: 11-22 12:09:36] {3344} INFO -  at 58.1s,\testimator rf's best error=7.2752,\tbest estimator rf's best error=7.2752\n",
      "[flaml.automl: 11-22 12:09:36] {3164} INFO - iteration 31, current learner rf\n",
      "[flaml.automl: 11-22 12:09:49] {3344} INFO -  at 70.9s,\testimator rf's best error=7.1851,\tbest estimator rf's best error=7.1851\n",
      "[flaml.automl: 11-22 12:09:49] {3164} INFO - iteration 32, current learner rf\n",
      "[flaml.automl: 11-22 12:09:59] {3344} INFO -  at 80.9s,\testimator rf's best error=7.1851,\tbest estimator rf's best error=7.1851\n",
      "[flaml.automl: 11-22 12:09:59] {3164} INFO - iteration 33, current learner rf\n",
      "[flaml.automl: 11-22 12:10:14] {3344} INFO -  at 96.1s,\testimator rf's best error=7.1851,\tbest estimator rf's best error=7.1851\n",
      "[flaml.automl: 11-22 12:10:14] {3164} INFO - iteration 34, current learner rf\n",
      "[flaml.automl: 11-22 12:10:27] {3344} INFO -  at 109.5s,\testimator rf's best error=7.1241,\tbest estimator rf's best error=7.1241\n",
      "[flaml.automl: 11-22 12:10:27] {3164} INFO - iteration 35, current learner rf\n",
      "[flaml.automl: 11-22 12:10:39] {3344} INFO -  at 121.4s,\testimator rf's best error=7.1241,\tbest estimator rf's best error=7.1241\n",
      "[flaml.automl: 11-22 12:10:39] {3164} INFO - iteration 36, current learner rf\n",
      "[flaml.automl: 11-22 12:10:55] {3344} INFO -  at 137.4s,\testimator rf's best error=7.1241,\tbest estimator rf's best error=7.1241\n",
      "[flaml.automl: 11-22 12:10:55] {3164} INFO - iteration 37, current learner rf\n",
      "[flaml.automl: 11-22 12:11:06] {3344} INFO -  at 148.2s,\testimator rf's best error=7.1241,\tbest estimator rf's best error=7.1241\n",
      "[flaml.automl: 11-22 12:11:06] {3164} INFO - iteration 38, current learner rf\n",
      "[flaml.automl: 11-22 12:11:26] {3344} INFO -  at 168.7s,\testimator rf's best error=7.1241,\tbest estimator rf's best error=7.1241\n",
      "[flaml.automl: 11-22 12:11:26] {3164} INFO - iteration 39, current learner rf\n",
      "[flaml.automl: 11-22 12:11:43] {3344} INFO -  at 185.3s,\testimator rf's best error=7.0906,\tbest estimator rf's best error=7.0906\n",
      "[flaml.automl: 11-22 12:12:05] {3608} INFO - retrain rf for 21.7s\n",
      "[flaml.automl: 11-22 12:12:05] {3615} INFO - retrained model: RandomForestRegressor(max_features=0.6784883486716243, max_leaf_nodes=4708,\n",
      "                      n_estimators=82, n_jobs=-1)\n",
      "[flaml.automl: 11-22 12:12:05] {2900} INFO - fit succeeded\n",
      "[flaml.automl: 11-22 12:12:05] {2901} INFO - Time taken to find the best model: 185.30874514579773\n",
      "[flaml.automl: 11-22 12:12:05] {2912} WARNING - Time taken to find the best model is 93% of the provided time budget and not all estimators' hyperparameter search converged. Consider increasing the time budget.\n"
     ]
    },
    {
     "name": "stdout",
     "output_type": "stream",
     "text": [
      "RandomForestRegressor(max_features=0.6784883486716243, max_leaf_nodes=4708,\n",
      "                      n_estimators=82, n_jobs=-1)\n"
     ]
    }
   ],
   "source": [
    "from flaml import AutoML\n",
    "automl = AutoML()\n",
    "\n",
    "settings = {\n",
    "    \"time_budget\": 200,  # total running time in seconds\n",
    "    \"metric\": 'mae',  # can be: 'r2', 'rmse', 'mae', 'mse', 'accuracy', 'roc_auc', 'roc_auc_ovr',\n",
    "                           # 'roc_auc_ovo', 'log_loss', 'mape', 'f1', 'ap', 'ndcg', 'micro_f1', 'macro_f1'\n",
    "    \"task\": 'regression',  # task type\n",
    "    'estimator_list':['rf'],   #['lgbm', 'rf', 'xgboost', 'extra_tree', 'xgb_limitdepth']\n",
    "    \"seed\": 7654321,    # random seed\n",
    "}\n",
    "\n",
    "automl.fit(new_X_train.drop(['TweetID','verified', 'url_count', 'pop', 'statuses_count'], axis=1), y_train, **settings)\n",
    "# Print the best model\n",
    "print(automl.model.estimator)"
   ]
  },
  {
   "cell_type": "code",
   "execution_count": 196,
   "metadata": {},
   "outputs": [
    {
     "name": "stdout",
     "output_type": "stream",
     "text": [
      "RandomForestRegressor(max_features=0.9880212306377765, max_leaf_nodes=17416,\n",
      "                      n_estimators=109, n_jobs=-1)\n"
     ]
    }
   ],
   "source": [
    "print(automl.model.estimator)"
   ]
  },
  {
   "cell_type": "markdown",
   "metadata": {},
   "source": [
    "\n",
    "AutoML.fit(self, X_train, y_train, dataframe, label, metric, task, n_jobs, log_file_name, estimator_list, time_budget, max_iter, sample, ensemble, eval_method, log_type, model_history, split_ratio, n_splits, log_training_metric, mem_thres, pred_time_limit, train_time_limit, X_val, y_val, sample_weight_val, groups_val, groups, verbose, retrain_full, split_type, learner_selector, hpo_method, starting_points, seed, n_concurrent_trials, keep_search_state, preserve_checkpoint, early_stop, append_log, auto_augment, min_sample_size, use_ray, metric_constraints, custom_hp, cv_score_agg_func, skip_transform, fit_kwargs_by_estimator, **fit_kwargs)\n",
    "\n",
    "\n",
    "xgboost, rf, lgbm, extra_tree"
   ]
  },
  {
   "cell_type": "markdown",
   "metadata": {},
   "source": [
    "# Submission"
   ]
  },
  {
   "cell_type": "code",
   "execution_count": 77,
   "metadata": {},
   "outputs": [
    {
     "data": {
      "text/html": [
       "<div>\n",
       "<style scoped>\n",
       "    .dataframe tbody tr th:only-of-type {\n",
       "        vertical-align: middle;\n",
       "    }\n",
       "\n",
       "    .dataframe tbody tr th {\n",
       "        vertical-align: top;\n",
       "    }\n",
       "\n",
       "    .dataframe thead th {\n",
       "        text-align: right;\n",
       "    }\n",
       "</style>\n",
       "<table border=\"1\" class=\"dataframe\">\n",
       "  <thead>\n",
       "    <tr style=\"text-align: right;\">\n",
       "      <th></th>\n",
       "      <th>TweetID</th>\n",
       "      <th>followers_count</th>\n",
       "      <th>friends_count</th>\n",
       "      <th>favorites_count</th>\n",
       "      <th>statuses_count</th>\n",
       "      <th>verified</th>\n",
       "      <th>url_count</th>\n",
       "      <th>followers_friends</th>\n",
       "      <th>favorites_followers</th>\n",
       "      <th>favorites_friends</th>\n",
       "      <th>hour</th>\n",
       "      <th>day</th>\n",
       "      <th>polarity</th>\n",
       "      <th>subjectivity</th>\n",
       "      <th>pop</th>\n",
       "    </tr>\n",
       "  </thead>\n",
       "  <tbody>\n",
       "    <tr>\n",
       "      <th>40583</th>\n",
       "      <td>807745</td>\n",
       "      <td>683</td>\n",
       "      <td>671</td>\n",
       "      <td>0</td>\n",
       "      <td>4013</td>\n",
       "      <td>0</td>\n",
       "      <td>0</td>\n",
       "      <td>1.016369</td>\n",
       "      <td>0.000000</td>\n",
       "      <td>0.000000</td>\n",
       "      <td>10</td>\n",
       "      <td>6</td>\n",
       "      <td>0.000</td>\n",
       "      <td>0.000</td>\n",
       "      <td>0.0</td>\n",
       "    </tr>\n",
       "    <tr>\n",
       "      <th>147514</th>\n",
       "      <td>431422</td>\n",
       "      <td>563</td>\n",
       "      <td>851</td>\n",
       "      <td>4</td>\n",
       "      <td>3420</td>\n",
       "      <td>0</td>\n",
       "      <td>1</td>\n",
       "      <td>0.660798</td>\n",
       "      <td>0.007092</td>\n",
       "      <td>0.004695</td>\n",
       "      <td>13</td>\n",
       "      <td>3</td>\n",
       "      <td>0.085</td>\n",
       "      <td>0.000</td>\n",
       "      <td>0.0</td>\n",
       "    </tr>\n",
       "    <tr>\n",
       "      <th>185397</th>\n",
       "      <td>583903</td>\n",
       "      <td>6107</td>\n",
       "      <td>4944</td>\n",
       "      <td>31</td>\n",
       "      <td>53026</td>\n",
       "      <td>0</td>\n",
       "      <td>1</td>\n",
       "      <td>1.234985</td>\n",
       "      <td>0.005075</td>\n",
       "      <td>0.006269</td>\n",
       "      <td>13</td>\n",
       "      <td>2</td>\n",
       "      <td>-0.050</td>\n",
       "      <td>0.325</td>\n",
       "      <td>0.0</td>\n",
       "    </tr>\n",
       "    <tr>\n",
       "      <th>35111</th>\n",
       "      <td>931322</td>\n",
       "      <td>527</td>\n",
       "      <td>1547</td>\n",
       "      <td>0</td>\n",
       "      <td>4199</td>\n",
       "      <td>0</td>\n",
       "      <td>0</td>\n",
       "      <td>0.340439</td>\n",
       "      <td>0.000000</td>\n",
       "      <td>0.000000</td>\n",
       "      <td>10</td>\n",
       "      <td>4</td>\n",
       "      <td>0.000</td>\n",
       "      <td>0.000</td>\n",
       "      <td>2.0</td>\n",
       "    </tr>\n",
       "    <tr>\n",
       "      <th>52476</th>\n",
       "      <td>1085116</td>\n",
       "      <td>583</td>\n",
       "      <td>655</td>\n",
       "      <td>0</td>\n",
       "      <td>17652</td>\n",
       "      <td>0</td>\n",
       "      <td>0</td>\n",
       "      <td>0.888720</td>\n",
       "      <td>0.000000</td>\n",
       "      <td>0.000000</td>\n",
       "      <td>21</td>\n",
       "      <td>0</td>\n",
       "      <td>0.000</td>\n",
       "      <td>0.000</td>\n",
       "      <td>0.0</td>\n",
       "    </tr>\n",
       "  </tbody>\n",
       "</table>\n",
       "</div>"
      ],
      "text/plain": [
       "        TweetID  followers_count  friends_count  favorites_count  \\\n",
       "40583    807745              683            671                0   \n",
       "147514   431422              563            851                4   \n",
       "185397   583903             6107           4944               31   \n",
       "35111    931322              527           1547                0   \n",
       "52476   1085116              583            655                0   \n",
       "\n",
       "        statuses_count  verified  url_count  followers_friends  \\\n",
       "40583             4013         0          0           1.016369   \n",
       "147514            3420         0          1           0.660798   \n",
       "185397           53026         0          1           1.234985   \n",
       "35111             4199         0          0           0.340439   \n",
       "52476            17652         0          0           0.888720   \n",
       "\n",
       "        favorites_followers  favorites_friends  hour  day  polarity  \\\n",
       "40583              0.000000           0.000000    10    6     0.000   \n",
       "147514             0.007092           0.004695    13    3     0.085   \n",
       "185397             0.005075           0.006269    13    2    -0.050   \n",
       "35111              0.000000           0.000000    10    4     0.000   \n",
       "52476              0.000000           0.000000    21    0     0.000   \n",
       "\n",
       "        subjectivity  pop  \n",
       "40583          0.000  0.0  \n",
       "147514         0.000  0.0  \n",
       "185397         0.325  0.0  \n",
       "35111          0.000  2.0  \n",
       "52476          0.000  0.0  "
      ]
     },
     "execution_count": 77,
     "metadata": {},
     "output_type": "execute_result"
    }
   ],
   "source": [
    "#test on X_test\n",
    "new_X_test=feature_engineering(X_test)\n",
    "new_X_test=time_engineering(new_X_test)\n",
    "new_X_test=text_engineering(new_X_test)\n",
    "new_X_test=hashtags_engineering(new_X_test)\n",
    "#new_X_train=logtransformdrop(X_train,['followers.count','friends_count','favorites_count','followers_count'])\n",
    "new_X_test=new_X_test.reindex(columns=col)\n",
    "new_X_test.head()\n"
   ]
  },
  {
   "cell_type": "code",
   "execution_count": 78,
   "metadata": {},
   "outputs": [
    {
     "name": "stdout",
     "output_type": "stream",
     "text": [
      "8.015422205686958\n"
     ]
    }
   ],
   "source": [
    "from sklearn.neural_network import MLPRegressor\n",
    "from sklearn.linear_model import LinearRegression\n",
    "from sklearn.ensemble import RandomForestRegressor\n",
    "model=RandomForestRegressor(max_features=0.9510381925366853, max_leaf_nodes=123,\n",
    "                      n_estimators=4, n_jobs=-1)\n",
    "model.fit(new_X_train.drop(['TweetID','verified', 'url_count', 'pop', 'statuses_count'],axis=1), y_train)\n",
    "y_pred = model.predict(new_X_test.drop(['TweetID','verified', 'url_count', 'followers_friends', 'statuses_count'],axis=1))\n",
    "print(mean_absolute_error(y_test, y_pred))"
   ]
  },
  {
   "cell_type": "code",
   "execution_count": 79,
   "metadata": {},
   "outputs": [
    {
     "data": {
      "image/png": "[encoded data removed]",
      "text/plain": [
       "<Figure size 720x720 with 1 Axes>"
      ]
     },
     "metadata": {
      "needs_background": "light"
     },
     "output_type": "display_data"
    },
    {
     "data": {
      "text/plain": [
       "<AxesSubplot:>"
      ]
     },
     "execution_count": 79,
     "metadata": {},
     "output_type": "execute_result"
    },
    {
     "data": {
      "image/png": "[encoded data removed]",
      "text/plain": [
       "<Figure size 432x288 with 1 Axes>"
      ]
     },
     "metadata": {
      "needs_background": "light"
     },
     "output_type": "display_data"
    },
    {
     "data": {
      "image/png": "[encoded data removed]",
      "text/plain": [
       "<Figure size 1152x1152 with 2 Axes>"
      ]
     },
     "metadata": {
      "needs_background": "light"
     },
     "output_type": "display_data"
    }
   ],
   "source": [
    "#plot feature importance\n",
    "import matplotlib.pyplot as plt\n",
    "import seaborn as sns\n",
    "%matplotlib inline\n",
    "feature_importance = pd.DataFrame({'feature': new_X_train.drop(['TweetID','verified', 'url_count', 'pop', 'statuses_count'],axis=1).columns, 'importance': model.feature_importances_})\n",
    "plt.figure(figsize=(10, 10))\n",
    "sns.barplot(data=feature_importance.sort_values(by='importance', ascending=False), x='importance', y='feature')\n",
    "plt.title('Feature importance')\n",
    "plt.show()\n",
    "\n",
    "\n",
    "# plot correlation of features\n",
    "from scipy.cluster import hierarchy\n",
    "import seaborn as sbn\n",
    "\n",
    "order = np.array(hierarchy.dendrogram(\n",
    "    hierarchy.ward(new_X_train.drop(['TweetID','verified', 'url_count', 'pop', 'statuses_count'],axis=1).corr()),no_plot=False)['ivl'], dtype=\"int\")\n",
    "\n",
    "rearranged_cov = new_X_train.drop(['TweetID','verified', 'url_count', 'pop', 'statuses_count'],axis=1).corr().iloc[order, order]\n",
    "\n",
    "plt.figure(figsize=(16, 16))\n",
    "\n",
    "sbn.heatmap(rearranged_cov, annot=True, cmap=\"RdBu_r\", center=0)\n",
    "\n"
   ]
  }
 ],
 "metadata": {
  "kernelspec": {
   "display_name": "Python 3 (ipykernel)",
   "language": "python",
   "name": "python3"
  },
  "language_info": {
   "codemirror_mode": {
    "name": "ipython",
    "version": 3
   },
   "file_extension": ".py",
   "mimetype": "text/x-python",
   "name": "python",
   "nbconvert_exporter": "python",
   "pygments_lexer": "ipython3",
   "version": "3.9.12"
  },
  "vscode": {
   "interpreter": {
    "hash": "ca02d05c83cb06a4d3d1bb3c2ad95bd9ee4b26f688526444572dc942a69d580d"
   }
  }
 },
 "nbformat": 4,
 "nbformat_minor": 2
}
