{
 "cells": [
  {
   "cell_type": "markdown",
   "metadata": {},
   "source": [
    "# Notebook magique with AutoML"
   ]
  },
  {
   "cell_type": "markdown",
   "metadata": {},
   "source": [
    "TO DO:\n",
    "- fix hashtags\n",
    "- fix log\n",
    "- remove outliers"
   ]
  },
  {
   "cell_type": "code",
   "execution_count": 34,
   "metadata": {},
   "outputs": [],
   "source": [
    "import csv\n",
    "import numpy as np\n",
    "import pandas as pd\n",
    "import matplotlib.pyplot as plt\n",
    "import sns as sns\n",
    "from sklearn.metrics import mean_absolute_error\n",
    "from verstack.stratified_continuous_split import scsplit # pip install verstack\n",
    "\n",
    "\n",
    "# Load the training data\n",
    "train_data = pd.read_csv(\"data/train.csv\")\n",
    "\n",
    "# Load the evaluation data\n",
    "eval_data = pd.read_csv(\"data/evaluation.csv\")\n",
    "\n",
    "\n",
    "\n"
   ]
  },
  {
   "cell_type": "markdown",
   "metadata": {},
   "source": [
    "Split data"
   ]
  },
  {
   "cell_type": "code",
   "execution_count": 35,
   "metadata": {},
   "outputs": [],
   "source": [
    "#split data\n",
    "X_train, X_test, y_train, y_test = scsplit(train_data, train_data['retweets_count'], stratify=train_data['retweets_count'], train_size=0.8, test_size=0.2)\n",
    "# We remove the actual number of retweets from our features since it is the value that we are trying to predict\n",
    "X_train = X_train.drop(['retweets_count'], axis=1)\n",
    "X_test = X_test.drop(['retweets_count'], axis=1)"
   ]
  },
  {
   "cell_type": "markdown",
   "metadata": {},
   "source": [
    "## Outliers"
   ]
  },
  {
   "cell_type": "code",
   "execution_count": 36,
   "metadata": {},
   "outputs": [],
   "source": [
    "# remove outliers with quartile\n",
    "def remove_outliers(df, col):\n",
    "    q1 = df[col].quantile(0.25)\n",
    "    q3 = df[col].quantile(0.75)\n",
    "    iqr = q3 - q1\n",
    "    df = df[(df[col] >= q1 - 5 * iqr) & (df[col] <= q3 + 5 * iqr)]\n",
    "    return df\n"
   ]
  },
  {
   "cell_type": "code",
   "execution_count": 37,
   "metadata": {},
   "outputs": [],
   "source": [
    "def feature_engineering(in_df):\n",
    "    rs_df = in_df\n",
    "\n",
    "    #mentions is always empty -> DROP Mention\n",
    "    rs_df = rs_df.drop(['mentions'], axis=1)\n",
    "\n",
    "    #add a column to data which counts url\n",
    "    rs_df['url_count'] = rs_df['urls'].str.count('http')\n",
    "    rs_df= rs_df.drop(['urls'], axis=1)\n",
    "    #add a column to data which gives length of hashtags\n",
    "    #TO DO\n",
    "    #add columns to data which makes ratios\n",
    "    rs_df['followers_friends'] = rs_df['followers_count'] / (rs_df['friends_count'].apply(lambda x: x+1))\n",
    "    rs_df['favorites_followers'] = rs_df['favorites_count'] / (rs_df['followers_count'].apply(lambda x: x+1))\n",
    "    rs_df['favorites_friends'] = rs_df['favorites_count'] / (rs_df['friends_count'].apply(lambda x: x+1))\n",
    "\n",
    "    return rs_df\n",
    "\n"
   ]
  },
  {
   "cell_type": "code",
   "execution_count": 38,
   "metadata": {},
   "outputs": [],
   "source": [
    "from datetime import datetime\n",
    "def time_engineering(in_df):\n",
    "    rs_df = in_df\n",
    "    rs_df[\"hour\"] = rs_df.timestamp.apply(lambda t: (datetime.fromtimestamp(t//1000)).hour)\n",
    "    rs_df[\"day\"] = rs_df.timestamp.apply(lambda t: (datetime.fromtimestamp(t//1000)).weekday())\n",
    "    rs_df.drop(['timestamp'], axis=1)\n",
    "    return rs_df"
   ]
  },
  {
   "cell_type": "code",
   "execution_count": 39,
   "metadata": {},
   "outputs": [],
   "source": [
    "from textblob import TextBlob #pip install textblob-fr\n",
    "from textblob_fr import PatternTagger, PatternAnalyzer\n",
    "def text_engineering(in_df):\n",
    "    rs_df = in_df\n",
    "    #add columns related to sentiment analysis\n",
    "    rs_df['polarity']=rs_df['text'].apply(lambda x: TextBlob(x, pos_tagger=PatternTagger(), analyzer=PatternAnalyzer()).sentiment[0])\n",
    "    rs_df['subjectivity']=rs_df['text'].apply(lambda x: TextBlob(x, pos_tagger=PatternTagger(), analyzer=PatternAnalyzer()).sentiment[1])\n",
    "    #drop the text column\n",
    "    rs_df = rs_df.drop(['text'], axis=1)\n",
    "    return rs_df"
   ]
  },
  {
   "cell_type": "code",
   "execution_count": 40,
   "metadata": {},
   "outputs": [],
   "source": [
    "from sklearn.feature_extraction.text import CountVectorizer\n",
    "from nltk.corpus import stopwords\n",
    "def hashtags_engineering(in_df):\n",
    "    rs_df = in_df\n",
    "    #make a string of the list\n",
    "    rs_df['hashtags']=rs_df['hashtags'].apply(lambda x: x.replace('[','').replace(']','').replace(\"'\",''))\n",
    "    vectorizer2 = CountVectorizer(max_features=14, stop_words=stopwords.words('french')) \n",
    "    hashtags = vectorizer2.fit_transform(rs_df['hashtags'])\n",
    "    # show vocabulary\n",
    "    pop=np.sum(hashtags.toarray(),axis=1)\n",
    "    #pop to df\n",
    "    pop=pd.DataFrame(pop,columns=['pop'])# popularity=number of popular hashtags\n",
    "    #add pop to df\n",
    "    rs_df=pd.concat([rs_df,pop],axis=1)\n",
    "    #drop hashtags\n",
    "    rs_df = rs_df.drop(['hashtags'], axis=1)\n",
    "    return rs_df\n"
   ]
  },
  {
   "cell_type": "markdown",
   "metadata": {},
   "source": [
    "## Scaler"
   ]
  },
  {
   "cell_type": "code",
   "execution_count": 41,
   "metadata": {},
   "outputs": [],
   "source": [
    "def logtransformdrop(dataframe, cols):\n",
    "    for col in cols:\n",
    "        dataframe['log_' + col ] = dataframe[col].apply(lambda x: np.log10(int(x)+1))\n",
    "    dataframe = dataframe.drop(cols,axis=1)\n",
    "    return dataframe"
   ]
  },
  {
   "cell_type": "markdown",
   "metadata": {},
   "source": [
    "## Data processing"
   ]
  },
  {
   "cell_type": "code",
   "execution_count": 42,
   "metadata": {},
   "outputs": [],
   "source": [
    "new_X_train=feature_engineering(X_train)\n",
    "new_X_train=time_engineering(new_X_train)\n",
    "new_X_train=text_engineering(new_X_train)\n",
    "#new_X_train=hashtags_engineering(new_X_train)\n",
    "#new_X_train=logtransformdrop(X_train,['followers.count','friends_count','favorites_count','followers_count'])"
   ]
  },
  {
   "cell_type": "markdown",
   "metadata": {},
   "source": [
    "## Flaml"
   ]
  },
  {
   "cell_type": "code",
   "execution_count": 43,
   "metadata": {},
   "outputs": [
    {
     "name": "stderr",
     "output_type": "stream",
     "text": [
      "[flaml.automl: 11-21 19:05:56] {2600} INFO - task = regression\n",
      "[flaml.automl: 11-21 19:05:56] {2602} INFO - Data split method: uniform\n",
      "[flaml.automl: 11-21 19:05:56] {2605} INFO - Evaluation method: holdout\n",
      "[flaml.automl: 11-21 19:05:56] {2727} INFO - Minimizing error metric: mae\n",
      "[flaml.automl: 11-21 19:05:56] {2869} INFO - List of ML learners in AutoML Run: ['rf', 'extra_tree']\n",
      "[flaml.automl: 11-21 19:05:56] {3164} INFO - iteration 0, current learner rf\n",
      "[flaml.automl: 11-21 19:05:56] {3297} INFO - Estimated sufficient time budget=20450s. Estimated necessary time budget=20s.\n",
      "[flaml.automl: 11-21 19:05:56] {3344} INFO -  at 1.2s,\testimator rf's best error=11.1546,\tbest estimator rf's best error=11.1546\n",
      "[flaml.automl: 11-21 19:05:56] {3164} INFO - iteration 1, current learner extra_tree\n",
      "[flaml.automl: 11-21 19:05:56] {3344} INFO -  at 1.3s,\testimator extra_tree's best error=13.9062,\tbest estimator rf's best error=11.1546\n",
      "[flaml.automl: 11-21 19:05:56] {3164} INFO - iteration 2, current learner extra_tree\n",
      "[flaml.automl: 11-21 19:05:56] {3344} INFO -  at 1.3s,\testimator extra_tree's best error=13.9062,\tbest estimator rf's best error=11.1546\n",
      "[flaml.automl: 11-21 19:05:56] {3164} INFO - iteration 3, current learner extra_tree\n",
      "[flaml.automl: 11-21 19:05:57] {3344} INFO -  at 1.4s,\testimator extra_tree's best error=13.9062,\tbest estimator rf's best error=11.1546\n",
      "[flaml.automl: 11-21 19:05:57] {3164} INFO - iteration 4, current learner rf\n",
      "[flaml.automl: 11-21 19:05:57] {3344} INFO -  at 1.5s,\testimator rf's best error=10.4448,\tbest estimator rf's best error=10.4448\n",
      "[flaml.automl: 11-21 19:05:57] {3164} INFO - iteration 5, current learner rf\n",
      "[flaml.automl: 11-21 19:05:57] {3344} INFO -  at 1.6s,\testimator rf's best error=10.4448,\tbest estimator rf's best error=10.4448\n",
      "[flaml.automl: 11-21 19:05:57] {3164} INFO - iteration 6, current learner rf\n",
      "[flaml.automl: 11-21 19:05:57] {3344} INFO -  at 1.7s,\testimator rf's best error=8.7845,\tbest estimator rf's best error=8.7845\n",
      "[flaml.automl: 11-21 19:05:57] {3164} INFO - iteration 7, current learner rf\n",
      "[flaml.automl: 11-21 19:05:57] {3344} INFO -  at 1.8s,\testimator rf's best error=8.7845,\tbest estimator rf's best error=8.7845\n",
      "[flaml.automl: 11-21 19:05:57] {3164} INFO - iteration 8, current learner rf\n",
      "[flaml.automl: 11-21 19:05:57] {3344} INFO -  at 1.9s,\testimator rf's best error=8.1630,\tbest estimator rf's best error=8.1630\n",
      "[flaml.automl: 11-21 19:05:57] {3164} INFO - iteration 9, current learner rf\n",
      "[flaml.automl: 11-21 19:05:57] {3344} INFO -  at 2.0s,\testimator rf's best error=8.1630,\tbest estimator rf's best error=8.1630\n",
      "[flaml.automl: 11-21 19:05:57] {3164} INFO - iteration 10, current learner extra_tree\n",
      "[flaml.automl: 11-21 19:05:57] {3344} INFO -  at 2.1s,\testimator extra_tree's best error=12.8679,\tbest estimator rf's best error=8.1630\n",
      "[flaml.automl: 11-21 19:05:57] {3164} INFO - iteration 11, current learner rf\n",
      "[flaml.automl: 11-21 19:05:57] {3344} INFO -  at 2.3s,\testimator rf's best error=7.3821,\tbest estimator rf's best error=7.3821\n",
      "[flaml.automl: 11-21 19:05:57] {3164} INFO - iteration 12, current learner rf\n",
      "[flaml.automl: 11-21 19:05:57] {3344} INFO -  at 2.3s,\testimator rf's best error=7.3821,\tbest estimator rf's best error=7.3821\n",
      "[flaml.automl: 11-21 19:05:57] {3164} INFO - iteration 13, current learner rf\n",
      "[flaml.automl: 11-21 19:05:58] {3344} INFO -  at 2.5s,\testimator rf's best error=6.8934,\tbest estimator rf's best error=6.8934\n",
      "[flaml.automl: 11-21 19:05:58] {3164} INFO - iteration 14, current learner rf\n",
      "[flaml.automl: 11-21 19:05:58] {3344} INFO -  at 2.7s,\testimator rf's best error=6.8934,\tbest estimator rf's best error=6.8934\n",
      "[flaml.automl: 11-21 19:05:58] {3164} INFO - iteration 15, current learner extra_tree\n",
      "[flaml.automl: 11-21 19:05:58] {3344} INFO -  at 2.8s,\testimator extra_tree's best error=12.8679,\tbest estimator rf's best error=6.8934\n",
      "[flaml.automl: 11-21 19:05:58] {3164} INFO - iteration 16, current learner rf\n",
      "[flaml.automl: 11-21 19:05:58] {3344} INFO -  at 3.0s,\testimator rf's best error=6.8934,\tbest estimator rf's best error=6.8934\n",
      "[flaml.automl: 11-21 19:05:58] {3164} INFO - iteration 17, current learner rf\n",
      "[flaml.automl: 11-21 19:05:58] {3344} INFO -  at 3.2s,\testimator rf's best error=6.8934,\tbest estimator rf's best error=6.8934\n",
      "[flaml.automl: 11-21 19:05:58] {3164} INFO - iteration 18, current learner rf\n",
      "[flaml.automl: 11-21 19:05:59] {3344} INFO -  at 3.4s,\testimator rf's best error=6.8934,\tbest estimator rf's best error=6.8934\n",
      "[flaml.automl: 11-21 19:05:59] {3164} INFO - iteration 19, current learner rf\n",
      "[flaml.automl: 11-21 19:05:59] {3344} INFO -  at 3.7s,\testimator rf's best error=6.7681,\tbest estimator rf's best error=6.7681\n",
      "[flaml.automl: 11-21 19:05:59] {3164} INFO - iteration 20, current learner rf\n",
      "[flaml.automl: 11-21 19:05:59] {3344} INFO -  at 4.2s,\testimator rf's best error=6.7681,\tbest estimator rf's best error=6.7681\n",
      "[flaml.automl: 11-21 19:05:59] {3164} INFO - iteration 21, current learner rf\n",
      "[flaml.automl: 11-21 19:06:00] {3344} INFO -  at 4.4s,\testimator rf's best error=6.7681,\tbest estimator rf's best error=6.7681\n",
      "[flaml.automl: 11-21 19:06:00] {3164} INFO - iteration 22, current learner extra_tree\n",
      "[flaml.automl: 11-21 19:06:00] {3344} INFO -  at 4.4s,\testimator extra_tree's best error=8.9087,\tbest estimator rf's best error=6.7681\n",
      "[flaml.automl: 11-21 19:06:00] {3164} INFO - iteration 23, current learner extra_tree\n",
      "[flaml.automl: 11-21 19:06:00] {3344} INFO -  at 4.5s,\testimator extra_tree's best error=8.9087,\tbest estimator rf's best error=6.7681\n",
      "[flaml.automl: 11-21 19:06:00] {3164} INFO - iteration 24, current learner extra_tree\n",
      "[flaml.automl: 11-21 19:06:00] {3344} INFO -  at 4.6s,\testimator extra_tree's best error=7.5945,\tbest estimator rf's best error=6.7681\n",
      "[flaml.automl: 11-21 19:06:00] {3164} INFO - iteration 25, current learner extra_tree\n",
      "[flaml.automl: 11-21 19:06:00] {3344} INFO -  at 4.7s,\testimator extra_tree's best error=7.5945,\tbest estimator rf's best error=6.7681\n",
      "[flaml.automl: 11-21 19:06:00] {3164} INFO - iteration 26, current learner extra_tree\n",
      "[flaml.automl: 11-21 19:06:00] {3344} INFO -  at 4.8s,\testimator extra_tree's best error=7.1055,\tbest estimator rf's best error=6.7681\n",
      "[flaml.automl: 11-21 19:06:00] {3164} INFO - iteration 27, current learner extra_tree\n",
      "[flaml.automl: 11-21 19:06:00] {3344} INFO -  at 4.9s,\testimator extra_tree's best error=7.1055,\tbest estimator rf's best error=6.7681\n",
      "[flaml.automl: 11-21 19:06:00] {3164} INFO - iteration 28, current learner rf\n",
      "[flaml.automl: 11-21 19:06:00] {3344} INFO -  at 5.1s,\testimator rf's best error=6.7681,\tbest estimator rf's best error=6.7681\n",
      "[flaml.automl: 11-21 19:06:00] {3164} INFO - iteration 29, current learner rf\n",
      "[flaml.automl: 11-21 19:06:01] {3344} INFO -  at 5.5s,\testimator rf's best error=6.7629,\tbest estimator rf's best error=6.7629\n",
      "[flaml.automl: 11-21 19:06:01] {3164} INFO - iteration 30, current learner rf\n",
      "[flaml.automl: 11-21 19:06:01] {3344} INFO -  at 5.9s,\testimator rf's best error=6.7156,\tbest estimator rf's best error=6.7156\n",
      "[flaml.automl: 11-21 19:06:01] {3164} INFO - iteration 31, current learner extra_tree\n",
      "[flaml.automl: 11-21 19:06:01] {3344} INFO -  at 6.0s,\testimator extra_tree's best error=7.0843,\tbest estimator rf's best error=6.7156\n",
      "[flaml.automl: 11-21 19:06:01] {3164} INFO - iteration 32, current learner rf\n",
      "[flaml.automl: 11-21 19:06:02] {3344} INFO -  at 6.4s,\testimator rf's best error=6.6735,\tbest estimator rf's best error=6.6735\n",
      "[flaml.automl: 11-21 19:06:02] {3164} INFO - iteration 33, current learner rf\n",
      "[flaml.automl: 11-21 19:06:02] {3344} INFO -  at 7.3s,\testimator rf's best error=6.6735,\tbest estimator rf's best error=6.6735\n",
      "[flaml.automl: 11-21 19:06:02] {3164} INFO - iteration 34, current learner extra_tree\n",
      "[flaml.automl: 11-21 19:06:03] {3344} INFO -  at 7.4s,\testimator extra_tree's best error=7.0724,\tbest estimator rf's best error=6.6735\n",
      "[flaml.automl: 11-21 19:06:03] {3164} INFO - iteration 35, current learner rf\n",
      "[flaml.automl: 11-21 19:06:03] {3344} INFO -  at 7.7s,\testimator rf's best error=6.6735,\tbest estimator rf's best error=6.6735\n",
      "[flaml.automl: 11-21 19:06:03] {3164} INFO - iteration 36, current learner rf\n",
      "[flaml.automl: 11-21 19:06:03] {3344} INFO -  at 7.9s,\testimator rf's best error=6.6735,\tbest estimator rf's best error=6.6735\n",
      "[flaml.automl: 11-21 19:06:03] {3164} INFO - iteration 37, current learner rf\n",
      "[flaml.automl: 11-21 19:06:04] {3344} INFO -  at 8.8s,\testimator rf's best error=6.6735,\tbest estimator rf's best error=6.6735\n",
      "[flaml.automl: 11-21 19:06:04] {3164} INFO - iteration 38, current learner rf\n",
      "[flaml.automl: 11-21 19:06:05] {3344} INFO -  at 10.1s,\testimator rf's best error=6.6735,\tbest estimator rf's best error=6.6735\n",
      "[flaml.automl: 11-21 19:06:05] {3164} INFO - iteration 39, current learner extra_tree\n",
      "[flaml.automl: 11-21 19:06:05] {3344} INFO -  at 10.2s,\testimator extra_tree's best error=7.0724,\tbest estimator rf's best error=6.6735\n",
      "[flaml.automl: 11-21 19:06:05] {3164} INFO - iteration 40, current learner rf\n",
      "[flaml.automl: 11-21 19:06:07] {3344} INFO -  at 11.4s,\testimator rf's best error=6.5290,\tbest estimator rf's best error=6.5290\n",
      "[flaml.automl: 11-21 19:06:07] {3164} INFO - iteration 41, current learner rf\n",
      "[flaml.automl: 11-21 19:06:08] {3344} INFO -  at 12.7s,\testimator rf's best error=6.5290,\tbest estimator rf's best error=6.5290\n",
      "[flaml.automl: 11-21 19:06:08] {3164} INFO - iteration 42, current learner extra_tree\n",
      "[flaml.automl: 11-21 19:06:08] {3344} INFO -  at 12.9s,\testimator extra_tree's best error=7.0067,\tbest estimator rf's best error=6.5290\n",
      "[flaml.automl: 11-21 19:06:08] {3164} INFO - iteration 43, current learner extra_tree\n",
      "[flaml.automl: 11-21 19:06:08] {3344} INFO -  at 13.1s,\testimator extra_tree's best error=6.9281,\tbest estimator rf's best error=6.5290\n",
      "[flaml.automl: 11-21 19:06:08] {3164} INFO - iteration 44, current learner rf\n",
      "[flaml.automl: 11-21 19:06:09] {3344} INFO -  at 13.9s,\testimator rf's best error=6.5290,\tbest estimator rf's best error=6.5290\n",
      "[flaml.automl: 11-21 19:06:09] {3164} INFO - iteration 45, current learner extra_tree\n",
      "[flaml.automl: 11-21 19:06:09] {3344} INFO -  at 14.0s,\testimator extra_tree's best error=6.9281,\tbest estimator rf's best error=6.5290\n",
      "[flaml.automl: 11-21 19:06:09] {3164} INFO - iteration 46, current learner rf\n",
      "[flaml.automl: 11-21 19:06:11] {3344} INFO -  at 15.9s,\testimator rf's best error=6.4339,\tbest estimator rf's best error=6.4339\n",
      "[flaml.automl: 11-21 19:06:11] {3164} INFO - iteration 47, current learner rf\n",
      "[flaml.automl: 11-21 19:06:13] {3344} INFO -  at 17.7s,\testimator rf's best error=6.4339,\tbest estimator rf's best error=6.4339\n",
      "[flaml.automl: 11-21 19:06:13] {3164} INFO - iteration 48, current learner extra_tree\n",
      "[flaml.automl: 11-21 19:06:13] {3344} INFO -  at 17.9s,\testimator extra_tree's best error=6.9281,\tbest estimator rf's best error=6.4339\n",
      "[flaml.automl: 11-21 19:06:13] {3164} INFO - iteration 49, current learner rf\n",
      "[flaml.automl: 11-21 19:06:15] {3344} INFO -  at 19.6s,\testimator rf's best error=6.4339,\tbest estimator rf's best error=6.4339\n",
      "[flaml.automl: 11-21 19:06:15] {3164} INFO - iteration 50, current learner rf\n"
     ]
    }
   ],
   "source": [
    "from flaml import AutoML\n",
    "automl = AutoML()\n",
    "\n",
    "settings = {\n",
    "    \"time_budget\": 1800,  # total running time in seconds\n",
    "    \"metric\": 'mae',  # can be: 'r2', 'rmse', 'mae', 'mse', 'accuracy', 'roc_auc', 'roc_auc_ovr',\n",
    "                           # 'roc_auc_ovo', 'log_loss', 'mape', 'f1', 'ap', 'ndcg', 'micro_f1', 'macro_f1'\n",
    "    \"task\": 'regression',  # task type\n",
    "    'estimator_list':['rf','extra_tree'],   #['lgbm', 'rf', 'xgboost', 'extra_tree', 'xgb_limitdepth']\n",
    "    \"seed\": 7654321,    # random seed\n",
    "}\n",
    "\n",
    "automl.fit(new_X_train.drop(['TweetID'], axis=1), y_train, **settings)\n",
    "# Print the best model\n",
    "print(automl.model.estimator)"
   ]
  },
  {
   "cell_type": "markdown",
   "metadata": {},
   "source": [
    "\n",
    "AutoML.fit(self, X_train, y_train, dataframe, label, metric, task, n_jobs, log_file_name, estimator_list, time_budget, max_iter, sample, ensemble, eval_method, log_type, model_history, split_ratio, n_splits, log_training_metric, mem_thres, pred_time_limit, train_time_limit, X_val, y_val, sample_weight_val, groups_val, groups, verbose, retrain_full, split_type, learner_selector, hpo_method, starting_points, seed, n_concurrent_trials, keep_search_state, preserve_checkpoint, early_stop, append_log, auto_augment, min_sample_size, use_ray, metric_constraints, custom_hp, cv_score_agg_func, skip_transform, fit_kwargs_by_estimator, **fit_kwargs)\n",
    "\n",
    "\n",
    "xgboost, rf, lgbm, extra_tree"
   ]
  },
  {
   "cell_type": "markdown",
   "metadata": {},
   "source": [
    "# Submission"
   ]
  },
  {
   "cell_type": "code",
   "execution_count": null,
   "metadata": {},
   "outputs": [],
   "source": [
    "#test on X_test\n",
    "y_pred = automl.predict(X_test.drop(['TweetID'], axis=1))\n",
    "#mean absolute error\n",
    "from sklearn.metrics import mean_absolute_error\n",
    "print(mean_absolute_error(y_test, y_pred))"
   ]
  },
  {
   "cell_type": "code",
   "execution_count": null,
   "metadata": {},
   "outputs": [],
   "source": []
  },
  {
   "cell_type": "markdown",
   "metadata": {},
   "source": [
    "## Model"
   ]
  },
  {
   "cell_type": "code",
   "execution_count": null,
   "metadata": {},
   "outputs": [
    {
     "name": "stdout",
     "output_type": "stream",
     "text": [
      "[0.75952837 0.02096927 0.0268793  0.01763596 0.15505379 0.01993332]\n"
     ]
    }
   ],
   "source": [
    "# Predict the CoverType for the evaluation dataset\n",
    "#import RandomForestRegressor\n",
    "from sklearn.ensemble import RandomForestRegressor\n",
    "#import ExtraTreesRegressor\n",
    "from sklearn.ensemble import ExtraTreesRegressor\n",
    "\n",
    "model=automl.model\n",
    "\n",
    "model.fit(X_train, y_train)\n",
    "\n",
    "#show top features\n",
    "importances = model.feature_importances_\n",
    "print(importances)\n",
    "\n"
   ]
  },
  {
   "cell_type": "code",
   "execution_count": null,
   "metadata": {},
   "outputs": [],
   "source": [
    "\n",
    "pred = model.predict(eval_data.drop(['TweetID'], axis=1))\n",
    "#round to integer\n",
    "pred = np.round(pred)\n",
    "# Dump the results into a csv file that follows the required Kaggle template\n",
    "eval_data['retweets_count'] = pred\n",
    "eval_data[[\"TweetID\", \"retweets_count\"]].to_csv(\"data/submission.csv\", index=False)"
   ]
  }
 ],
 "metadata": {
  "kernelspec": {
   "display_name": "Python 3 (ipykernel)",
   "language": "python",
   "name": "python3"
  },
  "language_info": {
   "codemirror_mode": {
    "name": "ipython",
    "version": 3
   },
   "file_extension": ".py",
   "mimetype": "text/x-python",
   "name": "python",
   "nbconvert_exporter": "python",
   "pygments_lexer": "ipython3",
   "version": "3.9.12"
  },
  "vscode": {
   "interpreter": {
    "hash": "ca02d05c83cb06a4d3d1bb3c2ad95bd9ee4b26f688526444572dc942a69d580d"
   }
  }
 },
 "nbformat": 4,
 "nbformat_minor": 2
}
